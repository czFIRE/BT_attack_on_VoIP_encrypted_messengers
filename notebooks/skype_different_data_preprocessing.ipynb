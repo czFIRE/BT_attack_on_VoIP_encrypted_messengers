{
 "cells": [
  {
   "cell_type": "code",
   "execution_count": 1,
   "metadata": {},
   "outputs": [],
   "source": [
    "import pandas as pd\n",
    "import numpy as np\n",
    "import seaborn as sns\n",
    "import matplotlib.pyplot as plt\n",
    "import os\n",
    "\n",
    "sns.set()  # make plots nicer\n",
    "\n",
    "np.random.seed(42)  # set seed for reproducibility"
   ]
  },
  {
   "cell_type": "code",
   "execution_count": 2,
   "metadata": {},
   "outputs": [],
   "source": [
    "def file_parser_with_prev_next(path):\n",
    "    file = open(path, 'r')\n",
    "    lines = file.readlines()\n",
    "    \n",
    "    file_name = [path.split('/')[-1]]\n",
    "    sentence = \"\"\n",
    "    file_data = []\n",
    "    \n",
    "    has_value = False\n",
    "    previous = 0\n",
    "    \n",
    "    for line in lines:\n",
    "        line = line.strip()\n",
    "        \n",
    "        # if there are only 2 informations on line and second is h#, then ignore\n",
    "        # strip line, split primarly on ; secondary on ,\n",
    "        if (line.startswith('#')):\n",
    "            if (not sentence):\n",
    "                sentence = line[len('# Sentence: \"'): len(line) - 1]\n",
    "            continue\n",
    "        \n",
    "        line = line.split(';')\n",
    "        \n",
    "        if (len(line) == 1):\n",
    "            #lines containing only their packet size and nothing else, they should be added\n",
    "            #TODO\n",
    "            line += [\"\"]\n",
    "            line += [\"\"]\n",
    "            #continue\n",
    "        \n",
    "        if (len(line) == 2):\n",
    "            #this tries to remove most of the silence at the start of the recording\n",
    "            #potentionally harmfull as we shouldn't clean test data this way (we will be reading labels)\n",
    "            #if (line[1] == 'h#'):\n",
    "            #    continue\n",
    "            line += [\"\"]\n",
    "        \n",
    "        line[1] = tuple(line[1].split(','))\n",
    "        line[2] = tuple(list(map(lambda a: a.strip('\"'), line[2].split(','))))\n",
    "        \n",
    "        if (has_value):\n",
    "            file_data[-1][-4] = line[0]\n",
    "           \n",
    "        # file_type and sentence contain duplicate informations, but are kept for readability\n",
    "        split_filename = file_name[0].split('-')\n",
    "        \n",
    "        line = file_name + [split_filename[0]] + [split_filename[1]] + [split_filename[2][0:-4]] + [sentence] + [previous] + [0] + line\n",
    "        #adding previous as feature\n",
    "        previous = line[-3]\n",
    "        file_data += [line]\n",
    "        \n",
    "        #adding next frame as feature\n",
    "        has_value = True\n",
    "        \n",
    "    return pd.DataFrame(file_data, columns=['file', 'dialect', 'speaker', 'sentence_id', 'sentence', 'previous_packet', 'next_packet','packet_size', 'phonemes', 'words'])\n",
    "\n",
    "def load_files_with_prev_next(directory):\n",
    "    filelist = os.listdir(directory)\n",
    "    #read them into pandas\n",
    "    df_list = [file_parser_with_prev_next(directory+file) for file in filelist]\n",
    "    #concatenate them together\n",
    "    return pd.concat(df_list, ignore_index=True)\n",
    "\n",
    "def convert_types(data_frame):\n",
    "    data_frame['packet_size'] = pd.to_numeric(data_frame['packet_size'])\n",
    "    data_frame['previous_packet'] = pd.to_numeric(data_frame['previous_packet'])\n",
    "    data_frame['next_packet'] = pd.to_numeric(data_frame['next_packet'])\n",
    "\n",
    "    data_frame['file'] = data_frame['file'].astype('category')\n",
    "    data_frame['sentence'] = data_frame['sentence'].astype('category')\n",
    "    \n",
    "    data_frame['dialect'] = data_frame['dialect'].astype('category')\n",
    "    data_frame['speaker'] = data_frame['speaker'].astype('category')\n",
    "    data_frame['sentence_id'] = data_frame['sentence_id'].astype('category')"
   ]
  },
  {
   "cell_type": "code",
   "execution_count": 3,
   "metadata": {},
   "outputs": [
    {
     "data": {
      "text/html": [
       "<div>\n",
       "<style scoped>\n",
       "    .dataframe tbody tr th:only-of-type {\n",
       "        vertical-align: middle;\n",
       "    }\n",
       "\n",
       "    .dataframe tbody tr th {\n",
       "        vertical-align: top;\n",
       "    }\n",
       "\n",
       "    .dataframe thead th {\n",
       "        text-align: right;\n",
       "    }\n",
       "</style>\n",
       "<table border=\"1\" class=\"dataframe\">\n",
       "  <thead>\n",
       "    <tr style=\"text-align: right;\">\n",
       "      <th></th>\n",
       "      <th>file</th>\n",
       "      <th>dialect</th>\n",
       "      <th>speaker</th>\n",
       "      <th>sentence_id</th>\n",
       "      <th>sentence</th>\n",
       "      <th>previous_packet</th>\n",
       "      <th>next_packet</th>\n",
       "      <th>packet_size</th>\n",
       "      <th>phonemes</th>\n",
       "      <th>words</th>\n",
       "    </tr>\n",
       "  </thead>\n",
       "  <tbody>\n",
       "    <tr>\n",
       "      <th>0</th>\n",
       "      <td>DR1-FAKS0-SA1.CSV</td>\n",
       "      <td>DR1</td>\n",
       "      <td>FAKS0</td>\n",
       "      <td>SA1</td>\n",
       "      <td>She had your dark suit in greasy wash water al...</td>\n",
       "      <td>0</td>\n",
       "      <td>35</td>\n",
       "      <td>30</td>\n",
       "      <td>(h#,)</td>\n",
       "      <td>(,)</td>\n",
       "    </tr>\n",
       "    <tr>\n",
       "      <th>1</th>\n",
       "      <td>DR1-FAKS0-SA1.CSV</td>\n",
       "      <td>DR1</td>\n",
       "      <td>FAKS0</td>\n",
       "      <td>SA1</td>\n",
       "      <td>She had your dark suit in greasy wash water al...</td>\n",
       "      <td>30</td>\n",
       "      <td>43</td>\n",
       "      <td>35</td>\n",
       "      <td>(h#,)</td>\n",
       "      <td>(,)</td>\n",
       "    </tr>\n",
       "    <tr>\n",
       "      <th>2</th>\n",
       "      <td>DR1-FAKS0-SA1.CSV</td>\n",
       "      <td>DR1</td>\n",
       "      <td>FAKS0</td>\n",
       "      <td>SA1</td>\n",
       "      <td>She had your dark suit in greasy wash water al...</td>\n",
       "      <td>35</td>\n",
       "      <td>26</td>\n",
       "      <td>43</td>\n",
       "      <td>(h#,)</td>\n",
       "      <td>(,)</td>\n",
       "    </tr>\n",
       "    <tr>\n",
       "      <th>3</th>\n",
       "      <td>DR1-FAKS0-SA1.CSV</td>\n",
       "      <td>DR1</td>\n",
       "      <td>FAKS0</td>\n",
       "      <td>SA1</td>\n",
       "      <td>She had your dark suit in greasy wash water al...</td>\n",
       "      <td>43</td>\n",
       "      <td>30</td>\n",
       "      <td>26</td>\n",
       "      <td>(h#,)</td>\n",
       "      <td>(,)</td>\n",
       "    </tr>\n",
       "    <tr>\n",
       "      <th>4</th>\n",
       "      <td>DR1-FAKS0-SA1.CSV</td>\n",
       "      <td>DR1</td>\n",
       "      <td>FAKS0</td>\n",
       "      <td>SA1</td>\n",
       "      <td>She had your dark suit in greasy wash water al...</td>\n",
       "      <td>26</td>\n",
       "      <td>31</td>\n",
       "      <td>30</td>\n",
       "      <td>(h#,)</td>\n",
       "      <td>(,)</td>\n",
       "    </tr>\n",
       "    <tr>\n",
       "      <th>...</th>\n",
       "      <td>...</td>\n",
       "      <td>...</td>\n",
       "      <td>...</td>\n",
       "      <td>...</td>\n",
       "      <td>...</td>\n",
       "      <td>...</td>\n",
       "      <td>...</td>\n",
       "      <td>...</td>\n",
       "      <td>...</td>\n",
       "      <td>...</td>\n",
       "    </tr>\n",
       "    <tr>\n",
       "      <th>258516</th>\n",
       "      <td>DR8-MSLB0-SX383.CSV</td>\n",
       "      <td>DR8</td>\n",
       "      <td>MSLB0</td>\n",
       "      <td>SX383</td>\n",
       "      <td>The carpet cleaners shampooed our oriental rug.</td>\n",
       "      <td>40</td>\n",
       "      <td>43</td>\n",
       "      <td>46</td>\n",
       "      <td>(h#,)</td>\n",
       "      <td>(,)</td>\n",
       "    </tr>\n",
       "    <tr>\n",
       "      <th>258517</th>\n",
       "      <td>DR8-MSLB0-SX383.CSV</td>\n",
       "      <td>DR8</td>\n",
       "      <td>MSLB0</td>\n",
       "      <td>SX383</td>\n",
       "      <td>The carpet cleaners shampooed our oriental rug.</td>\n",
       "      <td>46</td>\n",
       "      <td>41</td>\n",
       "      <td>43</td>\n",
       "      <td>(h#,)</td>\n",
       "      <td>(,)</td>\n",
       "    </tr>\n",
       "    <tr>\n",
       "      <th>258518</th>\n",
       "      <td>DR8-MSLB0-SX383.CSV</td>\n",
       "      <td>DR8</td>\n",
       "      <td>MSLB0</td>\n",
       "      <td>SX383</td>\n",
       "      <td>The carpet cleaners shampooed our oriental rug.</td>\n",
       "      <td>43</td>\n",
       "      <td>34</td>\n",
       "      <td>41</td>\n",
       "      <td>(h#,)</td>\n",
       "      <td>(,)</td>\n",
       "    </tr>\n",
       "    <tr>\n",
       "      <th>258519</th>\n",
       "      <td>DR8-MSLB0-SX383.CSV</td>\n",
       "      <td>DR8</td>\n",
       "      <td>MSLB0</td>\n",
       "      <td>SX383</td>\n",
       "      <td>The carpet cleaners shampooed our oriental rug.</td>\n",
       "      <td>41</td>\n",
       "      <td>33</td>\n",
       "      <td>34</td>\n",
       "      <td>(h#,)</td>\n",
       "      <td>(,)</td>\n",
       "    </tr>\n",
       "    <tr>\n",
       "      <th>258520</th>\n",
       "      <td>DR8-MSLB0-SX383.CSV</td>\n",
       "      <td>DR8</td>\n",
       "      <td>MSLB0</td>\n",
       "      <td>SX383</td>\n",
       "      <td>The carpet cleaners shampooed our oriental rug.</td>\n",
       "      <td>34</td>\n",
       "      <td>0</td>\n",
       "      <td>33</td>\n",
       "      <td>(h#,)</td>\n",
       "      <td>(,)</td>\n",
       "    </tr>\n",
       "  </tbody>\n",
       "</table>\n",
       "<p>258521 rows × 10 columns</p>\n",
       "</div>"
      ],
      "text/plain": [
       "                       file dialect speaker sentence_id  \\\n",
       "0         DR1-FAKS0-SA1.CSV     DR1   FAKS0         SA1   \n",
       "1         DR1-FAKS0-SA1.CSV     DR1   FAKS0         SA1   \n",
       "2         DR1-FAKS0-SA1.CSV     DR1   FAKS0         SA1   \n",
       "3         DR1-FAKS0-SA1.CSV     DR1   FAKS0         SA1   \n",
       "4         DR1-FAKS0-SA1.CSV     DR1   FAKS0         SA1   \n",
       "...                     ...     ...     ...         ...   \n",
       "258516  DR8-MSLB0-SX383.CSV     DR8   MSLB0       SX383   \n",
       "258517  DR8-MSLB0-SX383.CSV     DR8   MSLB0       SX383   \n",
       "258518  DR8-MSLB0-SX383.CSV     DR8   MSLB0       SX383   \n",
       "258519  DR8-MSLB0-SX383.CSV     DR8   MSLB0       SX383   \n",
       "258520  DR8-MSLB0-SX383.CSV     DR8   MSLB0       SX383   \n",
       "\n",
       "                                                 sentence  previous_packet  \\\n",
       "0       She had your dark suit in greasy wash water al...                0   \n",
       "1       She had your dark suit in greasy wash water al...               30   \n",
       "2       She had your dark suit in greasy wash water al...               35   \n",
       "3       She had your dark suit in greasy wash water al...               43   \n",
       "4       She had your dark suit in greasy wash water al...               26   \n",
       "...                                                   ...              ...   \n",
       "258516    The carpet cleaners shampooed our oriental rug.               40   \n",
       "258517    The carpet cleaners shampooed our oriental rug.               46   \n",
       "258518    The carpet cleaners shampooed our oriental rug.               43   \n",
       "258519    The carpet cleaners shampooed our oriental rug.               41   \n",
       "258520    The carpet cleaners shampooed our oriental rug.               34   \n",
       "\n",
       "        next_packet  packet_size phonemes words  \n",
       "0                35           30    (h#,)   (,)  \n",
       "1                43           35    (h#,)   (,)  \n",
       "2                26           43    (h#,)   (,)  \n",
       "3                30           26    (h#,)   (,)  \n",
       "4                31           30    (h#,)   (,)  \n",
       "...             ...          ...      ...   ...  \n",
       "258516           43           46    (h#,)   (,)  \n",
       "258517           41           43    (h#,)   (,)  \n",
       "258518           34           41    (h#,)   (,)  \n",
       "258519           33           34    (h#,)   (,)  \n",
       "258520            0           33    (h#,)   (,)  \n",
       "\n",
       "[258521 rows x 10 columns]"
      ]
     },
     "execution_count": 3,
     "metadata": {},
     "output_type": "execute_result"
    }
   ],
   "source": [
    "skype_data_train = load_files_with_prev_next(\"./../data/skype_train_data/\")\n",
    "skype_data_test = load_files_with_prev_next(\"./../data/skype_test_data/\")\n",
    "convert_types(skype_data_train)\n",
    "convert_types(skype_data_test)\n",
    "skype_data_test"
   ]
  },
  {
   "cell_type": "code",
   "execution_count": 4,
   "metadata": {},
   "outputs": [
    {
     "data": {
      "text/html": [
       "<div>\n",
       "<style scoped>\n",
       "    .dataframe tbody tr th:only-of-type {\n",
       "        vertical-align: middle;\n",
       "    }\n",
       "\n",
       "    .dataframe tbody tr th {\n",
       "        vertical-align: top;\n",
       "    }\n",
       "\n",
       "    .dataframe thead th {\n",
       "        text-align: right;\n",
       "    }\n",
       "</style>\n",
       "<table border=\"1\" class=\"dataframe\">\n",
       "  <thead>\n",
       "    <tr style=\"text-align: right;\">\n",
       "      <th></th>\n",
       "      <th>file</th>\n",
       "      <th>dialect</th>\n",
       "      <th>speaker</th>\n",
       "      <th>sentence_id</th>\n",
       "      <th>sentence</th>\n",
       "      <th>previous_packet</th>\n",
       "      <th>next_packet</th>\n",
       "      <th>packet_size</th>\n",
       "      <th>prev_curr</th>\n",
       "      <th>next_curr</th>\n",
       "      <th>packet_surrounding</th>\n",
       "      <th>phonemes</th>\n",
       "      <th>words</th>\n",
       "    </tr>\n",
       "  </thead>\n",
       "  <tbody>\n",
       "    <tr>\n",
       "      <th>0</th>\n",
       "      <td>DR1-FCJF0-SA1.CSV</td>\n",
       "      <td>DR1</td>\n",
       "      <td>FCJF0</td>\n",
       "      <td>SA1</td>\n",
       "      <td>She had your dark suit in greasy wash water al...</td>\n",
       "      <td>0</td>\n",
       "      <td>32</td>\n",
       "      <td>32</td>\n",
       "      <td>(0, 32)</td>\n",
       "      <td>(32, 32)</td>\n",
       "      <td>(0, 32, 32)</td>\n",
       "      <td>(h#,)</td>\n",
       "      <td>(,)</td>\n",
       "    </tr>\n",
       "    <tr>\n",
       "      <th>1</th>\n",
       "      <td>DR1-FCJF0-SA1.CSV</td>\n",
       "      <td>DR1</td>\n",
       "      <td>FCJF0</td>\n",
       "      <td>SA1</td>\n",
       "      <td>She had your dark suit in greasy wash water al...</td>\n",
       "      <td>32</td>\n",
       "      <td>31</td>\n",
       "      <td>32</td>\n",
       "      <td>(32, 32)</td>\n",
       "      <td>(31, 32)</td>\n",
       "      <td>(32, 32, 31)</td>\n",
       "      <td>(h#,)</td>\n",
       "      <td>(,)</td>\n",
       "    </tr>\n",
       "    <tr>\n",
       "      <th>2</th>\n",
       "      <td>DR1-FCJF0-SA1.CSV</td>\n",
       "      <td>DR1</td>\n",
       "      <td>FCJF0</td>\n",
       "      <td>SA1</td>\n",
       "      <td>She had your dark suit in greasy wash water al...</td>\n",
       "      <td>32</td>\n",
       "      <td>28</td>\n",
       "      <td>31</td>\n",
       "      <td>(32, 31)</td>\n",
       "      <td>(28, 31)</td>\n",
       "      <td>(32, 31, 28)</td>\n",
       "      <td>(h#,)</td>\n",
       "      <td>(,)</td>\n",
       "    </tr>\n",
       "    <tr>\n",
       "      <th>3</th>\n",
       "      <td>DR1-FCJF0-SA1.CSV</td>\n",
       "      <td>DR1</td>\n",
       "      <td>FCJF0</td>\n",
       "      <td>SA1</td>\n",
       "      <td>She had your dark suit in greasy wash water al...</td>\n",
       "      <td>31</td>\n",
       "      <td>28</td>\n",
       "      <td>28</td>\n",
       "      <td>(31, 28)</td>\n",
       "      <td>(28, 28)</td>\n",
       "      <td>(31, 28, 28)</td>\n",
       "      <td>(h#,)</td>\n",
       "      <td>(,)</td>\n",
       "    </tr>\n",
       "    <tr>\n",
       "      <th>4</th>\n",
       "      <td>DR1-FCJF0-SA1.CSV</td>\n",
       "      <td>DR1</td>\n",
       "      <td>FCJF0</td>\n",
       "      <td>SA1</td>\n",
       "      <td>She had your dark suit in greasy wash water al...</td>\n",
       "      <td>28</td>\n",
       "      <td>36</td>\n",
       "      <td>28</td>\n",
       "      <td>(28, 28)</td>\n",
       "      <td>(36, 28)</td>\n",
       "      <td>(28, 28, 36)</td>\n",
       "      <td>(h#,)</td>\n",
       "      <td>(,)</td>\n",
       "    </tr>\n",
       "    <tr>\n",
       "      <th>...</th>\n",
       "      <td>...</td>\n",
       "      <td>...</td>\n",
       "      <td>...</td>\n",
       "      <td>...</td>\n",
       "      <td>...</td>\n",
       "      <td>...</td>\n",
       "      <td>...</td>\n",
       "      <td>...</td>\n",
       "      <td>...</td>\n",
       "      <td>...</td>\n",
       "      <td>...</td>\n",
       "      <td>...</td>\n",
       "      <td>...</td>\n",
       "    </tr>\n",
       "    <tr>\n",
       "      <th>707433</th>\n",
       "      <td>DR8-MTCS0-SX82.CSV</td>\n",
       "      <td>DR8</td>\n",
       "      <td>MTCS0</td>\n",
       "      <td>SX82</td>\n",
       "      <td>Good service should be rewarded by big tips.</td>\n",
       "      <td>47</td>\n",
       "      <td>34</td>\n",
       "      <td>32</td>\n",
       "      <td>(47, 32)</td>\n",
       "      <td>(34, 32)</td>\n",
       "      <td>(47, 32, 34)</td>\n",
       "      <td>(h#,)</td>\n",
       "      <td>(,)</td>\n",
       "    </tr>\n",
       "    <tr>\n",
       "      <th>707434</th>\n",
       "      <td>DR8-MTCS0-SX82.CSV</td>\n",
       "      <td>DR8</td>\n",
       "      <td>MTCS0</td>\n",
       "      <td>SX82</td>\n",
       "      <td>Good service should be rewarded by big tips.</td>\n",
       "      <td>32</td>\n",
       "      <td>39</td>\n",
       "      <td>34</td>\n",
       "      <td>(32, 34)</td>\n",
       "      <td>(39, 34)</td>\n",
       "      <td>(32, 34, 39)</td>\n",
       "      <td>(h#,)</td>\n",
       "      <td>(,)</td>\n",
       "    </tr>\n",
       "    <tr>\n",
       "      <th>707435</th>\n",
       "      <td>DR8-MTCS0-SX82.CSV</td>\n",
       "      <td>DR8</td>\n",
       "      <td>MTCS0</td>\n",
       "      <td>SX82</td>\n",
       "      <td>Good service should be rewarded by big tips.</td>\n",
       "      <td>34</td>\n",
       "      <td>33</td>\n",
       "      <td>39</td>\n",
       "      <td>(34, 39)</td>\n",
       "      <td>(33, 39)</td>\n",
       "      <td>(34, 39, 33)</td>\n",
       "      <td>(h#,)</td>\n",
       "      <td>(,)</td>\n",
       "    </tr>\n",
       "    <tr>\n",
       "      <th>707436</th>\n",
       "      <td>DR8-MTCS0-SX82.CSV</td>\n",
       "      <td>DR8</td>\n",
       "      <td>MTCS0</td>\n",
       "      <td>SX82</td>\n",
       "      <td>Good service should be rewarded by big tips.</td>\n",
       "      <td>39</td>\n",
       "      <td>36</td>\n",
       "      <td>33</td>\n",
       "      <td>(39, 33)</td>\n",
       "      <td>(36, 33)</td>\n",
       "      <td>(39, 33, 36)</td>\n",
       "      <td>(h#,)</td>\n",
       "      <td>(,)</td>\n",
       "    </tr>\n",
       "    <tr>\n",
       "      <th>707437</th>\n",
       "      <td>DR8-MTCS0-SX82.CSV</td>\n",
       "      <td>DR8</td>\n",
       "      <td>MTCS0</td>\n",
       "      <td>SX82</td>\n",
       "      <td>Good service should be rewarded by big tips.</td>\n",
       "      <td>33</td>\n",
       "      <td>0</td>\n",
       "      <td>36</td>\n",
       "      <td>(33, 36)</td>\n",
       "      <td>(0, 36)</td>\n",
       "      <td>(33, 36, 0)</td>\n",
       "      <td>(h#,)</td>\n",
       "      <td>(,)</td>\n",
       "    </tr>\n",
       "  </tbody>\n",
       "</table>\n",
       "<p>707438 rows × 13 columns</p>\n",
       "</div>"
      ],
      "text/plain": [
       "                      file dialect speaker sentence_id  \\\n",
       "0        DR1-FCJF0-SA1.CSV     DR1   FCJF0         SA1   \n",
       "1        DR1-FCJF0-SA1.CSV     DR1   FCJF0         SA1   \n",
       "2        DR1-FCJF0-SA1.CSV     DR1   FCJF0         SA1   \n",
       "3        DR1-FCJF0-SA1.CSV     DR1   FCJF0         SA1   \n",
       "4        DR1-FCJF0-SA1.CSV     DR1   FCJF0         SA1   \n",
       "...                    ...     ...     ...         ...   \n",
       "707433  DR8-MTCS0-SX82.CSV     DR8   MTCS0        SX82   \n",
       "707434  DR8-MTCS0-SX82.CSV     DR8   MTCS0        SX82   \n",
       "707435  DR8-MTCS0-SX82.CSV     DR8   MTCS0        SX82   \n",
       "707436  DR8-MTCS0-SX82.CSV     DR8   MTCS0        SX82   \n",
       "707437  DR8-MTCS0-SX82.CSV     DR8   MTCS0        SX82   \n",
       "\n",
       "                                                 sentence  previous_packet  \\\n",
       "0       She had your dark suit in greasy wash water al...                0   \n",
       "1       She had your dark suit in greasy wash water al...               32   \n",
       "2       She had your dark suit in greasy wash water al...               32   \n",
       "3       She had your dark suit in greasy wash water al...               31   \n",
       "4       She had your dark suit in greasy wash water al...               28   \n",
       "...                                                   ...              ...   \n",
       "707433       Good service should be rewarded by big tips.               47   \n",
       "707434       Good service should be rewarded by big tips.               32   \n",
       "707435       Good service should be rewarded by big tips.               34   \n",
       "707436       Good service should be rewarded by big tips.               39   \n",
       "707437       Good service should be rewarded by big tips.               33   \n",
       "\n",
       "        next_packet  packet_size prev_curr next_curr packet_surrounding  \\\n",
       "0                32           32   (0, 32)  (32, 32)        (0, 32, 32)   \n",
       "1                31           32  (32, 32)  (31, 32)       (32, 32, 31)   \n",
       "2                28           31  (32, 31)  (28, 31)       (32, 31, 28)   \n",
       "3                28           28  (31, 28)  (28, 28)       (31, 28, 28)   \n",
       "4                36           28  (28, 28)  (36, 28)       (28, 28, 36)   \n",
       "...             ...          ...       ...       ...                ...   \n",
       "707433           34           32  (47, 32)  (34, 32)       (47, 32, 34)   \n",
       "707434           39           34  (32, 34)  (39, 34)       (32, 34, 39)   \n",
       "707435           33           39  (34, 39)  (33, 39)       (34, 39, 33)   \n",
       "707436           36           33  (39, 33)  (36, 33)       (39, 33, 36)   \n",
       "707437            0           36  (33, 36)   (0, 36)        (33, 36, 0)   \n",
       "\n",
       "       phonemes words  \n",
       "0         (h#,)   (,)  \n",
       "1         (h#,)   (,)  \n",
       "2         (h#,)   (,)  \n",
       "3         (h#,)   (,)  \n",
       "4         (h#,)   (,)  \n",
       "...         ...   ...  \n",
       "707433    (h#,)   (,)  \n",
       "707434    (h#,)   (,)  \n",
       "707435    (h#,)   (,)  \n",
       "707436    (h#,)   (,)  \n",
       "707437    (h#,)   (,)  \n",
       "\n",
       "[707438 rows x 13 columns]"
      ]
     },
     "execution_count": 4,
     "metadata": {},
     "output_type": "execute_result"
    }
   ],
   "source": [
    "def add_surrounding(data_frame):\n",
    "    data_frame['prev_curr'] = list(zip(data_frame.previous_packet, data_frame.packet_size))\n",
    "    data_frame['next_curr'] = list(zip(data_frame.next_packet, data_frame.packet_size))\n",
    "    data_frame['packet_surrounding'] = list(zip(data_frame.previous_packet, data_frame.packet_size, data_frame.next_packet))\n",
    "    \n",
    "    #data_frame['prev_curr'] = data_frame['prev_curr'].astype('category')\n",
    "    #data_frame['next_curr'] = data_frame['next_curr'].astype('category')\n",
    "    #data_frame['packet_surrounding'] = data_frame['packet_surrounding'].astype('category')\n",
    "\n",
    "add_surrounding(skype_data_train)\n",
    "add_surrounding(skype_data_test)\n",
    "\n",
    "skype_data_train = skype_data_train[['file', 'dialect', 'speaker', 'sentence_id', 'sentence', 'previous_packet', 'next_packet','packet_size', 'prev_curr', 'next_curr', 'packet_surrounding', 'phonemes', 'words']]\n",
    "skype_data_test = skype_data_test[['file', 'dialect', 'speaker', 'sentence_id', 'sentence', 'previous_packet', 'next_packet','packet_size', 'prev_curr', 'next_curr', 'packet_surrounding', 'phonemes', 'words']]\n",
    "skype_data_train"
   ]
  },
  {
   "cell_type": "markdown",
   "metadata": {},
   "source": [
    "### Data preparation"
   ]
  },
  {
   "cell_type": "code",
   "execution_count": 5,
   "metadata": {},
   "outputs": [
    {
     "data": {
      "text/html": [
       "<div>\n",
       "<style scoped>\n",
       "    .dataframe tbody tr th:only-of-type {\n",
       "        vertical-align: middle;\n",
       "    }\n",
       "\n",
       "    .dataframe tbody tr th {\n",
       "        vertical-align: top;\n",
       "    }\n",
       "\n",
       "    .dataframe thead th {\n",
       "        text-align: right;\n",
       "    }\n",
       "</style>\n",
       "<table border=\"1\" class=\"dataframe\">\n",
       "  <thead>\n",
       "    <tr style=\"text-align: right;\">\n",
       "      <th></th>\n",
       "      <th>previous_packet</th>\n",
       "      <th>packet_size</th>\n",
       "      <th>next_packet</th>\n",
       "    </tr>\n",
       "  </thead>\n",
       "  <tbody>\n",
       "    <tr>\n",
       "      <th>0</th>\n",
       "      <td>0</td>\n",
       "      <td>32</td>\n",
       "      <td>32</td>\n",
       "    </tr>\n",
       "    <tr>\n",
       "      <th>1</th>\n",
       "      <td>32</td>\n",
       "      <td>32</td>\n",
       "      <td>31</td>\n",
       "    </tr>\n",
       "    <tr>\n",
       "      <th>2</th>\n",
       "      <td>32</td>\n",
       "      <td>31</td>\n",
       "      <td>28</td>\n",
       "    </tr>\n",
       "    <tr>\n",
       "      <th>3</th>\n",
       "      <td>31</td>\n",
       "      <td>28</td>\n",
       "      <td>28</td>\n",
       "    </tr>\n",
       "    <tr>\n",
       "      <th>4</th>\n",
       "      <td>28</td>\n",
       "      <td>28</td>\n",
       "      <td>36</td>\n",
       "    </tr>\n",
       "    <tr>\n",
       "      <th>...</th>\n",
       "      <td>...</td>\n",
       "      <td>...</td>\n",
       "      <td>...</td>\n",
       "    </tr>\n",
       "    <tr>\n",
       "      <th>707433</th>\n",
       "      <td>47</td>\n",
       "      <td>32</td>\n",
       "      <td>34</td>\n",
       "    </tr>\n",
       "    <tr>\n",
       "      <th>707434</th>\n",
       "      <td>32</td>\n",
       "      <td>34</td>\n",
       "      <td>39</td>\n",
       "    </tr>\n",
       "    <tr>\n",
       "      <th>707435</th>\n",
       "      <td>34</td>\n",
       "      <td>39</td>\n",
       "      <td>33</td>\n",
       "    </tr>\n",
       "    <tr>\n",
       "      <th>707436</th>\n",
       "      <td>39</td>\n",
       "      <td>33</td>\n",
       "      <td>36</td>\n",
       "    </tr>\n",
       "    <tr>\n",
       "      <th>707437</th>\n",
       "      <td>33</td>\n",
       "      <td>36</td>\n",
       "      <td>0</td>\n",
       "    </tr>\n",
       "  </tbody>\n",
       "</table>\n",
       "<p>707438 rows × 3 columns</p>\n",
       "</div>"
      ],
      "text/plain": [
       "        previous_packet  packet_size  next_packet\n",
       "0                     0           32           32\n",
       "1                    32           32           31\n",
       "2                    32           31           28\n",
       "3                    31           28           28\n",
       "4                    28           28           36\n",
       "...                 ...          ...          ...\n",
       "707433               47           32           34\n",
       "707434               32           34           39\n",
       "707435               34           39           33\n",
       "707436               39           33           36\n",
       "707437               33           36            0\n",
       "\n",
       "[707438 rows x 3 columns]"
      ]
     },
     "execution_count": 5,
     "metadata": {},
     "output_type": "execute_result"
    }
   ],
   "source": [
    "skype_data_train.loc[:, [\"previous_packet\", \"packet_size\", \"next_packet\"]]"
   ]
  },
  {
   "cell_type": "code",
   "execution_count": 6,
   "metadata": {},
   "outputs": [],
   "source": [
    "from sklearn.preprocessing import StandardScaler\n",
    "from sklearn.preprocessing import LabelEncoder\n",
    "from sklearn.pipeline import Pipeline"
   ]
  },
  {
   "cell_type": "code",
   "execution_count": 7,
   "metadata": {},
   "outputs": [],
   "source": [
    "# add removal of labels for the test_dataset\n",
    "def get_labels(df, label=[\"words\"], feature=[\"previous_packet\", \"packet_size\", \"next_packet\"]):\n",
    "    labels = df.loc[:, label]\n",
    "    features = df.loc[:, feature]\n",
    "    return features, labels"
   ]
  },
  {
   "cell_type": "code",
   "execution_count": 8,
   "metadata": {},
   "outputs": [],
   "source": [
    "def prepare_labels(train_labels, test_labels, label=[\"words\"]):\n",
    "    train_labels = train_labels.astype('category')\n",
    "    test_labels = test_labels.astype('category')\n",
    "    \n",
    "    total_labels = train_labels.append(test_labels)\n",
    "    \n",
    "    lab_enc = LabelEncoder()\n",
    "    lab_enc.fit(total_labels[label])\n",
    "\n",
    "    train_labels = lab_enc.transform(train_labels[label])\n",
    "    test_labels = lab_enc.transform(test_labels[label])\n",
    "    \n",
    "    return train_labels, test_labels, lab_enc"
   ]
  },
  {
   "cell_type": "markdown",
   "metadata": {},
   "source": [
    "### Additional preprocessing"
   ]
  },
  {
   "cell_type": "code",
   "execution_count": 9,
   "metadata": {},
   "outputs": [
    {
     "data": {
      "text/html": [
       "<div>\n",
       "<style scoped>\n",
       "    .dataframe tbody tr th:only-of-type {\n",
       "        vertical-align: middle;\n",
       "    }\n",
       "\n",
       "    .dataframe tbody tr th {\n",
       "        vertical-align: top;\n",
       "    }\n",
       "\n",
       "    .dataframe thead th {\n",
       "        text-align: right;\n",
       "    }\n",
       "</style>\n",
       "<table border=\"1\" class=\"dataframe\">\n",
       "  <thead>\n",
       "    <tr style=\"text-align: right;\">\n",
       "      <th></th>\n",
       "      <th>file</th>\n",
       "      <th>dialect</th>\n",
       "      <th>speaker</th>\n",
       "      <th>sentence_id</th>\n",
       "      <th>sentence</th>\n",
       "      <th>previous_packet</th>\n",
       "      <th>next_packet</th>\n",
       "      <th>packet_size</th>\n",
       "      <th>prev_curr</th>\n",
       "      <th>next_curr</th>\n",
       "      <th>packet_surrounding</th>\n",
       "      <th>phonemes</th>\n",
       "      <th>words</th>\n",
       "    </tr>\n",
       "  </thead>\n",
       "  <tbody>\n",
       "    <tr>\n",
       "      <th>0</th>\n",
       "      <td>DR1-FCJF0-SA1.CSV</td>\n",
       "      <td>DR1</td>\n",
       "      <td>FCJF0</td>\n",
       "      <td>SA1</td>\n",
       "      <td>She had your dark suit in greasy wash water al...</td>\n",
       "      <td>0</td>\n",
       "      <td>32</td>\n",
       "      <td>32</td>\n",
       "      <td>(0, 32)</td>\n",
       "      <td>(32, 32)</td>\n",
       "      <td>(0, 32, 32)</td>\n",
       "      <td>(h#,)</td>\n",
       "      <td>(,)</td>\n",
       "    </tr>\n",
       "    <tr>\n",
       "      <th>1</th>\n",
       "      <td>DR1-FCJF0-SA1.CSV</td>\n",
       "      <td>DR1</td>\n",
       "      <td>FCJF0</td>\n",
       "      <td>SA1</td>\n",
       "      <td>She had your dark suit in greasy wash water al...</td>\n",
       "      <td>32</td>\n",
       "      <td>31</td>\n",
       "      <td>32</td>\n",
       "      <td>(32, 32)</td>\n",
       "      <td>(31, 32)</td>\n",
       "      <td>(32, 32, 31)</td>\n",
       "      <td>(h#,)</td>\n",
       "      <td>(,)</td>\n",
       "    </tr>\n",
       "    <tr>\n",
       "      <th>2</th>\n",
       "      <td>DR1-FCJF0-SA1.CSV</td>\n",
       "      <td>DR1</td>\n",
       "      <td>FCJF0</td>\n",
       "      <td>SA1</td>\n",
       "      <td>She had your dark suit in greasy wash water al...</td>\n",
       "      <td>32</td>\n",
       "      <td>28</td>\n",
       "      <td>31</td>\n",
       "      <td>(32, 31)</td>\n",
       "      <td>(28, 31)</td>\n",
       "      <td>(32, 31, 28)</td>\n",
       "      <td>(h#,)</td>\n",
       "      <td>(,)</td>\n",
       "    </tr>\n",
       "    <tr>\n",
       "      <th>3</th>\n",
       "      <td>DR1-FCJF0-SA1.CSV</td>\n",
       "      <td>DR1</td>\n",
       "      <td>FCJF0</td>\n",
       "      <td>SA1</td>\n",
       "      <td>She had your dark suit in greasy wash water al...</td>\n",
       "      <td>31</td>\n",
       "      <td>28</td>\n",
       "      <td>28</td>\n",
       "      <td>(31, 28)</td>\n",
       "      <td>(28, 28)</td>\n",
       "      <td>(31, 28, 28)</td>\n",
       "      <td>(h#,)</td>\n",
       "      <td>(,)</td>\n",
       "    </tr>\n",
       "    <tr>\n",
       "      <th>4</th>\n",
       "      <td>DR1-FCJF0-SA1.CSV</td>\n",
       "      <td>DR1</td>\n",
       "      <td>FCJF0</td>\n",
       "      <td>SA1</td>\n",
       "      <td>She had your dark suit in greasy wash water al...</td>\n",
       "      <td>28</td>\n",
       "      <td>36</td>\n",
       "      <td>28</td>\n",
       "      <td>(28, 28)</td>\n",
       "      <td>(36, 28)</td>\n",
       "      <td>(28, 28, 36)</td>\n",
       "      <td>(h#,)</td>\n",
       "      <td>(,)</td>\n",
       "    </tr>\n",
       "    <tr>\n",
       "      <th>...</th>\n",
       "      <td>...</td>\n",
       "      <td>...</td>\n",
       "      <td>...</td>\n",
       "      <td>...</td>\n",
       "      <td>...</td>\n",
       "      <td>...</td>\n",
       "      <td>...</td>\n",
       "      <td>...</td>\n",
       "      <td>...</td>\n",
       "      <td>...</td>\n",
       "      <td>...</td>\n",
       "      <td>...</td>\n",
       "      <td>...</td>\n",
       "    </tr>\n",
       "    <tr>\n",
       "      <th>533700</th>\n",
       "      <td>DR8-MTCS0-SX82.CSV</td>\n",
       "      <td>DR8</td>\n",
       "      <td>MTCS0</td>\n",
       "      <td>SX82</td>\n",
       "      <td>Good service should be rewarded by big tips.</td>\n",
       "      <td>47</td>\n",
       "      <td>34</td>\n",
       "      <td>32</td>\n",
       "      <td>(47, 32)</td>\n",
       "      <td>(34, 32)</td>\n",
       "      <td>(47, 32, 34)</td>\n",
       "      <td>(h#,)</td>\n",
       "      <td>(,)</td>\n",
       "    </tr>\n",
       "    <tr>\n",
       "      <th>533701</th>\n",
       "      <td>DR8-MTCS0-SX82.CSV</td>\n",
       "      <td>DR8</td>\n",
       "      <td>MTCS0</td>\n",
       "      <td>SX82</td>\n",
       "      <td>Good service should be rewarded by big tips.</td>\n",
       "      <td>32</td>\n",
       "      <td>39</td>\n",
       "      <td>34</td>\n",
       "      <td>(32, 34)</td>\n",
       "      <td>(39, 34)</td>\n",
       "      <td>(32, 34, 39)</td>\n",
       "      <td>(h#,)</td>\n",
       "      <td>(,)</td>\n",
       "    </tr>\n",
       "    <tr>\n",
       "      <th>533702</th>\n",
       "      <td>DR8-MTCS0-SX82.CSV</td>\n",
       "      <td>DR8</td>\n",
       "      <td>MTCS0</td>\n",
       "      <td>SX82</td>\n",
       "      <td>Good service should be rewarded by big tips.</td>\n",
       "      <td>34</td>\n",
       "      <td>33</td>\n",
       "      <td>39</td>\n",
       "      <td>(34, 39)</td>\n",
       "      <td>(33, 39)</td>\n",
       "      <td>(34, 39, 33)</td>\n",
       "      <td>(h#,)</td>\n",
       "      <td>(,)</td>\n",
       "    </tr>\n",
       "    <tr>\n",
       "      <th>533703</th>\n",
       "      <td>DR8-MTCS0-SX82.CSV</td>\n",
       "      <td>DR8</td>\n",
       "      <td>MTCS0</td>\n",
       "      <td>SX82</td>\n",
       "      <td>Good service should be rewarded by big tips.</td>\n",
       "      <td>39</td>\n",
       "      <td>36</td>\n",
       "      <td>33</td>\n",
       "      <td>(39, 33)</td>\n",
       "      <td>(36, 33)</td>\n",
       "      <td>(39, 33, 36)</td>\n",
       "      <td>(h#,)</td>\n",
       "      <td>(,)</td>\n",
       "    </tr>\n",
       "    <tr>\n",
       "      <th>533704</th>\n",
       "      <td>DR8-MTCS0-SX82.CSV</td>\n",
       "      <td>DR8</td>\n",
       "      <td>MTCS0</td>\n",
       "      <td>SX82</td>\n",
       "      <td>Good service should be rewarded by big tips.</td>\n",
       "      <td>33</td>\n",
       "      <td>0</td>\n",
       "      <td>36</td>\n",
       "      <td>(33, 36)</td>\n",
       "      <td>(0, 36)</td>\n",
       "      <td>(33, 36, 0)</td>\n",
       "      <td>(h#,)</td>\n",
       "      <td>(,)</td>\n",
       "    </tr>\n",
       "  </tbody>\n",
       "</table>\n",
       "<p>533705 rows × 13 columns</p>\n",
       "</div>"
      ],
      "text/plain": [
       "                      file dialect speaker sentence_id  \\\n",
       "0        DR1-FCJF0-SA1.CSV     DR1   FCJF0         SA1   \n",
       "1        DR1-FCJF0-SA1.CSV     DR1   FCJF0         SA1   \n",
       "2        DR1-FCJF0-SA1.CSV     DR1   FCJF0         SA1   \n",
       "3        DR1-FCJF0-SA1.CSV     DR1   FCJF0         SA1   \n",
       "4        DR1-FCJF0-SA1.CSV     DR1   FCJF0         SA1   \n",
       "...                    ...     ...     ...         ...   \n",
       "533700  DR8-MTCS0-SX82.CSV     DR8   MTCS0        SX82   \n",
       "533701  DR8-MTCS0-SX82.CSV     DR8   MTCS0        SX82   \n",
       "533702  DR8-MTCS0-SX82.CSV     DR8   MTCS0        SX82   \n",
       "533703  DR8-MTCS0-SX82.CSV     DR8   MTCS0        SX82   \n",
       "533704  DR8-MTCS0-SX82.CSV     DR8   MTCS0        SX82   \n",
       "\n",
       "                                                 sentence  previous_packet  \\\n",
       "0       She had your dark suit in greasy wash water al...                0   \n",
       "1       She had your dark suit in greasy wash water al...               32   \n",
       "2       She had your dark suit in greasy wash water al...               32   \n",
       "3       She had your dark suit in greasy wash water al...               31   \n",
       "4       She had your dark suit in greasy wash water al...               28   \n",
       "...                                                   ...              ...   \n",
       "533700       Good service should be rewarded by big tips.               47   \n",
       "533701       Good service should be rewarded by big tips.               32   \n",
       "533702       Good service should be rewarded by big tips.               34   \n",
       "533703       Good service should be rewarded by big tips.               39   \n",
       "533704       Good service should be rewarded by big tips.               33   \n",
       "\n",
       "        next_packet  packet_size prev_curr next_curr packet_surrounding  \\\n",
       "0                32           32   (0, 32)  (32, 32)        (0, 32, 32)   \n",
       "1                31           32  (32, 32)  (31, 32)       (32, 32, 31)   \n",
       "2                28           31  (32, 31)  (28, 31)       (32, 31, 28)   \n",
       "3                28           28  (31, 28)  (28, 28)       (31, 28, 28)   \n",
       "4                36           28  (28, 28)  (36, 28)       (28, 28, 36)   \n",
       "...             ...          ...       ...       ...                ...   \n",
       "533700           34           32  (47, 32)  (34, 32)       (47, 32, 34)   \n",
       "533701           39           34  (32, 34)  (39, 34)       (32, 34, 39)   \n",
       "533702           33           39  (34, 39)  (33, 39)       (34, 39, 33)   \n",
       "533703           36           33  (39, 33)  (36, 33)       (39, 33, 36)   \n",
       "533704            0           36  (33, 36)   (0, 36)        (33, 36, 0)   \n",
       "\n",
       "       phonemes words  \n",
       "0         (h#,)   (,)  \n",
       "1         (h#,)   (,)  \n",
       "2         (h#,)   (,)  \n",
       "3         (h#,)   (,)  \n",
       "4         (h#,)   (,)  \n",
       "...         ...   ...  \n",
       "533700    (h#,)   (,)  \n",
       "533701    (h#,)   (,)  \n",
       "533702    (h#,)   (,)  \n",
       "533703    (h#,)   (,)  \n",
       "533704    (h#,)   (,)  \n",
       "\n",
       "[533705 rows x 13 columns]"
      ]
     },
     "execution_count": 9,
     "metadata": {},
     "output_type": "execute_result"
    }
   ],
   "source": [
    "# there are no \"empty\" phonemes\n",
    "single_phonemes_train = skype_data_train.loc[skype_data_train.phonemes.apply(len) == 1].reset_index(drop=True)\n",
    "single_phonemes_train"
   ]
  },
  {
   "cell_type": "code",
   "execution_count": 10,
   "metadata": {},
   "outputs": [
    {
     "data": {
      "text/plain": [
       "62"
      ]
     },
     "execution_count": 10,
     "metadata": {},
     "output_type": "execute_result"
    }
   ],
   "source": [
    "len(pd.unique(single_phonemes_train.phonemes))"
   ]
  },
  {
   "cell_type": "code",
   "execution_count": 11,
   "metadata": {
    "scrolled": true
   },
   "outputs": [
    {
     "data": {
      "text/plain": [
       "array([('h#',), ('sh',), ('ix',), ('hv',), ('eh',), ('jh',), ('ih',),\n",
       "       ('dcl',), ('ah',), ('kcl',), ('k',), ('s',), ('ux',), ('q',),\n",
       "       ('en',), ('r',), ('w',), ('ao',), ('axr',), ('l',), ('y',),\n",
       "       ('uh',), ('n',), ('ae',), ('dx',), ('oy',), ('ax',), ('gcl',),\n",
       "       ('dh',), ('tcl',), ('iy',), ('v',), ('t',), ('f',), ('ow',),\n",
       "       ('d',), ('hh',), ('ch',), ('bcl',), ('aa',), ('em',), ('ng',),\n",
       "       ('m',), ('ay',), ('th',), ('ax-h',), ('ey',), ('p',), ('pcl',),\n",
       "       ('aw',), ('er',), ('z',), ('epi',), ('el',), ('uw',), ('g',),\n",
       "       ('',), ('b',), ('pau',), ('zh',), ('nx',), ('eng',)], dtype=object)"
      ]
     },
     "execution_count": 11,
     "metadata": {},
     "output_type": "execute_result"
    }
   ],
   "source": [
    "pd.unique(single_phonemes_train.phonemes)"
   ]
  },
  {
   "cell_type": "markdown",
   "metadata": {},
   "source": [
    "Taken from: https://github.com/jhasegaw/phonecodes/blob/master/src/phonecode_tables.py"
   ]
  },
  {
   "cell_type": "code",
   "execution_count": 12,
   "metadata": {},
   "outputs": [],
   "source": [
    "arpa_to_ipa = {\n",
    "    'aa':'ɑ',\n",
    "    'ae':'æ',\n",
    "    'ah':'ʌ',\n",
    "    'ah0':'ə',\n",
    "    'ao':'ɔ',\n",
    "    'aw':'aʊ',\n",
    "    'ay':'aɪ',\n",
    "    'eh':'ɛ',\n",
    "    'er':'ɝ',\n",
    "    'er0':'ɚ',\n",
    "    'ey':'eɪ',\n",
    "    'ih':'ɪ',\n",
    "    'ih0':'ɨ',\n",
    "    'iy':'i',\n",
    "    'ow':'oʊ',\n",
    "    'oy':'ɔɪ',\n",
    "    'uh':'ʊ',\n",
    "    'uw':'u',\n",
    "    'b':'b',\n",
    "    'ch':'tʃ',\n",
    "    'd':'d',\n",
    "    'dh':'ð',\n",
    "    'el':'l̩',\n",
    "    'em':'m̩',\n",
    "    'en':'n̩',\n",
    "    'f':'f',\n",
    "    'g':'ɡ',\n",
    "    'hh':'h',\n",
    "    'jh':'dʒ',\n",
    "    'k':'k',\n",
    "    'l':'l',\n",
    "    'm':'m',\n",
    "    'n':'n',\n",
    "    'ng':'ŋ',\n",
    "    'p':'p',\n",
    "    'q':'ʔ',\n",
    "    'r':'ɹ',\n",
    "    's':'s',\n",
    "    'sh':'ʃ',\n",
    "    't':'t',\n",
    "    'th':'θ',\n",
    "    'v':'v',\n",
    "    'w':'w',\n",
    "    'wh':'ʍ',\n",
    "    'y':'j',\n",
    "    'z':'z',\n",
    "    'zh':'ʒ',\n",
    "\n",
    "    'ax':'ə',\n",
    "    'ax-h':'ə̥',\n",
    "    'axr':'ɚ',\n",
    "    'bcl':'b',\n",
    "    'dcl':'d',\n",
    "    'dx':'ɾ',\n",
    "    'eng':'ŋ̍',\n",
    "    'epi':'',\n",
    "    'gcl':'g',\n",
    "    'hv':'ɦ',\n",
    "    'h#':'',\n",
    "    'ix':'ɨ',\n",
    "    'kcl':'k',\n",
    "    'nx':'ɾ̃',\n",
    "    'pau':'',\n",
    "    'pcl':'p',\n",
    "    'tcl':'t',\n",
    "    'ux':'ʉ',\n",
    "    '':'',\n",
    "}"
   ]
  },
  {
   "cell_type": "code",
   "execution_count": 13,
   "metadata": {},
   "outputs": [
    {
     "data": {
      "text/plain": [
       "66"
      ]
     },
     "execution_count": 13,
     "metadata": {},
     "output_type": "execute_result"
    }
   ],
   "source": [
    "len(arpa_to_ipa)"
   ]
  },
  {
   "cell_type": "markdown",
   "metadata": {},
   "source": [
    "This modification is based on this: https://en.wikipedia.org/wiki/ARPABET (+ minor guessing)"
   ]
  },
  {
   "cell_type": "code",
   "execution_count": 14,
   "metadata": {},
   "outputs": [],
   "source": [
    "ipa_allophone = {\n",
    "    'ŋ̍':'n', #should be ŋ\n",
    "    'ə̥':'ɛ',\n",
    "    'ɨ':'ɪ',\n",
    "    'n̩':'n',\n",
    "    'm̩':'m',\n",
    "    'ŋ':'n',\n",
    "    'ɾ̃':'n',\n",
    "    'ð':'θ',\n",
    "    'ʉ':'u',\n",
    "    'ɾ':'d',\n",
    "    'l̩':'l',\n",
    "}"
   ]
  },
  {
   "cell_type": "code",
   "execution_count": 15,
   "metadata": {},
   "outputs": [
    {
     "data": {
      "text/plain": [
       "array(['', 'ʃ', 'ɪ', 'ɦ', 'ɛ', 'dʒ', 'ɪ', 'd', 'ʌ', 'k', 'k', 's', 'u',\n",
       "       'ʔ', 'n', 'ɹ', 'w', 'ɔ', 'ɚ', 'l', 'j', 'ʊ', 'n', 'æ', 'd', 'ɔɪ',\n",
       "       'ə', 'g', 'θ', 't', 'i', 'v', 't', 'f', 'oʊ', 'd', 'h', 'tʃ', 'b',\n",
       "       'ɑ', 'm', 'n', 'm', 'aɪ', 'θ', 'ɛ', 'eɪ', 'p', 'p', 'aʊ', 'ɝ', 'z',\n",
       "       '', 'l', 'u', 'ɡ', '', 'b', '', 'ʒ', 'n', 'n'], dtype=object)"
      ]
     },
     "execution_count": 15,
     "metadata": {},
     "output_type": "execute_result"
    }
   ],
   "source": [
    "uniq_phon = pd.unique(single_phonemes_train.phonemes)\n",
    "for i in range(len(uniq_phon)):\n",
    "    uniq_phon[i] = arpa_to_ipa.get(uniq_phon[i][0], uniq_phon[i][0])\n",
    "    uniq_phon[i] = ipa_allophone.get(uniq_phon[i], uniq_phon[i])\n",
    "    \n",
    "uniq_phon"
   ]
  },
  {
   "cell_type": "code",
   "execution_count": 16,
   "metadata": {},
   "outputs": [
    {
     "data": {
      "text/plain": [
       "43"
      ]
     },
     "execution_count": 16,
     "metadata": {},
     "output_type": "execute_result"
    }
   ],
   "source": [
    "len(np.unique(uniq_phon))"
   ]
  },
  {
   "cell_type": "markdown",
   "metadata": {},
   "source": [
    "Now modifying our input dataset:"
   ]
  },
  {
   "cell_type": "code",
   "execution_count": 17,
   "metadata": {},
   "outputs": [],
   "source": [
    "#input is expected to be a tuple\n",
    "def convert_phoneme(phoneme):\n",
    "    tmp_1 = arpa_to_ipa.get(phoneme[0], phoneme[0])\n",
    "    tmp_2 = ipa_allophone.get(tmp_1, tmp_1)\n",
    "    return tmp_2"
   ]
  },
  {
   "cell_type": "code",
   "execution_count": 18,
   "metadata": {
    "scrolled": true
   },
   "outputs": [
    {
     "data": {
      "text/html": [
       "<div>\n",
       "<style scoped>\n",
       "    .dataframe tbody tr th:only-of-type {\n",
       "        vertical-align: middle;\n",
       "    }\n",
       "\n",
       "    .dataframe tbody tr th {\n",
       "        vertical-align: top;\n",
       "    }\n",
       "\n",
       "    .dataframe thead th {\n",
       "        text-align: right;\n",
       "    }\n",
       "</style>\n",
       "<table border=\"1\" class=\"dataframe\">\n",
       "  <thead>\n",
       "    <tr style=\"text-align: right;\">\n",
       "      <th></th>\n",
       "      <th>file</th>\n",
       "      <th>dialect</th>\n",
       "      <th>speaker</th>\n",
       "      <th>sentence_id</th>\n",
       "      <th>sentence</th>\n",
       "      <th>previous_packet</th>\n",
       "      <th>next_packet</th>\n",
       "      <th>packet_size</th>\n",
       "      <th>prev_curr</th>\n",
       "      <th>next_curr</th>\n",
       "      <th>packet_surrounding</th>\n",
       "      <th>phonemes</th>\n",
       "      <th>words</th>\n",
       "    </tr>\n",
       "  </thead>\n",
       "  <tbody>\n",
       "    <tr>\n",
       "      <th>0</th>\n",
       "      <td>DR1-FAKS0-SA1.CSV</td>\n",
       "      <td>DR1</td>\n",
       "      <td>FAKS0</td>\n",
       "      <td>SA1</td>\n",
       "      <td>She had your dark suit in greasy wash water al...</td>\n",
       "      <td>0</td>\n",
       "      <td>35</td>\n",
       "      <td>30</td>\n",
       "      <td>(0, 30)</td>\n",
       "      <td>(35, 30)</td>\n",
       "      <td>(0, 30, 35)</td>\n",
       "      <td>(h#,)</td>\n",
       "      <td>(,)</td>\n",
       "    </tr>\n",
       "    <tr>\n",
       "      <th>1</th>\n",
       "      <td>DR1-FAKS0-SA1.CSV</td>\n",
       "      <td>DR1</td>\n",
       "      <td>FAKS0</td>\n",
       "      <td>SA1</td>\n",
       "      <td>She had your dark suit in greasy wash water al...</td>\n",
       "      <td>30</td>\n",
       "      <td>43</td>\n",
       "      <td>35</td>\n",
       "      <td>(30, 35)</td>\n",
       "      <td>(43, 35)</td>\n",
       "      <td>(30, 35, 43)</td>\n",
       "      <td>(h#,)</td>\n",
       "      <td>(,)</td>\n",
       "    </tr>\n",
       "    <tr>\n",
       "      <th>2</th>\n",
       "      <td>DR1-FAKS0-SA1.CSV</td>\n",
       "      <td>DR1</td>\n",
       "      <td>FAKS0</td>\n",
       "      <td>SA1</td>\n",
       "      <td>She had your dark suit in greasy wash water al...</td>\n",
       "      <td>35</td>\n",
       "      <td>26</td>\n",
       "      <td>43</td>\n",
       "      <td>(35, 43)</td>\n",
       "      <td>(26, 43)</td>\n",
       "      <td>(35, 43, 26)</td>\n",
       "      <td>(h#,)</td>\n",
       "      <td>(,)</td>\n",
       "    </tr>\n",
       "    <tr>\n",
       "      <th>3</th>\n",
       "      <td>DR1-FAKS0-SA1.CSV</td>\n",
       "      <td>DR1</td>\n",
       "      <td>FAKS0</td>\n",
       "      <td>SA1</td>\n",
       "      <td>She had your dark suit in greasy wash water al...</td>\n",
       "      <td>43</td>\n",
       "      <td>30</td>\n",
       "      <td>26</td>\n",
       "      <td>(43, 26)</td>\n",
       "      <td>(30, 26)</td>\n",
       "      <td>(43, 26, 30)</td>\n",
       "      <td>(h#,)</td>\n",
       "      <td>(,)</td>\n",
       "    </tr>\n",
       "    <tr>\n",
       "      <th>4</th>\n",
       "      <td>DR1-FAKS0-SA1.CSV</td>\n",
       "      <td>DR1</td>\n",
       "      <td>FAKS0</td>\n",
       "      <td>SA1</td>\n",
       "      <td>She had your dark suit in greasy wash water al...</td>\n",
       "      <td>26</td>\n",
       "      <td>31</td>\n",
       "      <td>30</td>\n",
       "      <td>(26, 30)</td>\n",
       "      <td>(31, 30)</td>\n",
       "      <td>(26, 30, 31)</td>\n",
       "      <td>(h#,)</td>\n",
       "      <td>(,)</td>\n",
       "    </tr>\n",
       "    <tr>\n",
       "      <th>...</th>\n",
       "      <td>...</td>\n",
       "      <td>...</td>\n",
       "      <td>...</td>\n",
       "      <td>...</td>\n",
       "      <td>...</td>\n",
       "      <td>...</td>\n",
       "      <td>...</td>\n",
       "      <td>...</td>\n",
       "      <td>...</td>\n",
       "      <td>...</td>\n",
       "      <td>...</td>\n",
       "      <td>...</td>\n",
       "      <td>...</td>\n",
       "    </tr>\n",
       "    <tr>\n",
       "      <th>195608</th>\n",
       "      <td>DR8-MSLB0-SX383.CSV</td>\n",
       "      <td>DR8</td>\n",
       "      <td>MSLB0</td>\n",
       "      <td>SX383</td>\n",
       "      <td>The carpet cleaners shampooed our oriental rug.</td>\n",
       "      <td>40</td>\n",
       "      <td>43</td>\n",
       "      <td>46</td>\n",
       "      <td>(40, 46)</td>\n",
       "      <td>(43, 46)</td>\n",
       "      <td>(40, 46, 43)</td>\n",
       "      <td>(h#,)</td>\n",
       "      <td>(,)</td>\n",
       "    </tr>\n",
       "    <tr>\n",
       "      <th>195609</th>\n",
       "      <td>DR8-MSLB0-SX383.CSV</td>\n",
       "      <td>DR8</td>\n",
       "      <td>MSLB0</td>\n",
       "      <td>SX383</td>\n",
       "      <td>The carpet cleaners shampooed our oriental rug.</td>\n",
       "      <td>46</td>\n",
       "      <td>41</td>\n",
       "      <td>43</td>\n",
       "      <td>(46, 43)</td>\n",
       "      <td>(41, 43)</td>\n",
       "      <td>(46, 43, 41)</td>\n",
       "      <td>(h#,)</td>\n",
       "      <td>(,)</td>\n",
       "    </tr>\n",
       "    <tr>\n",
       "      <th>195610</th>\n",
       "      <td>DR8-MSLB0-SX383.CSV</td>\n",
       "      <td>DR8</td>\n",
       "      <td>MSLB0</td>\n",
       "      <td>SX383</td>\n",
       "      <td>The carpet cleaners shampooed our oriental rug.</td>\n",
       "      <td>43</td>\n",
       "      <td>34</td>\n",
       "      <td>41</td>\n",
       "      <td>(43, 41)</td>\n",
       "      <td>(34, 41)</td>\n",
       "      <td>(43, 41, 34)</td>\n",
       "      <td>(h#,)</td>\n",
       "      <td>(,)</td>\n",
       "    </tr>\n",
       "    <tr>\n",
       "      <th>195611</th>\n",
       "      <td>DR8-MSLB0-SX383.CSV</td>\n",
       "      <td>DR8</td>\n",
       "      <td>MSLB0</td>\n",
       "      <td>SX383</td>\n",
       "      <td>The carpet cleaners shampooed our oriental rug.</td>\n",
       "      <td>41</td>\n",
       "      <td>33</td>\n",
       "      <td>34</td>\n",
       "      <td>(41, 34)</td>\n",
       "      <td>(33, 34)</td>\n",
       "      <td>(41, 34, 33)</td>\n",
       "      <td>(h#,)</td>\n",
       "      <td>(,)</td>\n",
       "    </tr>\n",
       "    <tr>\n",
       "      <th>195612</th>\n",
       "      <td>DR8-MSLB0-SX383.CSV</td>\n",
       "      <td>DR8</td>\n",
       "      <td>MSLB0</td>\n",
       "      <td>SX383</td>\n",
       "      <td>The carpet cleaners shampooed our oriental rug.</td>\n",
       "      <td>34</td>\n",
       "      <td>0</td>\n",
       "      <td>33</td>\n",
       "      <td>(34, 33)</td>\n",
       "      <td>(0, 33)</td>\n",
       "      <td>(34, 33, 0)</td>\n",
       "      <td>(h#,)</td>\n",
       "      <td>(,)</td>\n",
       "    </tr>\n",
       "  </tbody>\n",
       "</table>\n",
       "<p>195613 rows × 13 columns</p>\n",
       "</div>"
      ],
      "text/plain": [
       "                       file dialect speaker sentence_id  \\\n",
       "0         DR1-FAKS0-SA1.CSV     DR1   FAKS0         SA1   \n",
       "1         DR1-FAKS0-SA1.CSV     DR1   FAKS0         SA1   \n",
       "2         DR1-FAKS0-SA1.CSV     DR1   FAKS0         SA1   \n",
       "3         DR1-FAKS0-SA1.CSV     DR1   FAKS0         SA1   \n",
       "4         DR1-FAKS0-SA1.CSV     DR1   FAKS0         SA1   \n",
       "...                     ...     ...     ...         ...   \n",
       "195608  DR8-MSLB0-SX383.CSV     DR8   MSLB0       SX383   \n",
       "195609  DR8-MSLB0-SX383.CSV     DR8   MSLB0       SX383   \n",
       "195610  DR8-MSLB0-SX383.CSV     DR8   MSLB0       SX383   \n",
       "195611  DR8-MSLB0-SX383.CSV     DR8   MSLB0       SX383   \n",
       "195612  DR8-MSLB0-SX383.CSV     DR8   MSLB0       SX383   \n",
       "\n",
       "                                                 sentence  previous_packet  \\\n",
       "0       She had your dark suit in greasy wash water al...                0   \n",
       "1       She had your dark suit in greasy wash water al...               30   \n",
       "2       She had your dark suit in greasy wash water al...               35   \n",
       "3       She had your dark suit in greasy wash water al...               43   \n",
       "4       She had your dark suit in greasy wash water al...               26   \n",
       "...                                                   ...              ...   \n",
       "195608    The carpet cleaners shampooed our oriental rug.               40   \n",
       "195609    The carpet cleaners shampooed our oriental rug.               46   \n",
       "195610    The carpet cleaners shampooed our oriental rug.               43   \n",
       "195611    The carpet cleaners shampooed our oriental rug.               41   \n",
       "195612    The carpet cleaners shampooed our oriental rug.               34   \n",
       "\n",
       "        next_packet  packet_size prev_curr next_curr packet_surrounding  \\\n",
       "0                35           30   (0, 30)  (35, 30)        (0, 30, 35)   \n",
       "1                43           35  (30, 35)  (43, 35)       (30, 35, 43)   \n",
       "2                26           43  (35, 43)  (26, 43)       (35, 43, 26)   \n",
       "3                30           26  (43, 26)  (30, 26)       (43, 26, 30)   \n",
       "4                31           30  (26, 30)  (31, 30)       (26, 30, 31)   \n",
       "...             ...          ...       ...       ...                ...   \n",
       "195608           43           46  (40, 46)  (43, 46)       (40, 46, 43)   \n",
       "195609           41           43  (46, 43)  (41, 43)       (46, 43, 41)   \n",
       "195610           34           41  (43, 41)  (34, 41)       (43, 41, 34)   \n",
       "195611           33           34  (41, 34)  (33, 34)       (41, 34, 33)   \n",
       "195612            0           33  (34, 33)   (0, 33)        (34, 33, 0)   \n",
       "\n",
       "       phonemes words  \n",
       "0         (h#,)   (,)  \n",
       "1         (h#,)   (,)  \n",
       "2         (h#,)   (,)  \n",
       "3         (h#,)   (,)  \n",
       "4         (h#,)   (,)  \n",
       "...         ...   ...  \n",
       "195608    (h#,)   (,)  \n",
       "195609    (h#,)   (,)  \n",
       "195610    (h#,)   (,)  \n",
       "195611    (h#,)   (,)  \n",
       "195612    (h#,)   (,)  \n",
       "\n",
       "[195613 rows x 13 columns]"
      ]
     },
     "execution_count": 18,
     "metadata": {},
     "output_type": "execute_result"
    }
   ],
   "source": [
    "single_phonemes_train = skype_data_train.loc[skype_data_train.phonemes.apply(len) == 1].reset_index(drop=True)\n",
    "single_phonemes_test = skype_data_test.loc[skype_data_test.phonemes.apply(len) == 1].reset_index(drop=True)\n",
    "single_phonemes_test"
   ]
  },
  {
   "cell_type": "code",
   "execution_count": 19,
   "metadata": {
    "scrolled": true
   },
   "outputs": [
    {
     "data": {
      "text/html": [
       "<div>\n",
       "<style scoped>\n",
       "    .dataframe tbody tr th:only-of-type {\n",
       "        vertical-align: middle;\n",
       "    }\n",
       "\n",
       "    .dataframe tbody tr th {\n",
       "        vertical-align: top;\n",
       "    }\n",
       "\n",
       "    .dataframe thead th {\n",
       "        text-align: right;\n",
       "    }\n",
       "</style>\n",
       "<table border=\"1\" class=\"dataframe\">\n",
       "  <thead>\n",
       "    <tr style=\"text-align: right;\">\n",
       "      <th></th>\n",
       "      <th>file</th>\n",
       "      <th>dialect</th>\n",
       "      <th>speaker</th>\n",
       "      <th>sentence_id</th>\n",
       "      <th>sentence</th>\n",
       "      <th>previous_packet</th>\n",
       "      <th>next_packet</th>\n",
       "      <th>packet_size</th>\n",
       "      <th>prev_curr</th>\n",
       "      <th>next_curr</th>\n",
       "      <th>packet_surrounding</th>\n",
       "      <th>phonemes</th>\n",
       "      <th>words</th>\n",
       "    </tr>\n",
       "  </thead>\n",
       "  <tbody>\n",
       "    <tr>\n",
       "      <th>0</th>\n",
       "      <td>DR1-FCJF0-SA1.CSV</td>\n",
       "      <td>DR1</td>\n",
       "      <td>FCJF0</td>\n",
       "      <td>SA1</td>\n",
       "      <td>She had your dark suit in greasy wash water al...</td>\n",
       "      <td>0</td>\n",
       "      <td>32</td>\n",
       "      <td>32</td>\n",
       "      <td>(0, 32)</td>\n",
       "      <td>(32, 32)</td>\n",
       "      <td>(0, 32, 32)</td>\n",
       "      <td></td>\n",
       "      <td>(,)</td>\n",
       "    </tr>\n",
       "    <tr>\n",
       "      <th>1</th>\n",
       "      <td>DR1-FCJF0-SA1.CSV</td>\n",
       "      <td>DR1</td>\n",
       "      <td>FCJF0</td>\n",
       "      <td>SA1</td>\n",
       "      <td>She had your dark suit in greasy wash water al...</td>\n",
       "      <td>32</td>\n",
       "      <td>31</td>\n",
       "      <td>32</td>\n",
       "      <td>(32, 32)</td>\n",
       "      <td>(31, 32)</td>\n",
       "      <td>(32, 32, 31)</td>\n",
       "      <td></td>\n",
       "      <td>(,)</td>\n",
       "    </tr>\n",
       "    <tr>\n",
       "      <th>2</th>\n",
       "      <td>DR1-FCJF0-SA1.CSV</td>\n",
       "      <td>DR1</td>\n",
       "      <td>FCJF0</td>\n",
       "      <td>SA1</td>\n",
       "      <td>She had your dark suit in greasy wash water al...</td>\n",
       "      <td>32</td>\n",
       "      <td>28</td>\n",
       "      <td>31</td>\n",
       "      <td>(32, 31)</td>\n",
       "      <td>(28, 31)</td>\n",
       "      <td>(32, 31, 28)</td>\n",
       "      <td></td>\n",
       "      <td>(,)</td>\n",
       "    </tr>\n",
       "    <tr>\n",
       "      <th>3</th>\n",
       "      <td>DR1-FCJF0-SA1.CSV</td>\n",
       "      <td>DR1</td>\n",
       "      <td>FCJF0</td>\n",
       "      <td>SA1</td>\n",
       "      <td>She had your dark suit in greasy wash water al...</td>\n",
       "      <td>31</td>\n",
       "      <td>28</td>\n",
       "      <td>28</td>\n",
       "      <td>(31, 28)</td>\n",
       "      <td>(28, 28)</td>\n",
       "      <td>(31, 28, 28)</td>\n",
       "      <td></td>\n",
       "      <td>(,)</td>\n",
       "    </tr>\n",
       "    <tr>\n",
       "      <th>4</th>\n",
       "      <td>DR1-FCJF0-SA1.CSV</td>\n",
       "      <td>DR1</td>\n",
       "      <td>FCJF0</td>\n",
       "      <td>SA1</td>\n",
       "      <td>She had your dark suit in greasy wash water al...</td>\n",
       "      <td>28</td>\n",
       "      <td>36</td>\n",
       "      <td>28</td>\n",
       "      <td>(28, 28)</td>\n",
       "      <td>(36, 28)</td>\n",
       "      <td>(28, 28, 36)</td>\n",
       "      <td></td>\n",
       "      <td>(,)</td>\n",
       "    </tr>\n",
       "    <tr>\n",
       "      <th>...</th>\n",
       "      <td>...</td>\n",
       "      <td>...</td>\n",
       "      <td>...</td>\n",
       "      <td>...</td>\n",
       "      <td>...</td>\n",
       "      <td>...</td>\n",
       "      <td>...</td>\n",
       "      <td>...</td>\n",
       "      <td>...</td>\n",
       "      <td>...</td>\n",
       "      <td>...</td>\n",
       "      <td>...</td>\n",
       "      <td>...</td>\n",
       "    </tr>\n",
       "    <tr>\n",
       "      <th>533700</th>\n",
       "      <td>DR8-MTCS0-SX82.CSV</td>\n",
       "      <td>DR8</td>\n",
       "      <td>MTCS0</td>\n",
       "      <td>SX82</td>\n",
       "      <td>Good service should be rewarded by big tips.</td>\n",
       "      <td>47</td>\n",
       "      <td>34</td>\n",
       "      <td>32</td>\n",
       "      <td>(47, 32)</td>\n",
       "      <td>(34, 32)</td>\n",
       "      <td>(47, 32, 34)</td>\n",
       "      <td></td>\n",
       "      <td>(,)</td>\n",
       "    </tr>\n",
       "    <tr>\n",
       "      <th>533701</th>\n",
       "      <td>DR8-MTCS0-SX82.CSV</td>\n",
       "      <td>DR8</td>\n",
       "      <td>MTCS0</td>\n",
       "      <td>SX82</td>\n",
       "      <td>Good service should be rewarded by big tips.</td>\n",
       "      <td>32</td>\n",
       "      <td>39</td>\n",
       "      <td>34</td>\n",
       "      <td>(32, 34)</td>\n",
       "      <td>(39, 34)</td>\n",
       "      <td>(32, 34, 39)</td>\n",
       "      <td></td>\n",
       "      <td>(,)</td>\n",
       "    </tr>\n",
       "    <tr>\n",
       "      <th>533702</th>\n",
       "      <td>DR8-MTCS0-SX82.CSV</td>\n",
       "      <td>DR8</td>\n",
       "      <td>MTCS0</td>\n",
       "      <td>SX82</td>\n",
       "      <td>Good service should be rewarded by big tips.</td>\n",
       "      <td>34</td>\n",
       "      <td>33</td>\n",
       "      <td>39</td>\n",
       "      <td>(34, 39)</td>\n",
       "      <td>(33, 39)</td>\n",
       "      <td>(34, 39, 33)</td>\n",
       "      <td></td>\n",
       "      <td>(,)</td>\n",
       "    </tr>\n",
       "    <tr>\n",
       "      <th>533703</th>\n",
       "      <td>DR8-MTCS0-SX82.CSV</td>\n",
       "      <td>DR8</td>\n",
       "      <td>MTCS0</td>\n",
       "      <td>SX82</td>\n",
       "      <td>Good service should be rewarded by big tips.</td>\n",
       "      <td>39</td>\n",
       "      <td>36</td>\n",
       "      <td>33</td>\n",
       "      <td>(39, 33)</td>\n",
       "      <td>(36, 33)</td>\n",
       "      <td>(39, 33, 36)</td>\n",
       "      <td></td>\n",
       "      <td>(,)</td>\n",
       "    </tr>\n",
       "    <tr>\n",
       "      <th>533704</th>\n",
       "      <td>DR8-MTCS0-SX82.CSV</td>\n",
       "      <td>DR8</td>\n",
       "      <td>MTCS0</td>\n",
       "      <td>SX82</td>\n",
       "      <td>Good service should be rewarded by big tips.</td>\n",
       "      <td>33</td>\n",
       "      <td>0</td>\n",
       "      <td>36</td>\n",
       "      <td>(33, 36)</td>\n",
       "      <td>(0, 36)</td>\n",
       "      <td>(33, 36, 0)</td>\n",
       "      <td></td>\n",
       "      <td>(,)</td>\n",
       "    </tr>\n",
       "  </tbody>\n",
       "</table>\n",
       "<p>533705 rows × 13 columns</p>\n",
       "</div>"
      ],
      "text/plain": [
       "                      file dialect speaker sentence_id  \\\n",
       "0        DR1-FCJF0-SA1.CSV     DR1   FCJF0         SA1   \n",
       "1        DR1-FCJF0-SA1.CSV     DR1   FCJF0         SA1   \n",
       "2        DR1-FCJF0-SA1.CSV     DR1   FCJF0         SA1   \n",
       "3        DR1-FCJF0-SA1.CSV     DR1   FCJF0         SA1   \n",
       "4        DR1-FCJF0-SA1.CSV     DR1   FCJF0         SA1   \n",
       "...                    ...     ...     ...         ...   \n",
       "533700  DR8-MTCS0-SX82.CSV     DR8   MTCS0        SX82   \n",
       "533701  DR8-MTCS0-SX82.CSV     DR8   MTCS0        SX82   \n",
       "533702  DR8-MTCS0-SX82.CSV     DR8   MTCS0        SX82   \n",
       "533703  DR8-MTCS0-SX82.CSV     DR8   MTCS0        SX82   \n",
       "533704  DR8-MTCS0-SX82.CSV     DR8   MTCS0        SX82   \n",
       "\n",
       "                                                 sentence  previous_packet  \\\n",
       "0       She had your dark suit in greasy wash water al...                0   \n",
       "1       She had your dark suit in greasy wash water al...               32   \n",
       "2       She had your dark suit in greasy wash water al...               32   \n",
       "3       She had your dark suit in greasy wash water al...               31   \n",
       "4       She had your dark suit in greasy wash water al...               28   \n",
       "...                                                   ...              ...   \n",
       "533700       Good service should be rewarded by big tips.               47   \n",
       "533701       Good service should be rewarded by big tips.               32   \n",
       "533702       Good service should be rewarded by big tips.               34   \n",
       "533703       Good service should be rewarded by big tips.               39   \n",
       "533704       Good service should be rewarded by big tips.               33   \n",
       "\n",
       "        next_packet  packet_size prev_curr next_curr packet_surrounding  \\\n",
       "0                32           32   (0, 32)  (32, 32)        (0, 32, 32)   \n",
       "1                31           32  (32, 32)  (31, 32)       (32, 32, 31)   \n",
       "2                28           31  (32, 31)  (28, 31)       (32, 31, 28)   \n",
       "3                28           28  (31, 28)  (28, 28)       (31, 28, 28)   \n",
       "4                36           28  (28, 28)  (36, 28)       (28, 28, 36)   \n",
       "...             ...          ...       ...       ...                ...   \n",
       "533700           34           32  (47, 32)  (34, 32)       (47, 32, 34)   \n",
       "533701           39           34  (32, 34)  (39, 34)       (32, 34, 39)   \n",
       "533702           33           39  (34, 39)  (33, 39)       (34, 39, 33)   \n",
       "533703           36           33  (39, 33)  (36, 33)       (39, 33, 36)   \n",
       "533704            0           36  (33, 36)   (0, 36)        (33, 36, 0)   \n",
       "\n",
       "       phonemes words  \n",
       "0                 (,)  \n",
       "1                 (,)  \n",
       "2                 (,)  \n",
       "3                 (,)  \n",
       "4                 (,)  \n",
       "...         ...   ...  \n",
       "533700            (,)  \n",
       "533701            (,)  \n",
       "533702            (,)  \n",
       "533703            (,)  \n",
       "533704            (,)  \n",
       "\n",
       "[533705 rows x 13 columns]"
      ]
     },
     "execution_count": 19,
     "metadata": {},
     "output_type": "execute_result"
    }
   ],
   "source": [
    "single_phonemes_test['phonemes'] = single_phonemes_test[\"phonemes\"].apply(convert_phoneme)\n",
    "single_phonemes_train['phonemes'] = single_phonemes_train[\"phonemes\"].apply(convert_phoneme)\n",
    "single_phonemes_train"
   ]
  },
  {
   "cell_type": "code",
   "execution_count": 20,
   "metadata": {},
   "outputs": [
    {
     "name": "stdout",
     "output_type": "stream",
     "text": [
      "43\n"
     ]
    },
    {
     "data": {
      "text/plain": [
       "array(['', 'ʃ', 'i', 'ɦ', 'æ', 'd', 'ɝ', 'ɑ', 'ɹ', 'k', 's', 'u', 'ɪ',\n",
       "       'n', 'g', 'ɡ', 'w', 'ʔ', 'ɔ', 'l', 'j', 'ɚ', 'oʊ', 't', 'ɛ', 'ɔɪ',\n",
       "       'aɪ', 'θ', 'h', 'z', 'p', 'ə', 'b', 'f', 'v', 'm', 'aʊ', 'ʌ', 'eɪ',\n",
       "       'tʃ', 'ʊ', 'dʒ', 'ʒ'], dtype=object)"
      ]
     },
     "execution_count": 20,
     "metadata": {},
     "output_type": "execute_result"
    }
   ],
   "source": [
    "tmp = pd.unique(single_phonemes_test.phonemes)\n",
    "print(len(tmp))\n",
    "tmp"
   ]
  },
  {
   "cell_type": "code",
   "execution_count": 21,
   "metadata": {},
   "outputs": [
    {
     "name": "stdout",
     "output_type": "stream",
     "text": [
      "43\n",
      "43\n"
     ]
    },
    {
     "data": {
      "text/plain": [
       "43"
      ]
     },
     "execution_count": 21,
     "metadata": {},
     "output_type": "execute_result"
    }
   ],
   "source": [
    "train_set, train_labels = get_labels(single_phonemes_train, label=['phonemes'])\n",
    "test_set, test_labels = get_labels(single_phonemes_test, label=['phonemes'])\n",
    "\n",
    "train_labels = train_labels.astype('category')\n",
    "test_labels = test_labels.astype('category')\n",
    "\n",
    "total_labels = train_labels.append(test_labels)\n",
    "print(len(pd.unique(train_labels.phonemes)))\n",
    "print(len(pd.unique(test_labels.phonemes)))\n",
    "total_unique_phonemes = len(pd.unique(total_labels.phonemes))\n",
    "total_unique_phonemes"
   ]
  },
  {
   "cell_type": "code",
   "execution_count": 22,
   "metadata": {},
   "outputs": [
    {
     "name": "stdout",
     "output_type": "stream",
     "text": [
      "5104\n",
      "2464\n"
     ]
    },
    {
     "data": {
      "text/plain": [
       "6387"
      ]
     },
     "execution_count": 22,
     "metadata": {},
     "output_type": "execute_result"
    }
   ],
   "source": [
    "train_set, train_labels = get_labels(single_phonemes_train)\n",
    "test_set, test_labels = get_labels(single_phonemes_test)\n",
    "\n",
    "train_labels = train_labels.astype('category')\n",
    "test_labels = test_labels.astype('category')\n",
    "\n",
    "total_labels = train_labels.append(test_labels)\n",
    "print(len(pd.unique(train_labels.words)))\n",
    "print(len(pd.unique(test_labels.words)))\n",
    "total_unique_words = len(pd.unique(total_labels.words))\n",
    "total_unique_words"
   ]
  },
  {
   "cell_type": "markdown",
   "metadata": {},
   "source": [
    "### Merging long sequencess"
   ]
  },
  {
   "cell_type": "code",
   "execution_count": 23,
   "metadata": {},
   "outputs": [
    {
     "data": {
      "text/plain": [
       "0         True\n",
       "1         True\n",
       "2         True\n",
       "3         True\n",
       "4         True\n",
       "          ... \n",
       "533699    True\n",
       "533700    True\n",
       "533701    True\n",
       "533702    True\n",
       "533703    True\n",
       "Length: 533704, dtype: bool"
      ]
     },
     "execution_count": 23,
     "metadata": {},
     "output_type": "execute_result"
    }
   ],
   "source": [
    "tmp = single_phonemes_train[[\"file\", \"phonemes\", \"packet_surrounding\"]][1:].reset_index(drop=True) != single_phonemes_train[[\"file\", \"phonemes\", \"packet_surrounding\"]][:-1]\n",
    "prev_not_same = (tmp.phonemes | tmp.packet_surrounding)\n",
    "prev_not_same"
   ]
  },
  {
   "cell_type": "code",
   "execution_count": 24,
   "metadata": {},
   "outputs": [
    {
     "data": {
      "text/plain": [
       "0         True\n",
       "1         True\n",
       "2         True\n",
       "3         True\n",
       "4         True\n",
       "          ... \n",
       "533700    True\n",
       "533701    True\n",
       "533702    True\n",
       "533703    True\n",
       "533704    True\n",
       "Length: 533705, dtype: bool"
      ]
     },
     "execution_count": 24,
     "metadata": {},
     "output_type": "execute_result"
    }
   ],
   "source": [
    "prev_not_same.loc[-1] = True\n",
    "prev_not_same.index = prev_not_same.index + 1\n",
    "prev_not_same.sort_index(inplace=True)\n",
    "prev_not_same"
   ]
  },
  {
   "cell_type": "code",
   "execution_count": 25,
   "metadata": {
    "scrolled": false
   },
   "outputs": [
    {
     "data": {
      "text/html": [
       "<div>\n",
       "<style scoped>\n",
       "    .dataframe tbody tr th:only-of-type {\n",
       "        vertical-align: middle;\n",
       "    }\n",
       "\n",
       "    .dataframe tbody tr th {\n",
       "        vertical-align: top;\n",
       "    }\n",
       "\n",
       "    .dataframe thead th {\n",
       "        text-align: right;\n",
       "    }\n",
       "</style>\n",
       "<table border=\"1\" class=\"dataframe\">\n",
       "  <thead>\n",
       "    <tr style=\"text-align: right;\">\n",
       "      <th></th>\n",
       "      <th>file</th>\n",
       "      <th>dialect</th>\n",
       "      <th>speaker</th>\n",
       "      <th>sentence_id</th>\n",
       "      <th>sentence</th>\n",
       "      <th>previous_packet</th>\n",
       "      <th>next_packet</th>\n",
       "      <th>packet_size</th>\n",
       "      <th>prev_curr</th>\n",
       "      <th>next_curr</th>\n",
       "      <th>packet_surrounding</th>\n",
       "      <th>phonemes</th>\n",
       "      <th>words</th>\n",
       "    </tr>\n",
       "  </thead>\n",
       "  <tbody>\n",
       "    <tr>\n",
       "      <th>3542</th>\n",
       "      <td>DR1-FECD0-SI1418.CSV</td>\n",
       "      <td>DR1</td>\n",
       "      <td>FECD0</td>\n",
       "      <td>SI1418</td>\n",
       "      <td>Personal predispositions tend to blunt the ear...</td>\n",
       "      <td>39</td>\n",
       "      <td>39</td>\n",
       "      <td>39</td>\n",
       "      <td>(39, 39)</td>\n",
       "      <td>(39, 39)</td>\n",
       "      <td>(39, 39, 39)</td>\n",
       "      <td></td>\n",
       "      <td>(,)</td>\n",
       "    </tr>\n",
       "    <tr>\n",
       "      <th>5220</th>\n",
       "      <td>DR1-FETB0-SX248.CSV</td>\n",
       "      <td>DR1</td>\n",
       "      <td>FETB0</td>\n",
       "      <td>SX248</td>\n",
       "      <td>Reading in poor light gives you eyestrain.</td>\n",
       "      <td>33</td>\n",
       "      <td>33</td>\n",
       "      <td>33</td>\n",
       "      <td>(33, 33)</td>\n",
       "      <td>(33, 33)</td>\n",
       "      <td>(33, 33, 33)</td>\n",
       "      <td></td>\n",
       "      <td>(,)</td>\n",
       "    </tr>\n",
       "    <tr>\n",
       "      <th>6012</th>\n",
       "      <td>DR1-FJSP0-SI1763.CSV</td>\n",
       "      <td>DR1</td>\n",
       "      <td>FJSP0</td>\n",
       "      <td>SI1763</td>\n",
       "      <td>That's your headache.</td>\n",
       "      <td>42</td>\n",
       "      <td>42</td>\n",
       "      <td>42</td>\n",
       "      <td>(42, 42)</td>\n",
       "      <td>(42, 42)</td>\n",
       "      <td>(42, 42, 42)</td>\n",
       "      <td></td>\n",
       "      <td>(,)</td>\n",
       "    </tr>\n",
       "    <tr>\n",
       "      <th>6559</th>\n",
       "      <td>DR1-FJSP0-SX444.CSV</td>\n",
       "      <td>DR1</td>\n",
       "      <td>FJSP0</td>\n",
       "      <td>SX444</td>\n",
       "      <td>The toddler found a clamshell near the camp site.</td>\n",
       "      <td>42</td>\n",
       "      <td>42</td>\n",
       "      <td>42</td>\n",
       "      <td>(42, 42)</td>\n",
       "      <td>(42, 42)</td>\n",
       "      <td>(42, 42, 42)</td>\n",
       "      <td></td>\n",
       "      <td>(,)</td>\n",
       "    </tr>\n",
       "    <tr>\n",
       "      <th>8242</th>\n",
       "      <td>DR1-FMEM0-SA2.CSV</td>\n",
       "      <td>DR1</td>\n",
       "      <td>FMEM0</td>\n",
       "      <td>SA2</td>\n",
       "      <td>Don't ask me to carry an oily rag like that.</td>\n",
       "      <td>30</td>\n",
       "      <td>30</td>\n",
       "      <td>30</td>\n",
       "      <td>(30, 30)</td>\n",
       "      <td>(30, 30)</td>\n",
       "      <td>(30, 30, 30)</td>\n",
       "      <td></td>\n",
       "      <td>(,)</td>\n",
       "    </tr>\n",
       "    <tr>\n",
       "      <th>...</th>\n",
       "      <td>...</td>\n",
       "      <td>...</td>\n",
       "      <td>...</td>\n",
       "      <td>...</td>\n",
       "      <td>...</td>\n",
       "      <td>...</td>\n",
       "      <td>...</td>\n",
       "      <td>...</td>\n",
       "      <td>...</td>\n",
       "      <td>...</td>\n",
       "      <td>...</td>\n",
       "      <td>...</td>\n",
       "      <td>...</td>\n",
       "    </tr>\n",
       "    <tr>\n",
       "      <th>515430</th>\n",
       "      <td>DR8-FMBG0-SA1.CSV</td>\n",
       "      <td>DR8</td>\n",
       "      <td>FMBG0</td>\n",
       "      <td>SA1</td>\n",
       "      <td>She had your dark suit in greasy wash water al...</td>\n",
       "      <td>30</td>\n",
       "      <td>30</td>\n",
       "      <td>30</td>\n",
       "      <td>(30, 30)</td>\n",
       "      <td>(30, 30)</td>\n",
       "      <td>(30, 30, 30)</td>\n",
       "      <td></td>\n",
       "      <td>(,)</td>\n",
       "    </tr>\n",
       "    <tr>\n",
       "      <th>518926</th>\n",
       "      <td>DR8-MBCG0-SI2217.CSV</td>\n",
       "      <td>DR8</td>\n",
       "      <td>MBCG0</td>\n",
       "      <td>SI2217</td>\n",
       "      <td>He'd not only told me so, he'd proved it.</td>\n",
       "      <td>63</td>\n",
       "      <td>63</td>\n",
       "      <td>63</td>\n",
       "      <td>(63, 63)</td>\n",
       "      <td>(63, 63)</td>\n",
       "      <td>(63, 63, 63)</td>\n",
       "      <td>i</td>\n",
       "      <td>(he'd,)</td>\n",
       "    </tr>\n",
       "    <tr>\n",
       "      <th>524746</th>\n",
       "      <td>DR8-MKRG0-SX31.CSV</td>\n",
       "      <td>DR8</td>\n",
       "      <td>MKRG0</td>\n",
       "      <td>SX31</td>\n",
       "      <td>A good attitude is unbeatable.</td>\n",
       "      <td>38</td>\n",
       "      <td>38</td>\n",
       "      <td>38</td>\n",
       "      <td>(38, 38)</td>\n",
       "      <td>(38, 38)</td>\n",
       "      <td>(38, 38, 38)</td>\n",
       "      <td></td>\n",
       "      <td>(,)</td>\n",
       "    </tr>\n",
       "    <tr>\n",
       "      <th>525211</th>\n",
       "      <td>DR8-MMEA0-SI2018.CSV</td>\n",
       "      <td>DR8</td>\n",
       "      <td>MMEA0</td>\n",
       "      <td>SI2018</td>\n",
       "      <td>They were shattered.</td>\n",
       "      <td>27</td>\n",
       "      <td>27</td>\n",
       "      <td>27</td>\n",
       "      <td>(27, 27)</td>\n",
       "      <td>(27, 27)</td>\n",
       "      <td>(27, 27, 27)</td>\n",
       "      <td></td>\n",
       "      <td>(,)</td>\n",
       "    </tr>\n",
       "    <tr>\n",
       "      <th>530312</th>\n",
       "      <td>DR8-MRLK0-SA2.CSV</td>\n",
       "      <td>DR8</td>\n",
       "      <td>MRLK0</td>\n",
       "      <td>SA2</td>\n",
       "      <td>Don't ask me to carry an oily rag like that.</td>\n",
       "      <td>43</td>\n",
       "      <td>43</td>\n",
       "      <td>43</td>\n",
       "      <td>(43, 43)</td>\n",
       "      <td>(43, 43)</td>\n",
       "      <td>(43, 43, 43)</td>\n",
       "      <td></td>\n",
       "      <td>(,)</td>\n",
       "    </tr>\n",
       "  </tbody>\n",
       "</table>\n",
       "<p>100 rows × 13 columns</p>\n",
       "</div>"
      ],
      "text/plain": [
       "                        file dialect speaker sentence_id  \\\n",
       "3542    DR1-FECD0-SI1418.CSV     DR1   FECD0      SI1418   \n",
       "5220     DR1-FETB0-SX248.CSV     DR1   FETB0       SX248   \n",
       "6012    DR1-FJSP0-SI1763.CSV     DR1   FJSP0      SI1763   \n",
       "6559     DR1-FJSP0-SX444.CSV     DR1   FJSP0       SX444   \n",
       "8242       DR1-FMEM0-SA2.CSV     DR1   FMEM0         SA2   \n",
       "...                      ...     ...     ...         ...   \n",
       "515430     DR8-FMBG0-SA1.CSV     DR8   FMBG0         SA1   \n",
       "518926  DR8-MBCG0-SI2217.CSV     DR8   MBCG0      SI2217   \n",
       "524746    DR8-MKRG0-SX31.CSV     DR8   MKRG0        SX31   \n",
       "525211  DR8-MMEA0-SI2018.CSV     DR8   MMEA0      SI2018   \n",
       "530312     DR8-MRLK0-SA2.CSV     DR8   MRLK0         SA2   \n",
       "\n",
       "                                                 sentence  previous_packet  \\\n",
       "3542    Personal predispositions tend to blunt the ear...               39   \n",
       "5220           Reading in poor light gives you eyestrain.               33   \n",
       "6012                                That's your headache.               42   \n",
       "6559    The toddler found a clamshell near the camp site.               42   \n",
       "8242         Don't ask me to carry an oily rag like that.               30   \n",
       "...                                                   ...              ...   \n",
       "515430  She had your dark suit in greasy wash water al...               30   \n",
       "518926          He'd not only told me so, he'd proved it.               63   \n",
       "524746                     A good attitude is unbeatable.               38   \n",
       "525211                               They were shattered.               27   \n",
       "530312       Don't ask me to carry an oily rag like that.               43   \n",
       "\n",
       "        next_packet  packet_size prev_curr next_curr packet_surrounding  \\\n",
       "3542             39           39  (39, 39)  (39, 39)       (39, 39, 39)   \n",
       "5220             33           33  (33, 33)  (33, 33)       (33, 33, 33)   \n",
       "6012             42           42  (42, 42)  (42, 42)       (42, 42, 42)   \n",
       "6559             42           42  (42, 42)  (42, 42)       (42, 42, 42)   \n",
       "8242             30           30  (30, 30)  (30, 30)       (30, 30, 30)   \n",
       "...             ...          ...       ...       ...                ...   \n",
       "515430           30           30  (30, 30)  (30, 30)       (30, 30, 30)   \n",
       "518926           63           63  (63, 63)  (63, 63)       (63, 63, 63)   \n",
       "524746           38           38  (38, 38)  (38, 38)       (38, 38, 38)   \n",
       "525211           27           27  (27, 27)  (27, 27)       (27, 27, 27)   \n",
       "530312           43           43  (43, 43)  (43, 43)       (43, 43, 43)   \n",
       "\n",
       "       phonemes    words  \n",
       "3542                 (,)  \n",
       "5220                 (,)  \n",
       "6012                 (,)  \n",
       "6559                 (,)  \n",
       "8242                 (,)  \n",
       "...         ...      ...  \n",
       "515430               (,)  \n",
       "518926        i  (he'd,)  \n",
       "524746               (,)  \n",
       "525211               (,)  \n",
       "530312               (,)  \n",
       "\n",
       "[100 rows x 13 columns]"
      ]
     },
     "execution_count": 25,
     "metadata": {},
     "output_type": "execute_result"
    }
   ],
   "source": [
    "single_phonemes_train.loc[~prev_not_same.values]"
   ]
  },
  {
   "cell_type": "markdown",
   "metadata": {},
   "source": [
    "This is going to only remove around 100 values, which is literally nothing => this won't help us."
   ]
  },
  {
   "cell_type": "markdown",
   "metadata": {},
   "source": [
    "## Models:"
   ]
  },
  {
   "cell_type": "code",
   "execution_count": 26,
   "metadata": {},
   "outputs": [],
   "source": [
    "import keras\n",
    "import tensorflow as tf\n",
    "\n",
    "from keras.utils import to_categorical\n",
    "from keras.models import Sequential\n",
    "from keras.layers import Dense\n",
    "from sklearn.metrics import classification_report"
   ]
  },
  {
   "cell_type": "code",
   "execution_count": 27,
   "metadata": {},
   "outputs": [],
   "source": [
    "single_phonemes_train = skype_data_train.loc[skype_data_train.phonemes.apply(len) == 1].reset_index(drop=True)\n",
    "single_phonemes_test = skype_data_test.loc[skype_data_test.phonemes.apply(len) == 1].reset_index(drop=True)\n",
    "\n",
    "single_phonemes_test['phonemes'] = single_phonemes_test[\"phonemes\"].apply(convert_phoneme)\n",
    "single_phonemes_train['phonemes'] = single_phonemes_train[\"phonemes\"].apply(convert_phoneme)"
   ]
  },
  {
   "cell_type": "code",
   "execution_count": 28,
   "metadata": {},
   "outputs": [
    {
     "name": "stderr",
     "output_type": "stream",
     "text": [
      "/home/xkadlec6/.local/lib/python3.6/site-packages/sklearn/utils/validation.py:63: DataConversionWarning: A column-vector y was passed when a 1d array was expected. Please change the shape of y to (n_samples, ), for example using ravel().\n",
      "  return f(*args, **kwargs)\n"
     ]
    }
   ],
   "source": [
    "train_set, train_labels = get_labels(single_phonemes_train, label=['phonemes'])\n",
    "test_set, test_labels = get_labels(single_phonemes_test, label=['phonemes'])\n",
    "\n",
    "train_labels, test_labels, encoder = prepare_labels(train_labels, test_labels, label=['phonemes'])"
   ]
  },
  {
   "cell_type": "code",
   "execution_count": 29,
   "metadata": {},
   "outputs": [
    {
     "name": "stdout",
     "output_type": "stream",
     "text": [
      "(533705, 3)\n",
      "(533705,)\n"
     ]
    },
    {
     "data": {
      "text/plain": [
       "array([0, 0, 0, ..., 0, 0, 0])"
      ]
     },
     "execution_count": 29,
     "metadata": {},
     "output_type": "execute_result"
    }
   ],
   "source": [
    "print(train_set.shape)\n",
    "print(train_labels.shape)\n",
    "train_labels"
   ]
  },
  {
   "cell_type": "code",
   "execution_count": 30,
   "metadata": {},
   "outputs": [
    {
     "data": {
      "text/plain": [
       "array(['', '', '', ..., '', '', ''], dtype=object)"
      ]
     },
     "execution_count": 30,
     "metadata": {},
     "output_type": "execute_result"
    }
   ],
   "source": [
    "encoder.inverse_transform(train_labels)"
   ]
  },
  {
   "cell_type": "code",
   "execution_count": 31,
   "metadata": {},
   "outputs": [
    {
     "name": "stdout",
     "output_type": "stream",
     "text": [
      "(533705, 43)\n"
     ]
    }
   ],
   "source": [
    "train_labels = to_categorical(train_labels, num_classes=total_unique_phonemes)\n",
    "test_labels = to_categorical(test_labels, num_classes=total_unique_phonemes)\n",
    "print(train_labels.shape)"
   ]
  },
  {
   "cell_type": "code",
   "execution_count": 32,
   "metadata": {},
   "outputs": [
    {
     "name": "stdout",
     "output_type": "stream",
     "text": [
      "Model: \"sequential\"\n",
      "_________________________________________________________________\n",
      "Layer (type)                 Output Shape              Param #   \n",
      "=================================================================\n",
      "dense (Dense)                (None, 512)               2048      \n",
      "_________________________________________________________________\n",
      "dense_1 (Dense)              (None, 256)               131328    \n",
      "_________________________________________________________________\n",
      "dense_2 (Dense)              (None, 43)                11051     \n",
      "=================================================================\n",
      "Total params: 144,427\n",
      "Trainable params: 144,427\n",
      "Non-trainable params: 0\n",
      "_________________________________________________________________\n"
     ]
    }
   ],
   "source": [
    "model = Sequential()\n",
    "\n",
    "model.add(Dense(units=512, activation='relu', input_dim=3*1))  # first hidden layer\n",
    "model.add(Dense(units=256, activation='relu'))  # second hidden layer\n",
    "# model.add(Dense(units=128, activation='relu'))  # third hidden layer\n",
    "model.add(Dense(units=total_unique_phonemes, activation='softmax'))  # output layer\n",
    "# model.add(Dense(units=128))  # output layer\n",
    "\n",
    "model.compile(loss='categorical_crossentropy',\n",
    "              optimizer='adam',\n",
    "              metrics=['accuracy'])\n",
    "\n",
    "model.summary()"
   ]
  },
  {
   "cell_type": "code",
   "execution_count": 33,
   "metadata": {},
   "outputs": [
    {
     "name": "stdout",
     "output_type": "stream",
     "text": [
      "Epoch 1/16\n",
      "2085/2085 [==============================] - 10s 5ms/step - loss: 3.2184 - accuracy: 0.2068\n",
      "Epoch 2/16\n",
      "2085/2085 [==============================] - 10s 5ms/step - loss: 2.8078 - accuracy: 0.2494\n",
      "Epoch 3/16\n",
      "2085/2085 [==============================] - 9s 4ms/step - loss: 2.7889 - accuracy: 0.2523\n",
      "Epoch 4/16\n",
      "2085/2085 [==============================] - 10s 5ms/step - loss: 2.7826 - accuracy: 0.2525\n",
      "Epoch 5/16\n",
      "2085/2085 [==============================] - 10s 5ms/step - loss: 2.7714 - accuracy: 0.2554\n",
      "Epoch 6/16\n",
      "2085/2085 [==============================] - 9s 4ms/step - loss: 2.7690 - accuracy: 0.2548\n",
      "Epoch 7/16\n",
      "2085/2085 [==============================] - 10s 5ms/step - loss: 2.7657 - accuracy: 0.2562\n",
      "Epoch 8/16\n",
      "2085/2085 [==============================] - 10s 5ms/step - loss: 2.7617 - accuracy: 0.2559\n",
      "Epoch 9/16\n",
      "2085/2085 [==============================] - 10s 5ms/step - loss: 2.7622 - accuracy: 0.2563\n",
      "Epoch 10/16\n",
      "2085/2085 [==============================] - 10s 5ms/step - loss: 2.7594 - accuracy: 0.2573\n",
      "Epoch 11/16\n",
      "2085/2085 [==============================] - 10s 5ms/step - loss: 2.7598 - accuracy: 0.2562\n",
      "Epoch 12/16\n",
      "2085/2085 [==============================] - 10s 5ms/step - loss: 2.7595 - accuracy: 0.2562\n",
      "Epoch 13/16\n",
      "2085/2085 [==============================] - 10s 5ms/step - loss: 2.7587 - accuracy: 0.2567\n",
      "Epoch 14/16\n",
      "2085/2085 [==============================] - 10s 5ms/step - loss: 2.7579 - accuracy: 0.2567\n",
      "Epoch 15/16\n",
      "2085/2085 [==============================] - 10s 5ms/step - loss: 2.7543 - accuracy: 0.2579\n",
      "Epoch 16/16\n",
      "2085/2085 [==============================] - 9s 4ms/step - loss: 2.7551 - accuracy: 0.2571\n"
     ]
    },
    {
     "data": {
      "text/plain": [
       "<tensorflow.python.keras.callbacks.History at 0x7f60d0a36a58>"
      ]
     },
     "execution_count": 33,
     "metadata": {},
     "output_type": "execute_result"
    }
   ],
   "source": [
    "model.fit(train_set, train_labels, epochs=16, batch_size=256)"
   ]
  },
  {
   "cell_type": "code",
   "execution_count": 34,
   "metadata": {},
   "outputs": [
    {
     "name": "stdout",
     "output_type": "stream",
     "text": [
      "6113/6113 [==============================] - 8s 1ms/step - loss: 2.7787 - accuracy: 0.2524\n",
      "test loss, test acc: [2.7787461280822754, 0.2523656487464905]\n"
     ]
    }
   ],
   "source": [
    "print(\"test loss, test acc:\", model.evaluate(test_set, test_labels))"
   ]
  },
  {
   "cell_type": "markdown",
   "metadata": {},
   "source": [
    "#### Looking into predictions"
   ]
  },
  {
   "cell_type": "code",
   "execution_count": 35,
   "metadata": {},
   "outputs": [
    {
     "name": "stdout",
     "output_type": "stream",
     "text": [
      "[1.00000000e+00 1.07542077e-15 3.50583390e-16 7.54777837e-12\n",
      " 1.09861426e-11 4.91500946e-21 9.55265643e-18 4.03136536e-13\n",
      " 3.27846626e-12 3.43993527e-19 3.20504403e-16 2.73501496e-17\n",
      " 1.44555767e-09 1.49724753e-17 1.49449358e-14 2.32260337e-13\n",
      " 6.07581117e-19 6.26654006e-11 3.93258141e-17 4.34822317e-10\n",
      " 3.75515911e-17 4.56969722e-16 4.43366638e-16 2.51976388e-20\n",
      " 3.75841050e-18 4.84780334e-15 8.54135319e-17 3.85227323e-15\n",
      " 4.63416629e-20 4.69914887e-17 3.96586226e-16 3.11574293e-14\n",
      " 1.31838031e-18 5.28811616e-16 1.06129007e-25 6.86194647e-15\n",
      " 2.94472576e-18 7.81698707e-19 3.34474689e-28 2.98764469e-17\n",
      " 1.85790032e-28 2.54921388e-12 3.53677157e-11]\n"
     ]
    },
    {
     "data": {
      "text/plain": [
       "0"
      ]
     },
     "execution_count": 35,
     "metadata": {},
     "output_type": "execute_result"
    }
   ],
   "source": [
    "predictions = model.predict(train_set)\n",
    "print(predictions[0])\n",
    "np.argmax(predictions[0])"
   ]
  },
  {
   "cell_type": "code",
   "execution_count": 66,
   "metadata": {},
   "outputs": [
    {
     "data": {
      "text/plain": [
       "array([['', 145336],\n",
       "       ['d', 5059],\n",
       "       ['dʒ', 146],\n",
       "       ['f', 28],\n",
       "       ['i', 25854],\n",
       "       ['k', 20251],\n",
       "       ['n', 16699],\n",
       "       ['p', 505],\n",
       "       ['s', 174040],\n",
       "       ['t', 2876],\n",
       "       ['w', 1762],\n",
       "       ['z', 7102],\n",
       "       ['æ', 41961],\n",
       "       ['ɑ', 160],\n",
       "       ['ɛ', 41],\n",
       "       ['ɦ', 57],\n",
       "       ['ɪ', 82936],\n",
       "       ['ɹ', 8414],\n",
       "       ['ʔ', 221],\n",
       "       ['θ', 257]], dtype=object)"
      ]
     },
     "execution_count": 66,
     "metadata": {},
     "output_type": "execute_result"
    }
   ],
   "source": [
    "predictions_array = [np.argmax(x) for x in predictions]\n",
    "#encoder.inverse_transform(predictions_array).value_counts()\n",
    "np.asarray((np.unique(encoder.inverse_transform(predictions_array), return_counts=True))).T"
   ]
  },
  {
   "cell_type": "code",
   "execution_count": 37,
   "metadata": {
    "scrolled": true
   },
   "outputs": [
    {
     "data": {
      "text/html": [
       "<div>\n",
       "<style scoped>\n",
       "    .dataframe tbody tr th:only-of-type {\n",
       "        vertical-align: middle;\n",
       "    }\n",
       "\n",
       "    .dataframe tbody tr th {\n",
       "        vertical-align: top;\n",
       "    }\n",
       "\n",
       "    .dataframe thead th {\n",
       "        text-align: right;\n",
       "    }\n",
       "</style>\n",
       "<table border=\"1\" class=\"dataframe\">\n",
       "  <thead>\n",
       "    <tr style=\"text-align: right;\">\n",
       "      <th></th>\n",
       "      <th>phonemes</th>\n",
       "      <th>predictions</th>\n",
       "      <th>words</th>\n",
       "    </tr>\n",
       "  </thead>\n",
       "  <tbody>\n",
       "    <tr>\n",
       "      <th>0</th>\n",
       "      <td></td>\n",
       "      <td></td>\n",
       "      <td>(,)</td>\n",
       "    </tr>\n",
       "    <tr>\n",
       "      <th>1</th>\n",
       "      <td></td>\n",
       "      <td></td>\n",
       "      <td>(,)</td>\n",
       "    </tr>\n",
       "    <tr>\n",
       "      <th>2</th>\n",
       "      <td></td>\n",
       "      <td></td>\n",
       "      <td>(,)</td>\n",
       "    </tr>\n",
       "    <tr>\n",
       "      <th>3</th>\n",
       "      <td></td>\n",
       "      <td></td>\n",
       "      <td>(,)</td>\n",
       "    </tr>\n",
       "    <tr>\n",
       "      <th>4</th>\n",
       "      <td></td>\n",
       "      <td></td>\n",
       "      <td>(,)</td>\n",
       "    </tr>\n",
       "    <tr>\n",
       "      <th>...</th>\n",
       "      <td>...</td>\n",
       "      <td>...</td>\n",
       "      <td>...</td>\n",
       "    </tr>\n",
       "    <tr>\n",
       "      <th>533700</th>\n",
       "      <td></td>\n",
       "      <td></td>\n",
       "      <td>(,)</td>\n",
       "    </tr>\n",
       "    <tr>\n",
       "      <th>533701</th>\n",
       "      <td></td>\n",
       "      <td></td>\n",
       "      <td>(,)</td>\n",
       "    </tr>\n",
       "    <tr>\n",
       "      <th>533702</th>\n",
       "      <td></td>\n",
       "      <td></td>\n",
       "      <td>(,)</td>\n",
       "    </tr>\n",
       "    <tr>\n",
       "      <th>533703</th>\n",
       "      <td></td>\n",
       "      <td></td>\n",
       "      <td>(,)</td>\n",
       "    </tr>\n",
       "    <tr>\n",
       "      <th>533704</th>\n",
       "      <td></td>\n",
       "      <td></td>\n",
       "      <td>(,)</td>\n",
       "    </tr>\n",
       "  </tbody>\n",
       "</table>\n",
       "<p>533705 rows × 3 columns</p>\n",
       "</div>"
      ],
      "text/plain": [
       "       phonemes predictions words\n",
       "0                             (,)\n",
       "1                             (,)\n",
       "2                             (,)\n",
       "3                             (,)\n",
       "4                             (,)\n",
       "...         ...         ...   ...\n",
       "533700                        (,)\n",
       "533701                        (,)\n",
       "533702                        (,)\n",
       "533703                        (,)\n",
       "533704                        (,)\n",
       "\n",
       "[533705 rows x 3 columns]"
      ]
     },
     "execution_count": 37,
     "metadata": {},
     "output_type": "execute_result"
    }
   ],
   "source": [
    "comparison = single_phonemes_train.assign(predictions=encoder.inverse_transform(predictions_array))\n",
    "compar = comparison[[\"phonemes\", \"predictions\", \"words\"]]\n",
    "compar"
   ]
  },
  {
   "cell_type": "code",
   "execution_count": 38,
   "metadata": {
    "scrolled": true
   },
   "outputs": [
    {
     "name": "stdout",
     "output_type": "stream",
     "text": [
      "\n",
      "\n",
      "Now showing values for phoneme: \n",
      "Accuraccy: 0.9269229119299901\n"
     ]
    },
    {
     "data": {
      "text/plain": [
       "     86430\n",
       "n     1366\n",
       "s     1260\n",
       "æ     1142\n",
       "k     1014\n",
       "ɪ      732\n",
       "i      710\n",
       "d      418\n",
       "t       95\n",
       "p       25\n",
       "w       25\n",
       "ɹ       10\n",
       "θ        9\n",
       "ʔ        8\n",
       "Name: predictions, dtype: int64"
      ]
     },
     "metadata": {},
     "output_type": "display_data"
    },
    {
     "name": "stdout",
     "output_type": "stream",
     "text": [
      "\n",
      "\n",
      "Now showing values for phoneme: ʃ\n",
      "Accuraccy: 0.0\n"
     ]
    },
    {
     "data": {
      "text/plain": [
       "s     8894\n",
       "ɪ      868\n",
       "z      182\n",
       "æ      181\n",
       "k      154\n",
       "i      144\n",
       "n      109\n",
       "ɹ       56\n",
       "        21\n",
       "t       14\n",
       "w        7\n",
       "dʒ       1\n",
       "d        1\n",
       "ʔ        1\n",
       "ɑ        1\n",
       "Name: predictions, dtype: int64"
      ]
     },
     "metadata": {},
     "output_type": "display_data"
    },
    {
     "name": "stdout",
     "output_type": "stream",
     "text": [
      "\n",
      "\n",
      "Now showing values for phoneme: ɪ\n",
      "Accuraccy: 0.2790738839522781\n"
     ]
    },
    {
     "data": {
      "text/plain": [
       "s     11864\n",
       "ɪ      7883\n",
       "æ      2759\n",
       "i      2080\n",
       "       1088\n",
       "n       994\n",
       "ɹ       638\n",
       "z       399\n",
       "k       329\n",
       "w        83\n",
       "d        51\n",
       "t        41\n",
       "ɑ        10\n",
       "θ        10\n",
       "dʒ        7\n",
       "ɛ         5\n",
       "ʔ         3\n",
       "ɦ         3\n",
       "Name: predictions, dtype: int64"
      ]
     },
     "metadata": {},
     "output_type": "display_data"
    },
    {
     "name": "stdout",
     "output_type": "stream",
     "text": [
      "\n",
      "\n",
      "Now showing values for phoneme: ɦ\n",
      "Accuraccy: 0.0018214936247723133\n"
     ]
    },
    {
     "data": {
      "text/plain": [
       "s     1299\n",
       "ɪ      503\n",
       "z      457\n",
       "ɹ      167\n",
       "æ      143\n",
       "i       64\n",
       "        52\n",
       "n       21\n",
       "w       13\n",
       "k       11\n",
       "ɑ        8\n",
       "ɦ        5\n",
       "dʒ       1\n",
       "d        1\n",
       "Name: predictions, dtype: int64"
      ]
     },
     "metadata": {},
     "output_type": "display_data"
    },
    {
     "name": "stdout",
     "output_type": "stream",
     "text": [
      "\n",
      "\n",
      "Now showing values for phoneme: ɛ\n",
      "Accuraccy: 0.00014378145219266715\n"
     ]
    },
    {
     "data": {
      "text/plain": [
       "s     6524\n",
       "ɪ     3436\n",
       "æ     1318\n",
       "i     1033\n",
       "       505\n",
       "n      407\n",
       "z      259\n",
       "ɹ      242\n",
       "k       89\n",
       "w       42\n",
       "t       20\n",
       "d       16\n",
       "ɑ        6\n",
       "dʒ       4\n",
       "ɦ        2\n",
       "ɛ        2\n",
       "ʔ        2\n",
       "θ        2\n",
       "f        1\n",
       "Name: predictions, dtype: int64"
      ]
     },
     "metadata": {},
     "output_type": "display_data"
    },
    {
     "name": "stdout",
     "output_type": "stream",
     "text": [
      "\n",
      "\n",
      "Now showing values for phoneme: dʒ\n",
      "Accuraccy: 0.003954305799648506\n"
     ]
    },
    {
     "data": {
      "text/plain": [
       "s     1165\n",
       "k      363\n",
       "ɪ      344\n",
       "t       86\n",
       "ɹ       76\n",
       "z       74\n",
       "æ       60\n",
       "w       34\n",
       "        27\n",
       "i       21\n",
       "n       11\n",
       "dʒ       9\n",
       "ʔ        4\n",
       "θ        1\n",
       "ɦ        1\n",
       "Name: predictions, dtype: int64"
      ]
     },
     "metadata": {},
     "output_type": "display_data"
    },
    {
     "name": "stdout",
     "output_type": "stream",
     "text": [
      "\n",
      "\n",
      "Now showing values for phoneme: d\n",
      "Accuraccy: 0.10005109862033724\n"
     ]
    },
    {
     "data": {
      "text/plain": [
       "      4927\n",
       "k     1584\n",
       "d      979\n",
       "ɪ      596\n",
       "s      477\n",
       "n      445\n",
       "t      236\n",
       "i      195\n",
       "æ      191\n",
       "ɹ       67\n",
       "w       25\n",
       "p       18\n",
       "ʔ       17\n",
       "θ       12\n",
       "z        8\n",
       "ɑ        3\n",
       "dʒ       3\n",
       "ɛ        1\n",
       "ɦ        1\n",
       "Name: predictions, dtype: int64"
      ]
     },
     "metadata": {},
     "output_type": "display_data"
    },
    {
     "name": "stdout",
     "output_type": "stream",
     "text": [
      "\n",
      "\n",
      "Now showing values for phoneme: ʌ\n",
      "Accuraccy: 0.0\n"
     ]
    },
    {
     "data": {
      "text/plain": [
       "s     3731\n",
       "ɪ     2018\n",
       "æ      730\n",
       "i      520\n",
       "z      239\n",
       "       199\n",
       "ɹ      198\n",
       "n      148\n",
       "k       66\n",
       "w       25\n",
       "d        8\n",
       "ɑ        8\n",
       "t        6\n",
       "dʒ       5\n",
       "ɦ        3\n",
       "ʔ        3\n",
       "f        2\n",
       "Name: predictions, dtype: int64"
      ]
     },
     "metadata": {},
     "output_type": "display_data"
    },
    {
     "name": "stdout",
     "output_type": "stream",
     "text": [
      "\n",
      "\n",
      "Now showing values for phoneme: k\n",
      "Accuraccy: 0.23513822490126793\n"
     ]
    },
    {
     "data": {
      "text/plain": [
       "      7874\n",
       "k     4525\n",
       "s     2293\n",
       "ɪ     1455\n",
       "æ      758\n",
       "d      723\n",
       "t      591\n",
       "n      404\n",
       "i      293\n",
       "p      128\n",
       "ɹ       80\n",
       "w       78\n",
       "ʔ       18\n",
       "θ       10\n",
       "dʒ       8\n",
       "z        3\n",
       "ɛ        2\n",
       "ɑ        1\n",
       "Name: predictions, dtype: int64"
      ]
     },
     "metadata": {},
     "output_type": "display_data"
    },
    {
     "name": "stdout",
     "output_type": "stream",
     "text": [
      "\n",
      "\n",
      "Now showing values for phoneme: s\n",
      "Accuraccy: 0.7797886202403359\n"
     ]
    },
    {
     "data": {
      "text/plain": [
       "s     26930\n",
       "ɪ      4171\n",
       "æ      1165\n",
       "i       640\n",
       "z       484\n",
       "k       389\n",
       "n       309\n",
       "ɹ       209\n",
       "        125\n",
       "t        59\n",
       "w        34\n",
       "dʒ        8\n",
       "ɑ         3\n",
       "θ         2\n",
       "ɦ         2\n",
       "d         2\n",
       "ɛ         1\n",
       "ʔ         1\n",
       "f         1\n",
       "Name: predictions, dtype: int64"
      ]
     },
     "metadata": {},
     "output_type": "display_data"
    },
    {
     "name": "stdout",
     "output_type": "stream",
     "text": [
      "\n",
      "\n",
      "Now showing values for phoneme: u\n",
      "Accuraccy: 0.0\n"
     ]
    },
    {
     "data": {
      "text/plain": [
       "s    3228\n",
       "ɪ    2434\n",
       "æ    1748\n",
       "     1337\n",
       "i    1083\n",
       "n     570\n",
       "ɹ     161\n",
       "k      59\n",
       "z      48\n",
       "w      32\n",
       "d      17\n",
       "θ      10\n",
       "ʔ       5\n",
       "t       4\n",
       "ɛ       2\n",
       "ɦ       1\n",
       "f       1\n",
       "Name: predictions, dtype: int64"
      ]
     },
     "metadata": {},
     "output_type": "display_data"
    },
    {
     "name": "stdout",
     "output_type": "stream",
     "text": [
      "\n",
      "\n",
      "Now showing values for phoneme: ʔ\n",
      "Accuraccy: 0.003963830050786573\n"
     ]
    },
    {
     "data": {
      "text/plain": [
       "      2688\n",
       "s     1105\n",
       "ɪ     1023\n",
       "k      904\n",
       "æ      669\n",
       "n      534\n",
       "i      391\n",
       "d      339\n",
       "t      128\n",
       "ɹ      113\n",
       "w       77\n",
       "ʔ       32\n",
       "z       27\n",
       "θ       25\n",
       "p       11\n",
       "ɑ        2\n",
       "ɛ        2\n",
       "f        2\n",
       "dʒ       1\n",
       "Name: predictions, dtype: int64"
      ]
     },
     "metadata": {},
     "output_type": "display_data"
    },
    {
     "name": "stdout",
     "output_type": "stream",
     "text": [
      "\n",
      "\n",
      "Now showing values for phoneme: n\n",
      "Accuraccy: 0.11617207269381183\n"
     ]
    },
    {
     "data": {
      "text/plain": [
       "      4768\n",
       "ɪ     3176\n",
       "s     2880\n",
       "n     2020\n",
       "æ     1860\n",
       "i     1798\n",
       "d      325\n",
       "k      274\n",
       "ɹ      132\n",
       "w       78\n",
       "θ       31\n",
       "t       19\n",
       "z       12\n",
       "ʔ        7\n",
       "f        4\n",
       "dʒ       3\n",
       "ɑ        1\n",
       "Name: predictions, dtype: int64"
      ]
     },
     "metadata": {},
     "output_type": "display_data"
    },
    {
     "name": "stdout",
     "output_type": "stream",
     "text": [
      "\n",
      "\n",
      "Now showing values for phoneme: ɹ\n",
      "Accuraccy: 0.07102789569436022\n"
     ]
    },
    {
     "data": {
      "text/plain": [
       "s     5078\n",
       "ɪ     3015\n",
       "æ     1883\n",
       "ɹ      937\n",
       "       753\n",
       "i      568\n",
       "n      294\n",
       "z      270\n",
       "k      192\n",
       "w      144\n",
       "d       17\n",
       "t       10\n",
       "dʒ      10\n",
       "ɑ        8\n",
       "ʔ        7\n",
       "ɦ        4\n",
       "θ        2\n",
       "Name: predictions, dtype: int64"
      ]
     },
     "metadata": {},
     "output_type": "display_data"
    },
    {
     "name": "stdout",
     "output_type": "stream",
     "text": [
      "\n",
      "\n",
      "Now showing values for phoneme: w\n",
      "Accuraccy: 0.022445607270724317\n"
     ]
    },
    {
     "data": {
      "text/plain": [
       "s     1934\n",
       "ɪ     1394\n",
       "æ     1350\n",
       "       836\n",
       "ɹ      499\n",
       "i      414\n",
       "k      317\n",
       "n      212\n",
       "w      163\n",
       "z       81\n",
       "d       23\n",
       "ʔ       12\n",
       "t       12\n",
       "dʒ       6\n",
       "ɑ        5\n",
       "θ        3\n",
       "p        1\n",
       "Name: predictions, dtype: int64"
      ]
     },
     "metadata": {},
     "output_type": "display_data"
    },
    {
     "name": "stdout",
     "output_type": "stream",
     "text": [
      "\n",
      "\n",
      "Now showing values for phoneme: ɔ\n",
      "Accuraccy: 0.0\n"
     ]
    },
    {
     "data": {
      "text/plain": [
       "s     7278\n",
       "ɪ     3469\n",
       "æ     1734\n",
       "i      888\n",
       "       598\n",
       "ɹ      416\n",
       "n      350\n",
       "z      327\n",
       "k       95\n",
       "w       40\n",
       "t       12\n",
       "ɑ        8\n",
       "ɦ        4\n",
       "dʒ       4\n",
       "ʔ        4\n",
       "d        4\n",
       "θ        1\n",
       "f        1\n",
       "Name: predictions, dtype: int64"
      ]
     },
     "metadata": {},
     "output_type": "display_data"
    },
    {
     "name": "stdout",
     "output_type": "stream",
     "text": [
      "\n",
      "\n",
      "Now showing values for phoneme: ɚ\n",
      "Accuraccy: 0.0\n"
     ]
    },
    {
     "data": {
      "text/plain": [
       "s     4110\n",
       "ɪ     2542\n",
       "æ     1535\n",
       "i      806\n",
       "       639\n",
       "n      381\n",
       "ɹ      207\n",
       "z       75\n",
       "k       68\n",
       "w       13\n",
       "d       12\n",
       "ɑ        6\n",
       "t        3\n",
       "θ        2\n",
       "ʔ        1\n",
       "ɛ        1\n",
       "dʒ       1\n",
       "Name: predictions, dtype: int64"
      ]
     },
     "metadata": {},
     "output_type": "display_data"
    },
    {
     "name": "stdout",
     "output_type": "stream",
     "text": [
      "\n",
      "\n",
      "Now showing values for phoneme: l\n",
      "Accuraccy: 0.0\n"
     ]
    },
    {
     "data": {
      "text/plain": [
       "s     5860\n",
       "ɪ     3968\n",
       "æ     1936\n",
       "i      935\n",
       "ɹ      663\n",
       "       627\n",
       "n      433\n",
       "z      168\n",
       "k      164\n",
       "w       71\n",
       "d       25\n",
       "t       12\n",
       "ɑ       10\n",
       "θ        5\n",
       "dʒ       4\n",
       "ʔ        3\n",
       "ɦ        2\n",
       "ɛ        2\n",
       "Name: predictions, dtype: int64"
      ]
     },
     "metadata": {},
     "output_type": "display_data"
    },
    {
     "name": "stdout",
     "output_type": "stream",
     "text": [
      "\n",
      "\n",
      "Now showing values for phoneme: j\n",
      "Accuraccy: 0.0\n"
     ]
    },
    {
     "data": {
      "text/plain": [
       "s     1345\n",
       "ɪ      852\n",
       "æ      663\n",
       "       345\n",
       "i      331\n",
       "n      204\n",
       "k       83\n",
       "ɹ       78\n",
       "z       24\n",
       "w       15\n",
       "d       14\n",
       "t        9\n",
       "dʒ       2\n",
       "ɑ        2\n",
       "ʔ        1\n",
       "p        1\n",
       "Name: predictions, dtype: int64"
      ]
     },
     "metadata": {},
     "output_type": "display_data"
    },
    {
     "name": "stdout",
     "output_type": "stream",
     "text": [
      "\n",
      "\n",
      "Now showing values for phoneme: ʊ\n",
      "Accuraccy: 0.0\n"
     ]
    },
    {
     "data": {
      "text/plain": [
       "s    709\n",
       "ɪ    419\n",
       "æ    119\n",
       "i     93\n",
       "z     42\n",
       "      38\n",
       "ɹ     35\n",
       "n     32\n",
       "k     11\n",
       "ɑ      2\n",
       "w      2\n",
       "t      1\n",
       "f      1\n",
       "Name: predictions, dtype: int64"
      ]
     },
     "metadata": {},
     "output_type": "display_data"
    },
    {
     "name": "stdout",
     "output_type": "stream",
     "text": [
      "\n",
      "\n",
      "Now showing values for phoneme: æ\n",
      "Accuraccy: 0.13338811284579566\n"
     ]
    },
    {
     "data": {
      "text/plain": [
       "s     10188\n",
       "ɪ      5870\n",
       "æ      3409\n",
       "i      2019\n",
       "       1827\n",
       "n       925\n",
       "ɹ       517\n",
       "z       423\n",
       "k       206\n",
       "w        84\n",
       "d        50\n",
       "t        14\n",
       "θ         7\n",
       "ɑ         6\n",
       "ɛ         3\n",
       "ʔ         3\n",
       "ɦ         3\n",
       "dʒ        3\n",
       "Name: predictions, dtype: int64"
      ]
     },
     "metadata": {},
     "output_type": "display_data"
    },
    {
     "name": "stdout",
     "output_type": "stream",
     "text": [
      "\n",
      "\n",
      "Now showing values for phoneme: ɔɪ\n",
      "Accuraccy: 0.0\n"
     ]
    },
    {
     "data": {
      "text/plain": [
       "s     2580\n",
       "ɪ     1076\n",
       "æ      401\n",
       "i      210\n",
       "ɹ      191\n",
       "z      169\n",
       "        67\n",
       "n       63\n",
       "k       31\n",
       "w       15\n",
       "ɑ        6\n",
       "t        4\n",
       "dʒ       2\n",
       "ɦ        1\n",
       "d        1\n",
       "Name: predictions, dtype: int64"
      ]
     },
     "metadata": {},
     "output_type": "display_data"
    },
    {
     "name": "stdout",
     "output_type": "stream",
     "text": [
      "\n",
      "\n",
      "Now showing values for phoneme: ə\n",
      "Accuraccy: 0.0\n"
     ]
    },
    {
     "data": {
      "text/plain": [
       "s     2320\n",
       "ɪ     1464\n",
       "æ      432\n",
       "i      239\n",
       "ɹ      134\n",
       "n      133\n",
       "       131\n",
       "z       98\n",
       "k       90\n",
       "w       18\n",
       "t        9\n",
       "d        8\n",
       "ɑ        4\n",
       "dʒ       3\n",
       "ɦ        2\n",
       "ɛ        1\n",
       "Name: predictions, dtype: int64"
      ]
     },
     "metadata": {},
     "output_type": "display_data"
    },
    {
     "name": "stdout",
     "output_type": "stream",
     "text": [
      "\n",
      "\n",
      "Now showing values for phoneme: g\n",
      "Accuraccy: 0.0\n"
     ]
    },
    {
     "data": {
      "text/plain": [
       "     1910\n",
       "k     478\n",
       "d     334\n",
       "n     213\n",
       "i      90\n",
       "ɪ      78\n",
       "s      54\n",
       "æ      48\n",
       "t      37\n",
       "p      15\n",
       "θ       4\n",
       "ɹ       4\n",
       "w       4\n",
       "Name: predictions, dtype: int64"
      ]
     },
     "metadata": {},
     "output_type": "display_data"
    },
    {
     "name": "stdout",
     "output_type": "stream",
     "text": [
      "\n",
      "\n",
      "Now showing values for phoneme: θ\n",
      "Accuraccy: 0.004584527220630372\n"
     ]
    },
    {
     "data": {
      "text/plain": [
       "      1561\n",
       "s      944\n",
       "ɪ      689\n",
       "k      644\n",
       "æ      383\n",
       "n      325\n",
       "i      240\n",
       "d      169\n",
       "t       75\n",
       "w       70\n",
       "ɹ       58\n",
       "θ       24\n",
       "ʔ       24\n",
       "z       15\n",
       "p        7\n",
       "ɑ        3\n",
       "dʒ       2\n",
       "ɛ        1\n",
       "f        1\n",
       "Name: predictions, dtype: int64"
      ]
     },
     "metadata": {},
     "output_type": "display_data"
    },
    {
     "name": "stdout",
     "output_type": "stream",
     "text": [
      "\n",
      "\n",
      "Now showing values for phoneme: t\n",
      "Accuraccy: 0.0508252703471827\n"
     ]
    },
    {
     "data": {
      "text/plain": [
       "      7858\n",
       "k     3355\n",
       "s     2311\n",
       "ɪ     1174\n",
       "t      893\n",
       "d      637\n",
       "æ      442\n",
       "n      399\n",
       "i      255\n",
       "p      121\n",
       "ɹ       54\n",
       "w       35\n",
       "dʒ      18\n",
       "θ        6\n",
       "ʔ        5\n",
       "z        5\n",
       "ɛ        2\n",
       "Name: predictions, dtype: int64"
      ]
     },
     "metadata": {},
     "output_type": "display_data"
    },
    {
     "name": "stdout",
     "output_type": "stream",
     "text": [
      "\n",
      "\n",
      "Now showing values for phoneme: i\n",
      "Accuraccy: 0.10164283665860953\n"
     ]
    },
    {
     "data": {
      "text/plain": [
       "s     8861\n",
       "ɪ     5890\n",
       "æ     2945\n",
       "i     2481\n",
       "      1876\n",
       "n     1220\n",
       "ɹ      441\n",
       "z      357\n",
       "k      152\n",
       "w       85\n",
       "d       51\n",
       "θ       13\n",
       "t       13\n",
       "ɛ        5\n",
       "ɦ        5\n",
       "ɑ        4\n",
       "f        4\n",
       "ʔ        3\n",
       "dʒ       3\n",
       "Name: predictions, dtype: int64"
      ]
     },
     "metadata": {},
     "output_type": "display_data"
    },
    {
     "name": "stdout",
     "output_type": "stream",
     "text": [
      "\n",
      "\n",
      "Now showing values for phoneme: v\n",
      "Accuraccy: 0.0\n"
     ]
    },
    {
     "data": {
      "text/plain": [
       "     971\n",
       "s    831\n",
       "ɪ    667\n",
       "æ    372\n",
       "i    371\n",
       "n    365\n",
       "k    101\n",
       "d     97\n",
       "ɹ     84\n",
       "z     58\n",
       "w     35\n",
       "θ     10\n",
       "ʔ      7\n",
       "t      7\n",
       "ɛ      4\n",
       "ɑ      2\n",
       "f      1\n",
       "Name: predictions, dtype: int64"
      ]
     },
     "metadata": {},
     "output_type": "display_data"
    },
    {
     "name": "stdout",
     "output_type": "stream",
     "text": [
      "\n",
      "\n",
      "Now showing values for phoneme: f\n",
      "Accuraccy: 0.00032747516646654295\n"
     ]
    },
    {
     "data": {
      "text/plain": [
       "s    3831\n",
       "ɪ    1499\n",
       "     1158\n",
       "æ    1046\n",
       "i     668\n",
       "n     530\n",
       "k     206\n",
       "ɹ      56\n",
       "d      52\n",
       "z      51\n",
       "w      35\n",
       "θ      11\n",
       "t       8\n",
       "ʔ       3\n",
       "ɛ       3\n",
       "f       3\n",
       "ɑ       1\n",
       "Name: predictions, dtype: int64"
      ]
     },
     "metadata": {},
     "output_type": "display_data"
    },
    {
     "name": "stdout",
     "output_type": "stream",
     "text": [
      "\n",
      "\n",
      "Now showing values for phoneme: oʊ\n",
      "Accuraccy: 0.0\n"
     ]
    },
    {
     "data": {
      "text/plain": [
       "s     5199\n",
       "ɪ     2654\n",
       "æ     1372\n",
       "i      783\n",
       "       469\n",
       "ɹ      281\n",
       "n      269\n",
       "z      143\n",
       "k       54\n",
       "w       36\n",
       "d        7\n",
       "t        6\n",
       "dʒ       4\n",
       "ɑ        3\n",
       "θ        2\n",
       "f        1\n",
       "ɦ        1\n",
       "Name: predictions, dtype: int64"
      ]
     },
     "metadata": {},
     "output_type": "display_data"
    },
    {
     "name": "stdout",
     "output_type": "stream",
     "text": [
      "\n",
      "\n",
      "Now showing values for phoneme: h\n",
      "Accuraccy: 0.0\n"
     ]
    },
    {
     "data": {
      "text/plain": [
       "s    947\n",
       "ɪ    392\n",
       "     235\n",
       "æ    229\n",
       "i    101\n",
       "k     73\n",
       "n     64\n",
       "ɹ     33\n",
       "z     30\n",
       "w     11\n",
       "θ      5\n",
       "d      5\n",
       "t      4\n",
       "ɑ      2\n",
       "Name: predictions, dtype: int64"
      ]
     },
     "metadata": {},
     "output_type": "display_data"
    },
    {
     "name": "stdout",
     "output_type": "stream",
     "text": [
      "\n",
      "\n",
      "Now showing values for phoneme: tʃ\n",
      "Accuraccy: 0.0\n"
     ]
    },
    {
     "data": {
      "text/plain": [
       "s     1779\n",
       "ɪ      366\n",
       "k      253\n",
       "t       77\n",
       "æ       64\n",
       "i       42\n",
       "ɹ       40\n",
       "        26\n",
       "n       18\n",
       "w       14\n",
       "z        9\n",
       "dʒ       5\n",
       "ʔ        2\n",
       "ɛ        1\n",
       "Name: predictions, dtype: int64"
      ]
     },
     "metadata": {},
     "output_type": "display_data"
    },
    {
     "name": "stdout",
     "output_type": "stream",
     "text": [
      "\n",
      "\n",
      "Now showing values for phoneme: b\n",
      "Accuraccy: 0.0\n"
     ]
    },
    {
     "data": {
      "text/plain": [
       "      2935\n",
       "k      708\n",
       "d      295\n",
       "n       98\n",
       "ɪ       45\n",
       "s       38\n",
       "i       29\n",
       "p       29\n",
       "t       22\n",
       "æ       11\n",
       "θ        5\n",
       "ɹ        4\n",
       "ʔ        3\n",
       "w        3\n",
       "dʒ       1\n",
       "Name: predictions, dtype: int64"
      ]
     },
     "metadata": {},
     "output_type": "display_data"
    },
    {
     "name": "stdout",
     "output_type": "stream",
     "text": [
      "\n",
      "\n",
      "Now showing values for phoneme: ɑ\n",
      "Accuraccy: 0.000319959045242209\n"
     ]
    },
    {
     "data": {
      "text/plain": [
       "s     7514\n",
       "ɪ     3661\n",
       "æ     1601\n",
       "i      991\n",
       "       531\n",
       "ɹ      426\n",
       "z      375\n",
       "n      372\n",
       "k       75\n",
       "w       43\n",
       "d       13\n",
       "t       11\n",
       "dʒ       7\n",
       "ɑ        5\n",
       "θ        1\n",
       "ɦ        1\n",
       "Name: predictions, dtype: int64"
      ]
     },
     "metadata": {},
     "output_type": "display_data"
    },
    {
     "name": "stdout",
     "output_type": "stream",
     "text": [
      "\n",
      "\n",
      "Now showing values for phoneme: m\n",
      "Accuraccy: 0.0\n"
     ]
    },
    {
     "data": {
      "text/plain": [
       "      2115\n",
       "ɪ     1474\n",
       "s     1432\n",
       "æ     1046\n",
       "n      853\n",
       "i      776\n",
       "k      311\n",
       "d      115\n",
       "ɹ       88\n",
       "w       65\n",
       "θ       27\n",
       "ʔ       18\n",
       "t       15\n",
       "z        3\n",
       "dʒ       1\n",
       "ɦ        1\n",
       "Name: predictions, dtype: int64"
      ]
     },
     "metadata": {},
     "output_type": "display_data"
    },
    {
     "name": "stdout",
     "output_type": "stream",
     "text": [
      "\n",
      "\n",
      "Now showing values for phoneme: aɪ\n",
      "Accuraccy: 0.0\n"
     ]
    },
    {
     "data": {
      "text/plain": [
       "s     7434\n",
       "ɪ     3202\n",
       "æ     1563\n",
       "i      848\n",
       "       661\n",
       "n      347\n",
       "z      328\n",
       "ɹ      276\n",
       "k       58\n",
       "w       20\n",
       "ɑ       17\n",
       "d       11\n",
       "t        9\n",
       "dʒ       3\n",
       "ɦ        2\n",
       "ʔ        1\n",
       "Name: predictions, dtype: int64"
      ]
     },
     "metadata": {},
     "output_type": "display_data"
    },
    {
     "name": "stdout",
     "output_type": "stream",
     "text": [
      "\n",
      "\n",
      "Now showing values for phoneme: eɪ\n",
      "Accuraccy: 0.0\n"
     ]
    },
    {
     "data": {
      "text/plain": [
       "s     5052\n",
       "ɪ     2743\n",
       "æ     1531\n",
       "i     1029\n",
       "       857\n",
       "n      445\n",
       "z      225\n",
       "ɹ      147\n",
       "k       56\n",
       "w       26\n",
       "d       18\n",
       "θ        7\n",
       "ɑ        7\n",
       "t        6\n",
       "dʒ       6\n",
       "f        4\n",
       "ɛ        1\n",
       "Name: predictions, dtype: int64"
      ]
     },
     "metadata": {},
     "output_type": "display_data"
    },
    {
     "name": "stdout",
     "output_type": "stream",
     "text": [
      "\n",
      "\n",
      "Now showing values for phoneme: p\n",
      "Accuraccy: 0.015279785257072062\n"
     ]
    },
    {
     "data": {
      "text/plain": [
       "      5137\n",
       "k     2094\n",
       "s      608\n",
       "ɪ      542\n",
       "æ      317\n",
       "t      253\n",
       "d      180\n",
       "p      148\n",
       "n      138\n",
       "i      120\n",
       "w       69\n",
       "ɹ       57\n",
       "ʔ       12\n",
       "θ        5\n",
       "z        4\n",
       "ɑ        1\n",
       "dʒ       1\n",
       "Name: predictions, dtype: int64"
      ]
     },
     "metadata": {},
     "output_type": "display_data"
    },
    {
     "name": "stdout",
     "output_type": "stream",
     "text": [
      "\n",
      "\n",
      "Now showing values for phoneme: aʊ\n",
      "Accuraccy: 0.0\n"
     ]
    },
    {
     "data": {
      "text/plain": [
       "s    2300\n",
       "ɪ    1080\n",
       "æ     719\n",
       "i     374\n",
       "      303\n",
       "n     162\n",
       "ɹ      71\n",
       "z      61\n",
       "k      32\n",
       "w       9\n",
       "d       8\n",
       "ɛ       2\n",
       "t       2\n",
       "f       1\n",
       "Name: predictions, dtype: int64"
      ]
     },
     "metadata": {},
     "output_type": "display_data"
    },
    {
     "name": "stdout",
     "output_type": "stream",
     "text": [
      "\n",
      "\n",
      "Now showing values for phoneme: ɝ\n",
      "Accuraccy: 0.0\n"
     ]
    },
    {
     "data": {
      "text/plain": [
       "s     3828\n",
       "ɪ     2407\n",
       "æ     1601\n",
       "i      838\n",
       "       515\n",
       "n      312\n",
       "ɹ      223\n",
       "z       92\n",
       "k       56\n",
       "w       35\n",
       "d       12\n",
       "t        5\n",
       "ɑ        4\n",
       "dʒ       2\n",
       "ɦ        1\n",
       "Name: predictions, dtype: int64"
      ]
     },
     "metadata": {},
     "output_type": "display_data"
    },
    {
     "name": "stdout",
     "output_type": "stream",
     "text": [
      "\n",
      "\n",
      "Now showing values for phoneme: z\n",
      "Accuraccy: 0.11672824991602285\n"
     ]
    },
    {
     "data": {
      "text/plain": [
       "s     7669\n",
       "ɪ     1547\n",
       "z     1390\n",
       "æ      318\n",
       "i      296\n",
       "ɹ      225\n",
       "n      177\n",
       "k      161\n",
       "        54\n",
       "w       19\n",
       "t       12\n",
       "d       11\n",
       "ɦ       11\n",
       "ɑ       10\n",
       "dʒ       6\n",
       "ʔ        2\n",
       "Name: predictions, dtype: int64"
      ]
     },
     "metadata": {},
     "output_type": "display_data"
    },
    {
     "name": "stdout",
     "output_type": "stream",
     "text": [
      "\n",
      "\n",
      "Now showing values for phoneme: ɡ\n",
      "Accuraccy: 0.0\n"
     ]
    },
    {
     "data": {
      "text/plain": [
       "k     365\n",
       "      261\n",
       "æ     158\n",
       "ɪ      75\n",
       "s      54\n",
       "i      40\n",
       "t      36\n",
       "w      30\n",
       "n      24\n",
       "ɹ      14\n",
       "d      10\n",
       "ʔ       9\n",
       "θ       5\n",
       "dʒ      2\n",
       "p       1\n",
       "Name: predictions, dtype: int64"
      ]
     },
     "metadata": {},
     "output_type": "display_data"
    },
    {
     "name": "stdout",
     "output_type": "stream",
     "text": [
      "\n",
      "\n",
      "Now showing values for phoneme: ʒ\n",
      "Accuraccy: 0.0\n"
     ]
    },
    {
     "data": {
      "text/plain": [
       "s    302\n",
       "z     87\n",
       "ɪ     43\n",
       "æ      9\n",
       "i      7\n",
       "ɹ      6\n",
       "n      3\n",
       "k      1\n",
       "ɦ      1\n",
       "ɑ      1\n",
       "       1\n",
       "Name: predictions, dtype: int64"
      ]
     },
     "metadata": {},
     "output_type": "display_data"
    }
   ],
   "source": [
    "for phoneme in pd.unique(compar.phonemes):\n",
    "    tmp = compar.loc[comparison.phonemes == phoneme]\n",
    "    print(\"\\n\\nNow showing values for phoneme:\", phoneme)\n",
    "    print(\"Accuraccy:\", len(tmp.loc[tmp.phonemes == tmp.predictions])/len(tmp))\n",
    "    display(tmp.predictions.value_counts())"
   ]
  },
  {
   "cell_type": "markdown",
   "metadata": {},
   "source": [
    "Well, we can see, that our model works only on paper, because if we focus only on \"important\" predictions, the accuraccies are really low and almost nothing saying."
   ]
  },
  {
   "cell_type": "markdown",
   "metadata": {},
   "source": [
    "Adding scaler (as values should be in range (-1,1) or here (0,1))"
   ]
  },
  {
   "cell_type": "code",
   "execution_count": 39,
   "metadata": {},
   "outputs": [
    {
     "data": {
      "text/html": [
       "<div>\n",
       "<style scoped>\n",
       "    .dataframe tbody tr th:only-of-type {\n",
       "        vertical-align: middle;\n",
       "    }\n",
       "\n",
       "    .dataframe tbody tr th {\n",
       "        vertical-align: top;\n",
       "    }\n",
       "\n",
       "    .dataframe thead th {\n",
       "        text-align: right;\n",
       "    }\n",
       "</style>\n",
       "<table border=\"1\" class=\"dataframe\">\n",
       "  <thead>\n",
       "    <tr style=\"text-align: right;\">\n",
       "      <th></th>\n",
       "      <th>previous_packet</th>\n",
       "      <th>packet_size</th>\n",
       "      <th>next_packet</th>\n",
       "    </tr>\n",
       "  </thead>\n",
       "  <tbody>\n",
       "    <tr>\n",
       "      <th>0</th>\n",
       "      <td>0.000000</td>\n",
       "      <td>0.217391</td>\n",
       "      <td>0.343137</td>\n",
       "    </tr>\n",
       "    <tr>\n",
       "      <th>1</th>\n",
       "      <td>0.294118</td>\n",
       "      <td>0.271739</td>\n",
       "      <td>0.421569</td>\n",
       "    </tr>\n",
       "    <tr>\n",
       "      <th>2</th>\n",
       "      <td>0.343137</td>\n",
       "      <td>0.358696</td>\n",
       "      <td>0.254902</td>\n",
       "    </tr>\n",
       "    <tr>\n",
       "      <th>3</th>\n",
       "      <td>0.421569</td>\n",
       "      <td>0.173913</td>\n",
       "      <td>0.294118</td>\n",
       "    </tr>\n",
       "    <tr>\n",
       "      <th>4</th>\n",
       "      <td>0.254902</td>\n",
       "      <td>0.217391</td>\n",
       "      <td>0.303922</td>\n",
       "    </tr>\n",
       "    <tr>\n",
       "      <th>...</th>\n",
       "      <td>...</td>\n",
       "      <td>...</td>\n",
       "      <td>...</td>\n",
       "    </tr>\n",
       "    <tr>\n",
       "      <th>195608</th>\n",
       "      <td>0.392157</td>\n",
       "      <td>0.391304</td>\n",
       "      <td>0.421569</td>\n",
       "    </tr>\n",
       "    <tr>\n",
       "      <th>195609</th>\n",
       "      <td>0.450980</td>\n",
       "      <td>0.358696</td>\n",
       "      <td>0.401961</td>\n",
       "    </tr>\n",
       "    <tr>\n",
       "      <th>195610</th>\n",
       "      <td>0.421569</td>\n",
       "      <td>0.336957</td>\n",
       "      <td>0.333333</td>\n",
       "    </tr>\n",
       "    <tr>\n",
       "      <th>195611</th>\n",
       "      <td>0.401961</td>\n",
       "      <td>0.260870</td>\n",
       "      <td>0.323529</td>\n",
       "    </tr>\n",
       "    <tr>\n",
       "      <th>195612</th>\n",
       "      <td>0.333333</td>\n",
       "      <td>0.250000</td>\n",
       "      <td>0.000000</td>\n",
       "    </tr>\n",
       "  </tbody>\n",
       "</table>\n",
       "<p>195613 rows × 3 columns</p>\n",
       "</div>"
      ],
      "text/plain": [
       "        previous_packet  packet_size  next_packet\n",
       "0              0.000000     0.217391     0.343137\n",
       "1              0.294118     0.271739     0.421569\n",
       "2              0.343137     0.358696     0.254902\n",
       "3              0.421569     0.173913     0.294118\n",
       "4              0.254902     0.217391     0.303922\n",
       "...                 ...          ...          ...\n",
       "195608         0.392157     0.391304     0.421569\n",
       "195609         0.450980     0.358696     0.401961\n",
       "195610         0.421569     0.336957     0.333333\n",
       "195611         0.401961     0.260870     0.323529\n",
       "195612         0.333333     0.250000     0.000000\n",
       "\n",
       "[195613 rows x 3 columns]"
      ]
     },
     "execution_count": 39,
     "metadata": {},
     "output_type": "execute_result"
    }
   ],
   "source": [
    "from sklearn import preprocessing\n",
    "\n",
    "scaler = preprocessing.MinMaxScaler()\n",
    "\n",
    "train_set[[\"previous_packet\", \"next_packet\", \"packet_size\"]] = scaler.fit_transform(train_set[[\"previous_packet\", \"next_packet\", \"packet_size\"]])\n",
    "test_set[[\"previous_packet\", \"next_packet\", \"packet_size\"]] = scaler.transform(test_set[[\"previous_packet\", \"next_packet\", \"packet_size\"]])\n",
    "test_set"
   ]
  },
  {
   "cell_type": "code",
   "execution_count": 40,
   "metadata": {},
   "outputs": [
    {
     "name": "stdout",
     "output_type": "stream",
     "text": [
      "Model: \"sequential_1\"\n",
      "_________________________________________________________________\n",
      "Layer (type)                 Output Shape              Param #   \n",
      "=================================================================\n",
      "dense_3 (Dense)              (None, 512)               2048      \n",
      "_________________________________________________________________\n",
      "dense_4 (Dense)              (None, 256)               131328    \n",
      "_________________________________________________________________\n",
      "dense_5 (Dense)              (None, 43)                11051     \n",
      "=================================================================\n",
      "Total params: 144,427\n",
      "Trainable params: 144,427\n",
      "Non-trainable params: 0\n",
      "_________________________________________________________________\n"
     ]
    }
   ],
   "source": [
    "model = Sequential()\n",
    "\n",
    "model.add(Dense(units=512, activation='relu', input_dim=3*1))  # first hidden layer\n",
    "model.add(Dense(units=256, activation='relu'))  # second hidden layer\n",
    "# model.add(Dense(units=128, activation='relu'))  # third hidden layer\n",
    "model.add(Dense(units=total_unique_phonemes, activation='softmax'))  # output layer\n",
    "# model.add(Dense(units=128))  # output layer\n",
    "\n",
    "model.compile(loss='categorical_crossentropy',\n",
    "              optimizer='adam',\n",
    "              metrics=['accuracy'])\n",
    "\n",
    "model.summary()"
   ]
  },
  {
   "cell_type": "code",
   "execution_count": 41,
   "metadata": {},
   "outputs": [
    {
     "name": "stdout",
     "output_type": "stream",
     "text": [
      "Epoch 1/16\n",
      "2085/2085 [==============================] - 10s 4ms/step - loss: 2.9370 - accuracy: 0.2327\n",
      "Epoch 2/16\n",
      "2085/2085 [==============================] - 9s 4ms/step - loss: 2.7843 - accuracy: 0.2525\n",
      "Epoch 3/16\n",
      "2085/2085 [==============================] - 9s 4ms/step - loss: 2.7699 - accuracy: 0.2554\n",
      "Epoch 4/16\n",
      "2085/2085 [==============================] - 9s 4ms/step - loss: 2.7634 - accuracy: 0.2578\n",
      "Epoch 5/16\n",
      "2085/2085 [==============================] - 9s 4ms/step - loss: 2.7615 - accuracy: 0.2574\n",
      "Epoch 6/16\n",
      "2085/2085 [==============================] - 9s 4ms/step - loss: 2.7592 - accuracy: 0.2571\n",
      "Epoch 7/16\n",
      "2085/2085 [==============================] - 9s 4ms/step - loss: 2.7584 - accuracy: 0.2570\n",
      "Epoch 8/16\n",
      "2085/2085 [==============================] - 9s 5ms/step - loss: 2.7544 - accuracy: 0.2574\n",
      "Epoch 9/16\n",
      "2085/2085 [==============================] - 9s 4ms/step - loss: 2.7555 - accuracy: 0.2572\n",
      "Epoch 10/16\n",
      "2085/2085 [==============================] - 9s 4ms/step - loss: 2.7496 - accuracy: 0.2587\n",
      "Epoch 11/16\n",
      "2085/2085 [==============================] - 9s 4ms/step - loss: 2.7473 - accuracy: 0.2594\n",
      "Epoch 12/16\n",
      "2085/2085 [==============================] - 9s 4ms/step - loss: 2.7467 - accuracy: 0.2594\n",
      "Epoch 13/16\n",
      "2085/2085 [==============================] - 9s 4ms/step - loss: 2.7496 - accuracy: 0.2591\n",
      "Epoch 14/16\n",
      "2085/2085 [==============================] - 9s 4ms/step - loss: 2.7507 - accuracy: 0.2591\n",
      "Epoch 15/16\n",
      "2085/2085 [==============================] - 9s 4ms/step - loss: 2.7459 - accuracy: 0.2591\n",
      "Epoch 16/16\n",
      "2085/2085 [==============================] - 9s 4ms/step - loss: 2.7457 - accuracy: 0.2595\n"
     ]
    },
    {
     "data": {
      "text/plain": [
       "<tensorflow.python.keras.callbacks.History at 0x7f60d0a9d8d0>"
      ]
     },
     "execution_count": 41,
     "metadata": {},
     "output_type": "execute_result"
    }
   ],
   "source": [
    "model.fit(train_set, train_labels, epochs=16, batch_size=256)"
   ]
  },
  {
   "cell_type": "code",
   "execution_count": 42,
   "metadata": {},
   "outputs": [
    {
     "name": "stdout",
     "output_type": "stream",
     "text": [
      "6113/6113 [==============================] - 9s 1ms/step - loss: 2.7745 - accuracy: 0.2530\n",
      "test loss, test acc: [2.774493932723999, 0.2530199885368347]\n"
     ]
    }
   ],
   "source": [
    "print(\"test loss, test acc:\", model.evaluate(test_set, test_labels))"
   ]
  },
  {
   "cell_type": "markdown",
   "metadata": {},
   "source": [
    "### LSTM"
   ]
  },
  {
   "cell_type": "code",
   "execution_count": 43,
   "metadata": {},
   "outputs": [],
   "source": [
    "from keras.models import Sequential\n",
    "from keras.layers import Dense\n",
    "from keras.layers import LSTM"
   ]
  },
  {
   "cell_type": "code",
   "execution_count": 44,
   "metadata": {},
   "outputs": [],
   "source": [
    "# model_lstm = Sequential()\n",
    "# model_lstm.add(LSTM(256, input_shape = (1, 3)))\n",
    "# model_lstm.add(Dense(units=total_unique_words))\n",
    "# model_lstm.compile(loss='categorical_crossentropy',\n",
    "#               optimizer='adam',\n",
    "#               metrics=['accuracy']\n",
    "#              )\n",
    "\n",
    "# model_lstm.summary()"
   ]
  },
  {
   "cell_type": "code",
   "execution_count": 45,
   "metadata": {},
   "outputs": [],
   "source": [
    "from keras.layers import Embedding\n",
    "from keras.layers import Dropout\n",
    "from keras.layers import SpatialDropout1D"
   ]
  },
  {
   "cell_type": "code",
   "execution_count": 46,
   "metadata": {},
   "outputs": [
    {
     "name": "stdout",
     "output_type": "stream",
     "text": [
      "Model: \"sequential_2\"\n",
      "_________________________________________________________________\n",
      "Layer (type)                 Output Shape              Param #   \n",
      "=================================================================\n",
      "lstm (LSTM)                  (None, 256)               266240    \n",
      "_________________________________________________________________\n",
      "dense_6 (Dense)              (None, 256)               65792     \n",
      "_________________________________________________________________\n",
      "dropout (Dropout)            (None, 256)               0         \n",
      "_________________________________________________________________\n",
      "dense_7 (Dense)              (None, 43)                11051     \n",
      "=================================================================\n",
      "Total params: 343,083\n",
      "Trainable params: 343,083\n",
      "Non-trainable params: 0\n",
      "_________________________________________________________________\n"
     ]
    }
   ],
   "source": [
    "#more elaborate model\n",
    "model_lstm = Sequential()\n",
    "\n",
    "#model_lstm.add(Embedding(input_dim = 3, output_dim = 2, input_length = 86497))\n",
    "#model_lstm.add(SpatialDropout1D(0.3))\n",
    "model_lstm.add(LSTM(256, input_shape = (1, 3), dropout = 0.3, recurrent_dropout = 0.3))\n",
    "model_lstm.add(Dense(256, activation = 'relu'))\n",
    "model_lstm.add(Dropout(0.3))\n",
    "model_lstm.add(Dense(total_unique_phonemes, activation = 'softmax'))\n",
    "\n",
    "model_lstm.compile(\n",
    "    loss='categorical_crossentropy',\n",
    "    optimizer='Adam',\n",
    "    metrics=['accuracy']\n",
    ")\n",
    "\n",
    "model_lstm.summary()"
   ]
  },
  {
   "cell_type": "code",
   "execution_count": 47,
   "metadata": {},
   "outputs": [],
   "source": [
    "single_phonemes_train = skype_data_train.loc[skype_data_train.phonemes.apply(len) == 1].reset_index(drop=True)\n",
    "single_phonemes_test = skype_data_test.loc[skype_data_test.phonemes.apply(len) == 1].reset_index(drop=True)\n",
    "\n",
    "single_phonemes_test['phonemes'] = single_phonemes_test[\"phonemes\"].apply(convert_phoneme)\n",
    "single_phonemes_train['phonemes'] = single_phonemes_train[\"phonemes\"].apply(convert_phoneme)"
   ]
  },
  {
   "cell_type": "code",
   "execution_count": 48,
   "metadata": {},
   "outputs": [
    {
     "name": "stderr",
     "output_type": "stream",
     "text": [
      "/home/xkadlec6/.local/lib/python3.6/site-packages/sklearn/utils/validation.py:63: DataConversionWarning: A column-vector y was passed when a 1d array was expected. Please change the shape of y to (n_samples, ), for example using ravel().\n",
      "  return f(*args, **kwargs)\n"
     ]
    }
   ],
   "source": [
    "train_set, train_labels = get_labels(single_phonemes_train, label=['phonemes'])\n",
    "test_set, test_labels = get_labels(single_phonemes_test, label=['phonemes'])\n",
    "\n",
    "train_labels, test_labels, _ = prepare_labels(train_labels, test_labels, label=['phonemes'])"
   ]
  },
  {
   "cell_type": "code",
   "execution_count": 49,
   "metadata": {},
   "outputs": [
    {
     "name": "stdout",
     "output_type": "stream",
     "text": [
      "(533705, 43)\n"
     ]
    }
   ],
   "source": [
    "from keras.utils import to_categorical\n",
    "\n",
    "train_labels = to_categorical(train_labels, num_classes=total_unique_phonemes)\n",
    "test_labels = to_categorical(test_labels, num_classes=total_unique_phonemes)\n",
    "print(train_labels.shape)"
   ]
  },
  {
   "cell_type": "code",
   "execution_count": 50,
   "metadata": {
    "scrolled": true
   },
   "outputs": [
    {
     "data": {
      "text/plain": [
       "array([ 0, 32, 32])"
      ]
     },
     "execution_count": 50,
     "metadata": {},
     "output_type": "execute_result"
    }
   ],
   "source": [
    "reshaped_values = train_set.values.reshape(-1, 1, 3)\n",
    "reshaped_values[0][0]"
   ]
  },
  {
   "cell_type": "code",
   "execution_count": 51,
   "metadata": {
    "scrolled": true
   },
   "outputs": [
    {
     "name": "stdout",
     "output_type": "stream",
     "text": [
      "Epoch 1/16\n",
      "4170/4170 [==============================] - 28s 6ms/step - loss: 3.0080 - accuracy: 0.2216\n",
      "Epoch 2/16\n",
      "4170/4170 [==============================] - 24s 6ms/step - loss: 2.8649 - accuracy: 0.2392\n",
      "Epoch 3/16\n",
      "4170/4170 [==============================] - 24s 6ms/step - loss: 2.8508 - accuracy: 0.2414\n",
      "Epoch 4/16\n",
      "4170/4170 [==============================] - 24s 6ms/step - loss: 2.8407 - accuracy: 0.2434\n",
      "Epoch 5/16\n",
      "4170/4170 [==============================] - 25s 6ms/step - loss: 2.8376 - accuracy: 0.2440\n",
      "Epoch 6/16\n",
      "4170/4170 [==============================] - 26s 6ms/step - loss: 2.8333 - accuracy: 0.2448\n",
      "Epoch 7/16\n",
      "4170/4170 [==============================] - 25s 6ms/step - loss: 2.8324 - accuracy: 0.2459\n",
      "Epoch 8/16\n",
      "4170/4170 [==============================] - 24s 6ms/step - loss: 2.8295 - accuracy: 0.2450\n",
      "Epoch 9/16\n",
      "4170/4170 [==============================] - 24s 6ms/step - loss: 2.8264 - accuracy: 0.2458\n",
      "Epoch 10/16\n",
      "4170/4170 [==============================] - 24s 6ms/step - loss: 2.8248 - accuracy: 0.2463\n",
      "Epoch 11/16\n",
      "4170/4170 [==============================] - 24s 6ms/step - loss: 2.8271 - accuracy: 0.2455\n",
      "Epoch 12/16\n",
      "4170/4170 [==============================] - 27s 6ms/step - loss: 2.8229 - accuracy: 0.2468\n",
      "Epoch 13/16\n",
      "4170/4170 [==============================] - 26s 6ms/step - loss: 2.8202 - accuracy: 0.2471\n",
      "Epoch 14/16\n",
      "4170/4170 [==============================] - 27s 6ms/step - loss: 2.8258 - accuracy: 0.2448\n",
      "Epoch 15/16\n",
      "4170/4170 [==============================] - 26s 6ms/step - loss: 2.8182 - accuracy: 0.2471\n",
      "Epoch 16/16\n",
      "4170/4170 [==============================] - 24s 6ms/step - loss: 2.8170 - accuracy: 0.2474\n"
     ]
    },
    {
     "data": {
      "text/plain": [
       "<tensorflow.python.keras.callbacks.History at 0x7f60d0b8e898>"
      ]
     },
     "execution_count": 51,
     "metadata": {},
     "output_type": "execute_result"
    }
   ],
   "source": [
    "model_lstm.fit(reshaped_values, train_labels, epochs=16, batch_size=128)"
   ]
  },
  {
   "cell_type": "code",
   "execution_count": 52,
   "metadata": {
    "scrolled": true
   },
   "outputs": [
    {
     "name": "stdout",
     "output_type": "stream",
     "text": [
      "6113/6113 [==============================] - 13s 2ms/step - loss: 4.3092 - accuracy: 0.1702\n",
      "test loss, test acc: [4.309224605560303, 0.17015229165554047]\n"
     ]
    }
   ],
   "source": [
    "print(\"test loss, test acc:\", model_lstm.evaluate(test_set.values.reshape(-1, 1, 3), test_labels))"
   ]
  },
  {
   "cell_type": "code",
   "execution_count": 53,
   "metadata": {},
   "outputs": [
    {
     "data": {
      "text/html": [
       "<div>\n",
       "<style scoped>\n",
       "    .dataframe tbody tr th:only-of-type {\n",
       "        vertical-align: middle;\n",
       "    }\n",
       "\n",
       "    .dataframe tbody tr th {\n",
       "        vertical-align: top;\n",
       "    }\n",
       "\n",
       "    .dataframe thead th {\n",
       "        text-align: right;\n",
       "    }\n",
       "</style>\n",
       "<table border=\"1\" class=\"dataframe\">\n",
       "  <thead>\n",
       "    <tr style=\"text-align: right;\">\n",
       "      <th></th>\n",
       "      <th>previous_packet</th>\n",
       "      <th>packet_size</th>\n",
       "      <th>next_packet</th>\n",
       "    </tr>\n",
       "  </thead>\n",
       "  <tbody>\n",
       "    <tr>\n",
       "      <th>0</th>\n",
       "      <td>0.000000</td>\n",
       "      <td>0.217391</td>\n",
       "      <td>0.343137</td>\n",
       "    </tr>\n",
       "    <tr>\n",
       "      <th>1</th>\n",
       "      <td>0.294118</td>\n",
       "      <td>0.271739</td>\n",
       "      <td>0.421569</td>\n",
       "    </tr>\n",
       "    <tr>\n",
       "      <th>2</th>\n",
       "      <td>0.343137</td>\n",
       "      <td>0.358696</td>\n",
       "      <td>0.254902</td>\n",
       "    </tr>\n",
       "    <tr>\n",
       "      <th>3</th>\n",
       "      <td>0.421569</td>\n",
       "      <td>0.173913</td>\n",
       "      <td>0.294118</td>\n",
       "    </tr>\n",
       "    <tr>\n",
       "      <th>4</th>\n",
       "      <td>0.254902</td>\n",
       "      <td>0.217391</td>\n",
       "      <td>0.303922</td>\n",
       "    </tr>\n",
       "    <tr>\n",
       "      <th>...</th>\n",
       "      <td>...</td>\n",
       "      <td>...</td>\n",
       "      <td>...</td>\n",
       "    </tr>\n",
       "    <tr>\n",
       "      <th>195608</th>\n",
       "      <td>0.392157</td>\n",
       "      <td>0.391304</td>\n",
       "      <td>0.421569</td>\n",
       "    </tr>\n",
       "    <tr>\n",
       "      <th>195609</th>\n",
       "      <td>0.450980</td>\n",
       "      <td>0.358696</td>\n",
       "      <td>0.401961</td>\n",
       "    </tr>\n",
       "    <tr>\n",
       "      <th>195610</th>\n",
       "      <td>0.421569</td>\n",
       "      <td>0.336957</td>\n",
       "      <td>0.333333</td>\n",
       "    </tr>\n",
       "    <tr>\n",
       "      <th>195611</th>\n",
       "      <td>0.401961</td>\n",
       "      <td>0.260870</td>\n",
       "      <td>0.323529</td>\n",
       "    </tr>\n",
       "    <tr>\n",
       "      <th>195612</th>\n",
       "      <td>0.333333</td>\n",
       "      <td>0.250000</td>\n",
       "      <td>0.000000</td>\n",
       "    </tr>\n",
       "  </tbody>\n",
       "</table>\n",
       "<p>195613 rows × 3 columns</p>\n",
       "</div>"
      ],
      "text/plain": [
       "        previous_packet  packet_size  next_packet\n",
       "0              0.000000     0.217391     0.343137\n",
       "1              0.294118     0.271739     0.421569\n",
       "2              0.343137     0.358696     0.254902\n",
       "3              0.421569     0.173913     0.294118\n",
       "4              0.254902     0.217391     0.303922\n",
       "...                 ...          ...          ...\n",
       "195608         0.392157     0.391304     0.421569\n",
       "195609         0.450980     0.358696     0.401961\n",
       "195610         0.421569     0.336957     0.333333\n",
       "195611         0.401961     0.260870     0.323529\n",
       "195612         0.333333     0.250000     0.000000\n",
       "\n",
       "[195613 rows x 3 columns]"
      ]
     },
     "execution_count": 53,
     "metadata": {},
     "output_type": "execute_result"
    }
   ],
   "source": [
    "from sklearn import preprocessing\n",
    "\n",
    "scaler = preprocessing.MinMaxScaler()\n",
    "\n",
    "train_set[[\"previous_packet\", \"next_packet\", \"packet_size\"]] = scaler.fit_transform(train_set[[\"previous_packet\", \"next_packet\", \"packet_size\"]])\n",
    "test_set[[\"previous_packet\", \"next_packet\", \"packet_size\"]] = scaler.transform(test_set[[\"previous_packet\", \"next_packet\", \"packet_size\"]])\n",
    "test_set"
   ]
  },
  {
   "cell_type": "code",
   "execution_count": 54,
   "metadata": {
    "scrolled": true
   },
   "outputs": [
    {
     "name": "stdout",
     "output_type": "stream",
     "text": [
      "Model: \"sequential_3\"\n",
      "_________________________________________________________________\n",
      "Layer (type)                 Output Shape              Param #   \n",
      "=================================================================\n",
      "lstm_1 (LSTM)                (None, 256)               266240    \n",
      "_________________________________________________________________\n",
      "dense_8 (Dense)              (None, 256)               65792     \n",
      "_________________________________________________________________\n",
      "dropout_1 (Dropout)          (None, 256)               0         \n",
      "_________________________________________________________________\n",
      "dense_9 (Dense)              (None, 43)                11051     \n",
      "=================================================================\n",
      "Total params: 343,083\n",
      "Trainable params: 343,083\n",
      "Non-trainable params: 0\n",
      "_________________________________________________________________\n"
     ]
    }
   ],
   "source": [
    "#more elaborate model\n",
    "model_lstm = Sequential()\n",
    "\n",
    "#model_lstm.add(Embedding(input_dim = 3, output_dim = 2, input_length = 86497))\n",
    "#model_lstm.add(SpatialDropout1D(0.3))\n",
    "model_lstm.add(LSTM(256, input_shape = (1, 3), dropout = 0.3, recurrent_dropout = 0.3))\n",
    "model_lstm.add(Dense(256, activation = 'relu'))\n",
    "model_lstm.add(Dropout(0.3))\n",
    "model_lstm.add(Dense(total_unique_phonemes, activation = 'softmax'))\n",
    "\n",
    "model_lstm.compile(\n",
    "    loss='categorical_crossentropy',\n",
    "    optimizer='Adam',\n",
    "    metrics=['accuracy']\n",
    ")\n",
    "\n",
    "model_lstm.summary()"
   ]
  },
  {
   "cell_type": "code",
   "execution_count": 55,
   "metadata": {
    "scrolled": true
   },
   "outputs": [
    {
     "data": {
      "text/plain": [
       "array([0.        , 0.23913043, 0.31372549])"
      ]
     },
     "execution_count": 55,
     "metadata": {},
     "output_type": "execute_result"
    }
   ],
   "source": [
    "reshaped_values = train_set.values.reshape(-1, 1, 3)\n",
    "reshaped_values[0][0]"
   ]
  },
  {
   "cell_type": "code",
   "execution_count": 56,
   "metadata": {
    "scrolled": true
   },
   "outputs": [
    {
     "name": "stdout",
     "output_type": "stream",
     "text": [
      "Epoch 1/16\n",
      "4170/4170 [==============================] - 29s 6ms/step - loss: 3.1275 - accuracy: 0.2118\n",
      "Epoch 2/16\n",
      "4170/4170 [==============================] - 26s 6ms/step - loss: 2.9666 - accuracy: 0.2289\n",
      "Epoch 3/16\n",
      "4170/4170 [==============================] - 26s 6ms/step - loss: 2.9447 - accuracy: 0.2308\n",
      "Epoch 4/16\n",
      "4170/4170 [==============================] - 26s 6ms/step - loss: 2.9301 - accuracy: 0.2322\n",
      "Epoch 5/16\n",
      "4170/4170 [==============================] - 24s 6ms/step - loss: 2.9150 - accuracy: 0.2346\n",
      "Epoch 6/16\n",
      "4170/4170 [==============================] - 25s 6ms/step - loss: 2.8981 - accuracy: 0.2367\n",
      "Epoch 7/16\n",
      "4170/4170 [==============================] - 24s 6ms/step - loss: 2.8753 - accuracy: 0.2392\n",
      "Epoch 8/16\n",
      "4170/4170 [==============================] - 24s 6ms/step - loss: 2.8530 - accuracy: 0.2419\n",
      "Epoch 9/16\n",
      "4170/4170 [==============================] - 27s 6ms/step - loss: 2.8405 - accuracy: 0.2439\n",
      "Epoch 10/16\n",
      "4170/4170 [==============================] - 26s 6ms/step - loss: 2.8348 - accuracy: 0.2441\n",
      "Epoch 11/16\n",
      "4170/4170 [==============================] - 27s 7ms/step - loss: 2.8274 - accuracy: 0.2460\n",
      "Epoch 12/16\n",
      "4170/4170 [==============================] - 28s 7ms/step - loss: 2.8261 - accuracy: 0.2462\n",
      "Epoch 13/16\n",
      "4170/4170 [==============================] - 26s 6ms/step - loss: 2.8213 - accuracy: 0.2466\n",
      "Epoch 14/16\n",
      "4170/4170 [==============================] - 26s 6ms/step - loss: 2.8184 - accuracy: 0.2466\n",
      "Epoch 15/16\n",
      "4170/4170 [==============================] - 27s 6ms/step - loss: 2.8139 - accuracy: 0.2473\n",
      "Epoch 16/16\n",
      "4170/4170 [==============================] - 27s 7ms/step - loss: 2.8093 - accuracy: 0.2492\n"
     ]
    },
    {
     "data": {
      "text/plain": [
       "<tensorflow.python.keras.callbacks.History at 0x7f60d0d1ecf8>"
      ]
     },
     "execution_count": 56,
     "metadata": {},
     "output_type": "execute_result"
    }
   ],
   "source": [
    "model_lstm.fit(reshaped_values, train_labels, epochs=16, batch_size=128)"
   ]
  },
  {
   "cell_type": "code",
   "execution_count": 57,
   "metadata": {
    "scrolled": false
   },
   "outputs": [
    {
     "name": "stdout",
     "output_type": "stream",
     "text": [
      "6113/6113 [==============================] - 14s 2ms/step - loss: 4.7667 - accuracy: 0.1773\n",
      "test loss, test acc: [4.766688346862793, 0.17732462286949158]\n"
     ]
    }
   ],
   "source": [
    "print(\"test loss, test acc:\", model_lstm.evaluate(test_set.values.reshape(-1, 1, 3), test_labels))"
   ]
  },
  {
   "cell_type": "markdown",
   "metadata": {},
   "source": [
    "### KFold crossvalidation:"
   ]
  },
  {
   "cell_type": "code",
   "execution_count": 58,
   "metadata": {},
   "outputs": [],
   "source": [
    "def create_model(output_size):\n",
    "    model = Sequential()\n",
    "\n",
    "    model.add(Dense(units=512, activation='relu', input_dim=3*1))  # first hidden layer\n",
    "    model.add(Dense(units=256, activation='relu'))  # second hidden layer\n",
    "    model.add(Dense(units=output_size, activation='softmax'))  # output layer\n",
    "\n",
    "    model.compile(loss='categorical_crossentropy',\n",
    "                  optimizer='adam',\n",
    "                  metrics=['accuracy'])\n",
    "\n",
    "    model.summary()\n",
    "    \n",
    "    return model"
   ]
  },
  {
   "cell_type": "code",
   "execution_count": 59,
   "metadata": {},
   "outputs": [],
   "source": [
    "single_phonemes_train = skype_data_train.loc[skype_data_train.phonemes.apply(len) == 1].reset_index(drop=True)\n",
    "single_phonemes_test = skype_data_test.loc[skype_data_test.phonemes.apply(len) == 1].reset_index(drop=True)\n",
    "\n",
    "single_phonemes_test['phonemes'] = single_phonemes_test[\"phonemes\"].apply(convert_phoneme)\n",
    "single_phonemes_train['phonemes'] = single_phonemes_train[\"phonemes\"].apply(convert_phoneme)"
   ]
  },
  {
   "cell_type": "code",
   "execution_count": 60,
   "metadata": {
    "scrolled": true
   },
   "outputs": [
    {
     "name": "stderr",
     "output_type": "stream",
     "text": [
      "/home/xkadlec6/.local/lib/python3.6/site-packages/sklearn/utils/validation.py:63: DataConversionWarning: A column-vector y was passed when a 1d array was expected. Please change the shape of y to (n_samples, ), for example using ravel().\n",
      "  return f(*args, **kwargs)\n"
     ]
    }
   ],
   "source": [
    "train_set, train_labels = get_labels(single_phonemes_train, label=['phonemes'])\n",
    "test_set, test_labels = get_labels(single_phonemes_test, label=['phonemes'])\n",
    "\n",
    "train_labels, test_labels, _ = prepare_labels(train_labels, test_labels, label=['phonemes'])"
   ]
  },
  {
   "cell_type": "code",
   "execution_count": 61,
   "metadata": {},
   "outputs": [],
   "source": [
    "from sklearn import preprocessing\n",
    "\n",
    "scaler = preprocessing.MinMaxScaler()\n",
    "\n",
    "train_set[[\"previous_packet\", \"next_packet\", \"packet_size\"]] = scaler.fit_transform(train_set[[\"previous_packet\", \"next_packet\", \"packet_size\"]])\n",
    "test_set[[\"previous_packet\", \"next_packet\", \"packet_size\"]] = scaler.transform(test_set[[\"previous_packet\", \"next_packet\", \"packet_size\"]])"
   ]
  },
  {
   "cell_type": "code",
   "execution_count": 62,
   "metadata": {},
   "outputs": [
    {
     "name": "stdout",
     "output_type": "stream",
     "text": [
      "(533705, 43)\n"
     ]
    }
   ],
   "source": [
    "from keras.utils import to_categorical\n",
    "\n",
    "train_labels = to_categorical(train_labels, num_classes=total_unique_phonemes)\n",
    "test_labels = to_categorical(test_labels, num_classes=total_unique_phonemes)\n",
    "print(train_labels.shape)"
   ]
  },
  {
   "cell_type": "code",
   "execution_count": 63,
   "metadata": {},
   "outputs": [
    {
     "name": "stdout",
     "output_type": "stream",
     "text": [
      "\n",
      "\n",
      "Now validating on dialect: DR1\n",
      "Model: \"sequential_4\"\n",
      "_________________________________________________________________\n",
      "Layer (type)                 Output Shape              Param #   \n",
      "=================================================================\n",
      "dense_10 (Dense)             (None, 512)               2048      \n",
      "_________________________________________________________________\n",
      "dense_11 (Dense)             (None, 256)               131328    \n",
      "_________________________________________________________________\n",
      "dense_12 (Dense)             (None, 43)                11051     \n",
      "=================================================================\n",
      "Total params: 144,427\n",
      "Trainable params: 144,427\n",
      "Non-trainable params: 0\n",
      "_________________________________________________________________\n",
      "Epoch 1/32\n",
      "1916/1916 [==============================] - 9s 5ms/step - loss: 2.9451 - accuracy: 0.2291\n",
      "Epoch 2/32\n",
      "1916/1916 [==============================] - 8s 4ms/step - loss: 2.7837 - accuracy: 0.2520\n",
      "Epoch 3/32\n",
      "1916/1916 [==============================] - 9s 5ms/step - loss: 2.7700 - accuracy: 0.2558\n",
      "Epoch 4/32\n",
      "1916/1916 [==============================] - 9s 5ms/step - loss: 2.7652 - accuracy: 0.2558\n",
      "Epoch 5/32\n",
      "1916/1916 [==============================] - 9s 5ms/step - loss: 2.7635 - accuracy: 0.2557\n",
      "Epoch 6/32\n",
      "1916/1916 [==============================] - 9s 5ms/step - loss: 2.7599 - accuracy: 0.2562\n",
      "Epoch 7/32\n",
      "1916/1916 [==============================] - 9s 5ms/step - loss: 2.7551 - accuracy: 0.2580\n",
      "Epoch 8/32\n",
      "1916/1916 [==============================] - 9s 5ms/step - loss: 2.7559 - accuracy: 0.2568\n",
      "Epoch 9/32\n",
      "1916/1916 [==============================] - 9s 5ms/step - loss: 2.7529 - accuracy: 0.2571\n",
      "Epoch 10/32\n",
      "1916/1916 [==============================] - 9s 5ms/step - loss: 2.7524 - accuracy: 0.2587\n",
      "Epoch 11/32\n",
      "1916/1916 [==============================] - 9s 5ms/step - loss: 2.7513 - accuracy: 0.2586\n",
      "Epoch 12/32\n",
      "1916/1916 [==============================] - 9s 5ms/step - loss: 2.7505 - accuracy: 0.2586\n",
      "Epoch 13/32\n",
      "1916/1916 [==============================] - 9s 5ms/step - loss: 2.7494 - accuracy: 0.2582\n",
      "Epoch 14/32\n",
      "1916/1916 [==============================] - 9s 5ms/step - loss: 2.7490 - accuracy: 0.2571\n",
      "Epoch 15/32\n",
      "1916/1916 [==============================] - 9s 5ms/step - loss: 2.7462 - accuracy: 0.2596\n",
      "Epoch 16/32\n",
      "1916/1916 [==============================] - 9s 5ms/step - loss: 2.7470 - accuracy: 0.2583\n",
      "Epoch 17/32\n",
      "1916/1916 [==============================] - 9s 5ms/step - loss: 2.7482 - accuracy: 0.2585\n",
      "Epoch 18/32\n",
      "1916/1916 [==============================] - 9s 5ms/step - loss: 2.7440 - accuracy: 0.2598\n",
      "Epoch 19/32\n",
      "1916/1916 [==============================] - 9s 5ms/step - loss: 2.7462 - accuracy: 0.2594\n",
      "Epoch 20/32\n",
      "1916/1916 [==============================] - 9s 5ms/step - loss: 2.7482 - accuracy: 0.2586\n",
      "Epoch 21/32\n",
      "1916/1916 [==============================] - 9s 5ms/step - loss: 2.7460 - accuracy: 0.2583\n",
      "Epoch 22/32\n",
      "1916/1916 [==============================] - 9s 5ms/step - loss: 2.7446 - accuracy: 0.2590\n",
      "Epoch 23/32\n",
      "1916/1916 [==============================] - 10s 5ms/step - loss: 2.7464 - accuracy: 0.2582\n",
      "Epoch 24/32\n",
      "1916/1916 [==============================] - 9s 5ms/step - loss: 2.7456 - accuracy: 0.2586\n",
      "Epoch 25/32\n",
      "1916/1916 [==============================] - 9s 5ms/step - loss: 2.7421 - accuracy: 0.2593\n",
      "Epoch 26/32\n",
      "1916/1916 [==============================] - 9s 5ms/step - loss: 2.7437 - accuracy: 0.2591\n",
      "Epoch 27/32\n",
      "1916/1916 [==============================] - 9s 5ms/step - loss: 2.7433 - accuracy: 0.2596\n",
      "Epoch 28/32\n",
      "1916/1916 [==============================] - 9s 5ms/step - loss: 2.7452 - accuracy: 0.2597\n",
      "Epoch 29/32\n",
      "1916/1916 [==============================] - 9s 5ms/step - loss: 2.7416 - accuracy: 0.2601\n",
      "Epoch 30/32\n",
      "1916/1916 [==============================] - 8s 4ms/step - loss: 2.7441 - accuracy: 0.2592\n",
      "Epoch 31/32\n",
      "1916/1916 [==============================] - 9s 5ms/step - loss: 2.7428 - accuracy: 0.2600\n",
      "Epoch 32/32\n",
      "1916/1916 [==============================] - 9s 5ms/step - loss: 2.7438 - accuracy: 0.2591\n"
     ]
    },
    {
     "data": {
      "text/plain": [
       "<tensorflow.python.keras.callbacks.History at 0x7f60d0f374a8>"
      ]
     },
     "metadata": {},
     "output_type": "display_data"
    },
    {
     "name": "stdout",
     "output_type": "stream",
     "text": [
      "1352/1352 [==============================] - 3s 2ms/step - loss: 2.7368 - accuracy: 0.2673\n",
      "test loss, test acc: [2.7368481159210205, 0.26732170581817627]\n",
      "\n",
      "\n",
      "Now validating on dialect: DR2\n",
      "Model: \"sequential_5\"\n",
      "_________________________________________________________________\n",
      "Layer (type)                 Output Shape              Param #   \n",
      "=================================================================\n",
      "dense_13 (Dense)             (None, 512)               2048      \n",
      "_________________________________________________________________\n",
      "dense_14 (Dense)             (None, 256)               131328    \n",
      "_________________________________________________________________\n",
      "dense_15 (Dense)             (None, 43)                11051     \n",
      "=================================================================\n",
      "Total params: 144,427\n",
      "Trainable params: 144,427\n",
      "Non-trainable params: 0\n",
      "_________________________________________________________________\n",
      "Epoch 1/32\n",
      "1750/1750 [==============================] - 9s 5ms/step - loss: 2.9563 - accuracy: 0.2288\n",
      "Epoch 2/32\n",
      "1750/1750 [==============================] - 9s 5ms/step - loss: 2.7890 - accuracy: 0.2509\n",
      "Epoch 3/32\n",
      "1750/1750 [==============================] - 8s 5ms/step - loss: 2.7738 - accuracy: 0.2551\n",
      "Epoch 4/32\n",
      "1750/1750 [==============================] - 8s 4ms/step - loss: 2.7670 - accuracy: 0.2568\n",
      "Epoch 5/32\n",
      "1750/1750 [==============================] - 8s 4ms/step - loss: 2.7645 - accuracy: 0.2564\n",
      "Epoch 6/32\n",
      "1750/1750 [==============================] - 8s 4ms/step - loss: 2.7644 - accuracy: 0.2563\n",
      "Epoch 7/32\n",
      "1750/1750 [==============================] - 8s 5ms/step - loss: 2.7619 - accuracy: 0.2564\n",
      "Epoch 8/32\n",
      "1750/1750 [==============================] - 8s 4ms/step - loss: 2.7589 - accuracy: 0.2574\n",
      "Epoch 9/32\n",
      "1750/1750 [==============================] - 8s 4ms/step - loss: 2.7532 - accuracy: 0.2592\n",
      "Epoch 10/32\n",
      "1750/1750 [==============================] - 8s 4ms/step - loss: 2.7528 - accuracy: 0.2586\n",
      "Epoch 11/32\n",
      "1750/1750 [==============================] - 8s 4ms/step - loss: 2.7523 - accuracy: 0.2584\n",
      "Epoch 12/32\n",
      "1750/1750 [==============================] - 8s 4ms/step - loss: 2.7502 - accuracy: 0.2587\n",
      "Epoch 13/32\n",
      "1750/1750 [==============================] - 8s 4ms/step - loss: 2.7494 - accuracy: 0.2594\n",
      "Epoch 14/32\n",
      "1750/1750 [==============================] - 8s 4ms/step - loss: 2.7491 - accuracy: 0.2590\n",
      "Epoch 15/32\n",
      "1750/1750 [==============================] - 8s 4ms/step - loss: 2.7487 - accuracy: 0.2591\n",
      "Epoch 16/32\n",
      "1750/1750 [==============================] - 7s 4ms/step - loss: 2.7481 - accuracy: 0.2593\n",
      "Epoch 17/32\n",
      "1750/1750 [==============================] - 8s 5ms/step - loss: 2.7493 - accuracy: 0.2590\n",
      "Epoch 18/32\n",
      "1750/1750 [==============================] - 8s 5ms/step - loss: 2.7475 - accuracy: 0.2597\n",
      "Epoch 19/32\n",
      "1750/1750 [==============================] - 8s 5ms/step - loss: 2.7481 - accuracy: 0.2590\n",
      "Epoch 20/32\n",
      "1750/1750 [==============================] - 8s 4ms/step - loss: 2.7474 - accuracy: 0.2593\n",
      "Epoch 21/32\n",
      "1750/1750 [==============================] - 8s 4ms/step - loss: 2.7431 - accuracy: 0.2601\n",
      "Epoch 22/32\n",
      "1750/1750 [==============================] - 8s 4ms/step - loss: 2.7487 - accuracy: 0.2577\n",
      "Epoch 23/32\n",
      "1750/1750 [==============================] - 8s 4ms/step - loss: 2.7491 - accuracy: 0.2582\n",
      "Epoch 24/32\n",
      "1750/1750 [==============================] - 8s 5ms/step - loss: 2.7448 - accuracy: 0.2605\n",
      "Epoch 25/32\n",
      "1750/1750 [==============================] - 8s 4ms/step - loss: 2.7469 - accuracy: 0.2598\n",
      "Epoch 26/32\n",
      "1750/1750 [==============================] - 7s 4ms/step - loss: 2.7451 - accuracy: 0.2605\n",
      "Epoch 27/32\n",
      "1750/1750 [==============================] - 8s 5ms/step - loss: 2.7448 - accuracy: 0.2593\n",
      "Epoch 28/32\n",
      "1750/1750 [==============================] - 8s 4ms/step - loss: 2.7447 - accuracy: 0.2593\n",
      "Epoch 29/32\n",
      "1750/1750 [==============================] - 8s 4ms/step - loss: 2.7462 - accuracy: 0.2591\n",
      "Epoch 30/32\n",
      "1750/1750 [==============================] - 8s 4ms/step - loss: 2.7423 - accuracy: 0.2604\n",
      "Epoch 31/32\n",
      "1750/1750 [==============================] - 8s 4ms/step - loss: 2.7461 - accuracy: 0.2593\n",
      "Epoch 32/32\n",
      "1750/1750 [==============================] - 8s 5ms/step - loss: 2.7435 - accuracy: 0.2609\n"
     ]
    },
    {
     "data": {
      "text/plain": [
       "<tensorflow.python.keras.callbacks.History at 0x7f60d0fcba58>"
      ]
     },
     "metadata": {},
     "output_type": "display_data"
    },
    {
     "name": "stdout",
     "output_type": "stream",
     "text": [
      "2682/2682 [==============================] - 5s 2ms/step - loss: 2.7396 - accuracy: 0.2599\n",
      "test loss, test acc: [2.739569664001465, 0.25986436009407043]\n",
      "\n",
      "\n",
      "Now validating on dialect: DR3\n",
      "Model: \"sequential_6\"\n",
      "_________________________________________________________________\n",
      "Layer (type)                 Output Shape              Param #   \n",
      "=================================================================\n",
      "dense_16 (Dense)             (None, 512)               2048      \n",
      "_________________________________________________________________\n",
      "dense_17 (Dense)             (None, 256)               131328    \n",
      "_________________________________________________________________\n",
      "dense_18 (Dense)             (None, 43)                11051     \n",
      "=================================================================\n",
      "Total params: 144,427\n",
      "Trainable params: 144,427\n",
      "Non-trainable params: 0\n",
      "_________________________________________________________________\n",
      "Epoch 1/32\n",
      "1749/1749 [==============================] - 8s 5ms/step - loss: 2.9562 - accuracy: 0.2295\n",
      "Epoch 2/32\n",
      "1749/1749 [==============================] - 8s 4ms/step - loss: 2.7912 - accuracy: 0.2501\n",
      "Epoch 3/32\n",
      "1749/1749 [==============================] - 7s 4ms/step - loss: 2.7732 - accuracy: 0.2557\n",
      "Epoch 4/32\n",
      "1749/1749 [==============================] - 8s 4ms/step - loss: 2.7668 - accuracy: 0.2564\n",
      "Epoch 5/32\n",
      "1749/1749 [==============================] - 8s 4ms/step - loss: 2.7613 - accuracy: 0.2573\n",
      "Epoch 6/32\n",
      "1749/1749 [==============================] - 8s 4ms/step - loss: 2.7576 - accuracy: 0.2576\n",
      "Epoch 7/32\n",
      "1749/1749 [==============================] - 8s 4ms/step - loss: 2.7601 - accuracy: 0.2571\n",
      "Epoch 8/32\n",
      "1749/1749 [==============================] - 8s 4ms/step - loss: 2.7593 - accuracy: 0.2564\n",
      "Epoch 9/32\n",
      "1749/1749 [==============================] - 8s 5ms/step - loss: 2.7535 - accuracy: 0.2586\n",
      "Epoch 10/32\n",
      "1749/1749 [==============================] - 8s 5ms/step - loss: 2.7541 - accuracy: 0.2582\n",
      "Epoch 11/32\n",
      "1749/1749 [==============================] - 8s 4ms/step - loss: 2.7528 - accuracy: 0.2583\n",
      "Epoch 12/32\n",
      "1749/1749 [==============================] - 7s 4ms/step - loss: 2.7510 - accuracy: 0.2583\n",
      "Epoch 13/32\n",
      "1749/1749 [==============================] - 8s 5ms/step - loss: 2.7491 - accuracy: 0.2586\n",
      "Epoch 14/32\n",
      "1749/1749 [==============================] - 8s 5ms/step - loss: 2.7498 - accuracy: 0.2578\n",
      "Epoch 15/32\n",
      "1749/1749 [==============================] - 8s 4ms/step - loss: 2.7495 - accuracy: 0.2581\n",
      "Epoch 16/32\n",
      "1749/1749 [==============================] - 8s 4ms/step - loss: 2.7479 - accuracy: 0.2588\n",
      "Epoch 17/32\n",
      "1749/1749 [==============================] - 8s 4ms/step - loss: 2.7458 - accuracy: 0.2605\n",
      "Epoch 18/32\n",
      "1749/1749 [==============================] - 8s 5ms/step - loss: 2.7485 - accuracy: 0.2590\n",
      "Epoch 19/32\n",
      "1749/1749 [==============================] - 8s 4ms/step - loss: 2.7482 - accuracy: 0.2587\n",
      "Epoch 20/32\n",
      "1749/1749 [==============================] - 8s 4ms/step - loss: 2.7512 - accuracy: 0.2575\n",
      "Epoch 21/32\n",
      "1749/1749 [==============================] - 8s 4ms/step - loss: 2.7464 - accuracy: 0.2598\n",
      "Epoch 22/32\n",
      "1749/1749 [==============================] - 8s 5ms/step - loss: 2.7473 - accuracy: 0.2594\n",
      "Epoch 23/32\n",
      "1749/1749 [==============================] - 8s 5ms/step - loss: 2.7483 - accuracy: 0.2590\n",
      "Epoch 24/32\n",
      "1749/1749 [==============================] - 8s 4ms/step - loss: 2.7476 - accuracy: 0.2587\n",
      "Epoch 25/32\n",
      "1749/1749 [==============================] - 8s 5ms/step - loss: 2.7448 - accuracy: 0.2597\n",
      "Epoch 26/32\n",
      "1749/1749 [==============================] - 8s 5ms/step - loss: 2.7438 - accuracy: 0.2594\n",
      "Epoch 27/32\n",
      "1749/1749 [==============================] - 8s 4ms/step - loss: 2.7398 - accuracy: 0.2607\n",
      "Epoch 28/32\n",
      "1749/1749 [==============================] - 8s 4ms/step - loss: 2.7424 - accuracy: 0.2600\n",
      "Epoch 29/32\n",
      "1749/1749 [==============================] - 8s 4ms/step - loss: 2.7443 - accuracy: 0.2593\n",
      "Epoch 30/32\n",
      "1749/1749 [==============================] - 8s 4ms/step - loss: 2.7455 - accuracy: 0.2597\n",
      "Epoch 31/32\n",
      "1749/1749 [==============================] - 8s 5ms/step - loss: 2.7403 - accuracy: 0.2605\n",
      "Epoch 32/32\n",
      "1749/1749 [==============================] - 8s 4ms/step - loss: 2.7461 - accuracy: 0.2588\n"
     ]
    },
    {
     "data": {
      "text/plain": [
       "<tensorflow.python.keras.callbacks.History at 0x7f60d0fd7860>"
      ]
     },
     "metadata": {},
     "output_type": "display_data"
    },
    {
     "name": "stdout",
     "output_type": "stream",
     "text": [
      "2688/2688 [==============================] - 3s 1ms/step - loss: 2.7429 - accuracy: 0.2597\n",
      "test loss, test acc: [2.7429392337799072, 0.25973647832870483]\n",
      "\n",
      "\n",
      "Now validating on dialect: DR4\n",
      "Model: \"sequential_7\"\n",
      "_________________________________________________________________\n",
      "Layer (type)                 Output Shape              Param #   \n",
      "=================================================================\n",
      "dense_19 (Dense)             (None, 512)               2048      \n",
      "_________________________________________________________________\n",
      "dense_20 (Dense)             (None, 256)               131328    \n",
      "_________________________________________________________________\n",
      "dense_21 (Dense)             (None, 43)                11051     \n",
      "=================================================================\n",
      "Total params: 144,427\n",
      "Trainable params: 144,427\n",
      "Non-trainable params: 0\n",
      "_________________________________________________________________\n",
      "Epoch 1/32\n",
      "1771/1771 [==============================] - 8s 4ms/step - loss: 2.9518 - accuracy: 0.2311\n",
      "Epoch 2/32\n",
      "1771/1771 [==============================] - 8s 4ms/step - loss: 2.7860 - accuracy: 0.2536\n",
      "Epoch 3/32\n",
      "1771/1771 [==============================] - 8s 5ms/step - loss: 2.7697 - accuracy: 0.2575\n",
      "Epoch 4/32\n",
      "1771/1771 [==============================] - 8s 4ms/step - loss: 2.7607 - accuracy: 0.2588\n",
      "Epoch 5/32\n",
      "1771/1771 [==============================] - 8s 4ms/step - loss: 2.7554 - accuracy: 0.2594\n",
      "Epoch 6/32\n",
      "1771/1771 [==============================] - 8s 4ms/step - loss: 2.7536 - accuracy: 0.2594\n",
      "Epoch 7/32\n",
      "1771/1771 [==============================] - 8s 5ms/step - loss: 2.7527 - accuracy: 0.2597\n",
      "Epoch 8/32\n",
      "1771/1771 [==============================] - 8s 4ms/step - loss: 2.7488 - accuracy: 0.2611\n",
      "Epoch 9/32\n",
      "1771/1771 [==============================] - 8s 5ms/step - loss: 2.7476 - accuracy: 0.2602\n",
      "Epoch 10/32\n",
      "1771/1771 [==============================] - 7s 4ms/step - loss: 2.7464 - accuracy: 0.2605\n",
      "Epoch 11/32\n",
      "1771/1771 [==============================] - 8s 4ms/step - loss: 2.7407 - accuracy: 0.2606\n",
      "Epoch 12/32\n",
      "1771/1771 [==============================] - 8s 4ms/step - loss: 2.7410 - accuracy: 0.2611\n",
      "Epoch 13/32\n",
      "1771/1771 [==============================] - 8s 4ms/step - loss: 2.7427 - accuracy: 0.2612\n",
      "Epoch 14/32\n",
      "1771/1771 [==============================] - 8s 4ms/step - loss: 2.7422 - accuracy: 0.2608\n",
      "Epoch 15/32\n",
      "1771/1771 [==============================] - 8s 4ms/step - loss: 2.7386 - accuracy: 0.2620\n",
      "Epoch 16/32\n",
      "1771/1771 [==============================] - 8s 5ms/step - loss: 2.7426 - accuracy: 0.2610\n",
      "Epoch 17/32\n",
      "1771/1771 [==============================] - 7s 4ms/step - loss: 2.7419 - accuracy: 0.2616\n",
      "Epoch 18/32\n",
      "1771/1771 [==============================] - 8s 4ms/step - loss: 2.7419 - accuracy: 0.2607\n",
      "Epoch 19/32\n",
      "1771/1771 [==============================] - 8s 4ms/step - loss: 2.7395 - accuracy: 0.2616\n",
      "Epoch 20/32\n",
      "1771/1771 [==============================] - 8s 4ms/step - loss: 2.7362 - accuracy: 0.2619\n",
      "Epoch 21/32\n",
      "1771/1771 [==============================] - 8s 5ms/step - loss: 2.7401 - accuracy: 0.2617\n",
      "Epoch 22/32\n",
      "1771/1771 [==============================] - 8s 4ms/step - loss: 2.7374 - accuracy: 0.2624\n",
      "Epoch 23/32\n",
      "1771/1771 [==============================] - 8s 4ms/step - loss: 2.7400 - accuracy: 0.2615\n",
      "Epoch 24/32\n",
      "1771/1771 [==============================] - 8s 4ms/step - loss: 2.7364 - accuracy: 0.2632\n",
      "Epoch 25/32\n",
      "1771/1771 [==============================] - 8s 4ms/step - loss: 2.7405 - accuracy: 0.2610\n",
      "Epoch 26/32\n",
      "1771/1771 [==============================] - 7s 4ms/step - loss: 2.7423 - accuracy: 0.2614\n",
      "Epoch 27/32\n",
      "1771/1771 [==============================] - 8s 4ms/step - loss: 2.7347 - accuracy: 0.2632\n",
      "Epoch 28/32\n",
      "1771/1771 [==============================] - 8s 4ms/step - loss: 2.7377 - accuracy: 0.2619\n",
      "Epoch 29/32\n",
      "1771/1771 [==============================] - 8s 4ms/step - loss: 2.7335 - accuracy: 0.2626\n",
      "Epoch 30/32\n",
      "1771/1771 [==============================] - 8s 4ms/step - loss: 2.7386 - accuracy: 0.2607\n",
      "Epoch 31/32\n",
      "1771/1771 [==============================] - 8s 4ms/step - loss: 2.7389 - accuracy: 0.2619\n",
      "Epoch 32/32\n",
      "1771/1771 [==============================] - 7s 4ms/step - loss: 2.7378 - accuracy: 0.2620\n"
     ]
    },
    {
     "data": {
      "text/plain": [
       "<tensorflow.python.keras.callbacks.History at 0x7f60d106b780>"
      ]
     },
     "metadata": {},
     "output_type": "display_data"
    },
    {
     "name": "stdout",
     "output_type": "stream",
     "text": [
      "2517/2517 [==============================] - 4s 1ms/step - loss: 2.7875 - accuracy: 0.2458\n",
      "test loss, test acc: [2.787505626678467, 0.2458427995443344]\n",
      "\n",
      "\n",
      "Now validating on dialect: DR5\n",
      "Model: \"sequential_8\"\n",
      "_________________________________________________________________\n",
      "Layer (type)                 Output Shape              Param #   \n",
      "=================================================================\n",
      "dense_22 (Dense)             (None, 512)               2048      \n",
      "_________________________________________________________________\n",
      "dense_23 (Dense)             (None, 256)               131328    \n",
      "_________________________________________________________________\n",
      "dense_24 (Dense)             (None, 43)                11051     \n",
      "=================================================================\n",
      "Total params: 144,427\n",
      "Trainable params: 144,427\n",
      "Non-trainable params: 0\n",
      "_________________________________________________________________\n",
      "Epoch 1/32\n",
      "1748/1748 [==============================] - 9s 5ms/step - loss: 2.9582 - accuracy: 0.2302\n",
      "Epoch 2/32\n",
      "1748/1748 [==============================] - 9s 5ms/step - loss: 2.7882 - accuracy: 0.2511\n",
      "Epoch 3/32\n",
      "1748/1748 [==============================] - 8s 5ms/step - loss: 2.7744 - accuracy: 0.2546\n",
      "Epoch 4/32\n",
      "1748/1748 [==============================] - 8s 4ms/step - loss: 2.7667 - accuracy: 0.2562\n",
      "Epoch 5/32\n",
      "1748/1748 [==============================] - 7s 4ms/step - loss: 2.7581 - accuracy: 0.2574\n",
      "Epoch 6/32\n",
      "1748/1748 [==============================] - 8s 5ms/step - loss: 2.7596 - accuracy: 0.2564\n",
      "Epoch 7/32\n",
      "1748/1748 [==============================] - 8s 5ms/step - loss: 2.7538 - accuracy: 0.2575\n",
      "Epoch 8/32\n",
      "1748/1748 [==============================] - 8s 5ms/step - loss: 2.7501 - accuracy: 0.2589\n",
      "Epoch 9/32\n",
      "1748/1748 [==============================] - 9s 5ms/step - loss: 2.7497 - accuracy: 0.2588\n",
      "Epoch 10/32\n",
      "1748/1748 [==============================] - 8s 5ms/step - loss: 2.7471 - accuracy: 0.2589\n",
      "Epoch 11/32\n",
      "1748/1748 [==============================] - 8s 5ms/step - loss: 2.7482 - accuracy: 0.2591\n",
      "Epoch 12/32\n",
      "1748/1748 [==============================] - 9s 5ms/step - loss: 2.7480 - accuracy: 0.2591\n",
      "Epoch 13/32\n",
      "1748/1748 [==============================] - 8s 5ms/step - loss: 2.7452 - accuracy: 0.2597\n",
      "Epoch 14/32\n",
      "1748/1748 [==============================] - 8s 5ms/step - loss: 2.7451 - accuracy: 0.2601\n",
      "Epoch 15/32\n",
      "1748/1748 [==============================] - 9s 5ms/step - loss: 2.7475 - accuracy: 0.2589\n",
      "Epoch 16/32\n",
      "1748/1748 [==============================] - 9s 5ms/step - loss: 2.7464 - accuracy: 0.2594\n",
      "Epoch 17/32\n",
      "1748/1748 [==============================] - 8s 5ms/step - loss: 2.7433 - accuracy: 0.2602\n",
      "Epoch 18/32\n",
      "1748/1748 [==============================] - 8s 4ms/step - loss: 2.7453 - accuracy: 0.2602\n",
      "Epoch 19/32\n",
      "1748/1748 [==============================] - 8s 5ms/step - loss: 2.7395 - accuracy: 0.2610\n",
      "Epoch 20/32\n",
      "1748/1748 [==============================] - 8s 5ms/step - loss: 2.7448 - accuracy: 0.2588\n",
      "Epoch 21/32\n",
      "1748/1748 [==============================] - 8s 5ms/step - loss: 2.7405 - accuracy: 0.2608\n",
      "Epoch 22/32\n",
      "1748/1748 [==============================] - 8s 5ms/step - loss: 2.7453 - accuracy: 0.2601\n",
      "Epoch 23/32\n",
      "1748/1748 [==============================] - 9s 5ms/step - loss: 2.7399 - accuracy: 0.2604\n",
      "Epoch 24/32\n",
      "1748/1748 [==============================] - 8s 5ms/step - loss: 2.7459 - accuracy: 0.2588\n",
      "Epoch 25/32\n",
      "1748/1748 [==============================] - 8s 5ms/step - loss: 2.7423 - accuracy: 0.2608\n",
      "Epoch 26/32\n",
      "1748/1748 [==============================] - 8s 5ms/step - loss: 2.7397 - accuracy: 0.2604\n",
      "Epoch 27/32\n",
      "1748/1748 [==============================] - 8s 5ms/step - loss: 2.7402 - accuracy: 0.2604\n",
      "Epoch 28/32\n",
      "1748/1748 [==============================] - 9s 5ms/step - loss: 2.7397 - accuracy: 0.2607\n",
      "Epoch 29/32\n",
      "1748/1748 [==============================] - 8s 5ms/step - loss: 2.7405 - accuracy: 0.2598\n",
      "Epoch 30/32\n",
      "1748/1748 [==============================] - 8s 5ms/step - loss: 2.7368 - accuracy: 0.2606\n",
      "Epoch 31/32\n",
      "1748/1748 [==============================] - 8s 5ms/step - loss: 2.7377 - accuracy: 0.2611\n",
      "Epoch 32/32\n",
      "1748/1748 [==============================] - 9s 5ms/step - loss: 2.7392 - accuracy: 0.2602\n"
     ]
    },
    {
     "data": {
      "text/plain": [
       "<tensorflow.python.keras.callbacks.History at 0x7f60d10f9ac8>"
      ]
     },
     "metadata": {},
     "output_type": "display_data"
    },
    {
     "name": "stdout",
     "output_type": "stream",
     "text": [
      "2701/2701 [==============================] - 4s 2ms/step - loss: 2.7651 - accuracy: 0.2559\n",
      "test loss, test acc: [2.7651100158691406, 0.25588634610176086]\n",
      "\n",
      "\n",
      "Now validating on dialect: DR6\n",
      "Model: \"sequential_9\"\n",
      "_________________________________________________________________\n",
      "Layer (type)                 Output Shape              Param #   \n",
      "=================================================================\n",
      "dense_25 (Dense)             (None, 512)               2048      \n",
      "_________________________________________________________________\n",
      "dense_26 (Dense)             (None, 256)               131328    \n",
      "_________________________________________________________________\n",
      "dense_27 (Dense)             (None, 43)                11051     \n",
      "=================================================================\n",
      "Total params: 144,427\n",
      "Trainable params: 144,427\n",
      "Non-trainable params: 0\n",
      "_________________________________________________________________\n",
      "Epoch 1/32\n",
      "1923/1923 [==============================] - 10s 5ms/step - loss: 2.9531 - accuracy: 0.2287\n",
      "Epoch 2/32\n",
      "1923/1923 [==============================] - 9s 5ms/step - loss: 2.7844 - accuracy: 0.2521\n",
      "Epoch 3/32\n",
      "1923/1923 [==============================] - 9s 5ms/step - loss: 2.7719 - accuracy: 0.2559\n",
      "Epoch 4/32\n",
      "1923/1923 [==============================] - 10s 5ms/step - loss: 2.7666 - accuracy: 0.2551\n",
      "Epoch 5/32\n",
      "1923/1923 [==============================] - 9s 5ms/step - loss: 2.7631 - accuracy: 0.2564\n",
      "Epoch 6/32\n",
      "1923/1923 [==============================] - 9s 5ms/step - loss: 2.7569 - accuracy: 0.2573\n",
      "Epoch 7/32\n",
      "1923/1923 [==============================] - 10s 5ms/step - loss: 2.7548 - accuracy: 0.2583\n",
      "Epoch 8/32\n",
      "1923/1923 [==============================] - 9s 5ms/step - loss: 2.7550 - accuracy: 0.2581\n",
      "Epoch 9/32\n",
      "1923/1923 [==============================] - 10s 5ms/step - loss: 2.7531 - accuracy: 0.2577\n",
      "Epoch 10/32\n",
      "1923/1923 [==============================] - 9s 5ms/step - loss: 2.7518 - accuracy: 0.2581\n",
      "Epoch 11/32\n",
      "1923/1923 [==============================] - 9s 5ms/step - loss: 2.7476 - accuracy: 0.2592\n",
      "Epoch 12/32\n",
      "1923/1923 [==============================] - 9s 5ms/step - loss: 2.7505 - accuracy: 0.2584\n",
      "Epoch 13/32\n",
      "1923/1923 [==============================] - 9s 5ms/step - loss: 2.7494 - accuracy: 0.2583\n",
      "Epoch 14/32\n",
      "1923/1923 [==============================] - 9s 5ms/step - loss: 2.7495 - accuracy: 0.2578\n",
      "Epoch 15/32\n",
      "1923/1923 [==============================] - 9s 5ms/step - loss: 2.7474 - accuracy: 0.2588\n",
      "Epoch 16/32\n",
      "1923/1923 [==============================] - 8s 4ms/step - loss: 2.7487 - accuracy: 0.2584\n",
      "Epoch 17/32\n",
      "1923/1923 [==============================] - 8s 4ms/step - loss: 2.7479 - accuracy: 0.2579\n",
      "Epoch 18/32\n",
      "1923/1923 [==============================] - 8s 4ms/step - loss: 2.7434 - accuracy: 0.2600\n",
      "Epoch 19/32\n",
      "1923/1923 [==============================] - 9s 5ms/step - loss: 2.7458 - accuracy: 0.2588\n",
      "Epoch 20/32\n",
      "1923/1923 [==============================] - 9s 5ms/step - loss: 2.7447 - accuracy: 0.2595\n",
      "Epoch 21/32\n",
      "1923/1923 [==============================] - 9s 5ms/step - loss: 2.7428 - accuracy: 0.2598\n",
      "Epoch 22/32\n",
      "1923/1923 [==============================] - 9s 5ms/step - loss: 2.7420 - accuracy: 0.2615\n",
      "Epoch 23/32\n",
      "1923/1923 [==============================] - 8s 4ms/step - loss: 2.7466 - accuracy: 0.2592\n",
      "Epoch 24/32\n",
      "1923/1923 [==============================] - 9s 5ms/step - loss: 2.7433 - accuracy: 0.2591\n",
      "Epoch 25/32\n",
      "1923/1923 [==============================] - 9s 5ms/step - loss: 2.7428 - accuracy: 0.2602\n",
      "Epoch 26/32\n",
      "1923/1923 [==============================] - 9s 5ms/step - loss: 2.7417 - accuracy: 0.2604\n",
      "Epoch 27/32\n",
      "1923/1923 [==============================] - 9s 5ms/step - loss: 2.7435 - accuracy: 0.2594\n",
      "Epoch 28/32\n",
      "1923/1923 [==============================] - 9s 5ms/step - loss: 2.7455 - accuracy: 0.2596\n",
      "Epoch 29/32\n",
      "1923/1923 [==============================] - 9s 5ms/step - loss: 2.7464 - accuracy: 0.2590\n",
      "Epoch 30/32\n",
      "1923/1923 [==============================] - 9s 5ms/step - loss: 2.7458 - accuracy: 0.2586\n",
      "Epoch 31/32\n",
      "1923/1923 [==============================] - 9s 5ms/step - loss: 2.7423 - accuracy: 0.2598\n",
      "Epoch 32/32\n",
      "1923/1923 [==============================] - 9s 5ms/step - loss: 2.7428 - accuracy: 0.2594\n"
     ]
    },
    {
     "data": {
      "text/plain": [
       "<tensorflow.python.keras.callbacks.History at 0x7f60d10759e8>"
      ]
     },
     "metadata": {},
     "output_type": "display_data"
    },
    {
     "name": "stdout",
     "output_type": "stream",
     "text": [
      "1295/1295 [==============================] - 2s 2ms/step - loss: 2.7461 - accuracy: 0.2648\n",
      "test loss, test acc: [2.7461373805999756, 0.2648336887359619]\n",
      "\n",
      "\n",
      "Now validating on dialect: DR7\n",
      "Model: \"sequential_10\"\n",
      "_________________________________________________________________\n",
      "Layer (type)                 Output Shape              Param #   \n",
      "=================================================================\n",
      "dense_28 (Dense)             (None, 512)               2048      \n",
      "_________________________________________________________________\n",
      "dense_29 (Dense)             (None, 256)               131328    \n",
      "_________________________________________________________________\n",
      "dense_30 (Dense)             (None, 43)                11051     \n",
      "=================================================================\n",
      "Total params: 144,427\n",
      "Trainable params: 144,427\n",
      "Non-trainable params: 0\n",
      "_________________________________________________________________\n",
      "Epoch 1/32\n",
      "1747/1747 [==============================] - 9s 5ms/step - loss: 2.9612 - accuracy: 0.2290\n",
      "Epoch 2/32\n",
      "1747/1747 [==============================] - 8s 5ms/step - loss: 2.7923 - accuracy: 0.2509\n",
      "Epoch 3/32\n",
      "1747/1747 [==============================] - 8s 5ms/step - loss: 2.7781 - accuracy: 0.2545\n",
      "Epoch 4/32\n",
      "1747/1747 [==============================] - 9s 5ms/step - loss: 2.7712 - accuracy: 0.2553\n",
      "Epoch 5/32\n",
      "1747/1747 [==============================] - 9s 5ms/step - loss: 2.7664 - accuracy: 0.2566\n",
      "Epoch 6/32\n",
      "1747/1747 [==============================] - 8s 5ms/step - loss: 2.7622 - accuracy: 0.2571\n",
      "Epoch 7/32\n",
      "1747/1747 [==============================] - 8s 5ms/step - loss: 2.7654 - accuracy: 0.2560\n",
      "Epoch 8/32\n",
      "1747/1747 [==============================] - 8s 5ms/step - loss: 2.7581 - accuracy: 0.2573\n",
      "Epoch 9/32\n",
      "1747/1747 [==============================] - 8s 5ms/step - loss: 2.7566 - accuracy: 0.2576\n",
      "Epoch 10/32\n",
      "1747/1747 [==============================] - 9s 5ms/step - loss: 2.7549 - accuracy: 0.2575\n",
      "Epoch 11/32\n",
      "1747/1747 [==============================] - 8s 5ms/step - loss: 2.7575 - accuracy: 0.2568\n",
      "Epoch 12/32\n",
      "1747/1747 [==============================] - 8s 5ms/step - loss: 2.7565 - accuracy: 0.2576\n",
      "Epoch 13/32\n",
      "1747/1747 [==============================] - 8s 5ms/step - loss: 2.7526 - accuracy: 0.2581\n",
      "Epoch 14/32\n",
      "1747/1747 [==============================] - 8s 5ms/step - loss: 2.7491 - accuracy: 0.2585\n",
      "Epoch 15/32\n",
      "1747/1747 [==============================] - 8s 5ms/step - loss: 2.7517 - accuracy: 0.2582\n",
      "Epoch 16/32\n",
      "1747/1747 [==============================] - 9s 5ms/step - loss: 2.7547 - accuracy: 0.2575\n",
      "Epoch 17/32\n",
      "1747/1747 [==============================] - 8s 5ms/step - loss: 2.7526 - accuracy: 0.2579\n",
      "Epoch 18/32\n",
      "1747/1747 [==============================] - 7s 4ms/step - loss: 2.7534 - accuracy: 0.2575\n",
      "Epoch 19/32\n",
      "1747/1747 [==============================] - 7s 4ms/step - loss: 2.7503 - accuracy: 0.2598\n",
      "Epoch 20/32\n",
      "1747/1747 [==============================] - 8s 5ms/step - loss: 2.7490 - accuracy: 0.2581\n",
      "Epoch 21/32\n",
      "1747/1747 [==============================] - 8s 5ms/step - loss: 2.7495 - accuracy: 0.2582\n",
      "Epoch 22/32\n",
      "1747/1747 [==============================] - 8s 5ms/step - loss: 2.7519 - accuracy: 0.2576\n",
      "Epoch 23/32\n",
      "1747/1747 [==============================] - 8s 5ms/step - loss: 2.7508 - accuracy: 0.2579\n",
      "Epoch 24/32\n",
      "1747/1747 [==============================] - 9s 5ms/step - loss: 2.7508 - accuracy: 0.2589\n",
      "Epoch 25/32\n",
      "1747/1747 [==============================] - 8s 5ms/step - loss: 2.7493 - accuracy: 0.2589\n",
      "Epoch 26/32\n",
      "1747/1747 [==============================] - 8s 5ms/step - loss: 2.7503 - accuracy: 0.2598\n",
      "Epoch 27/32\n",
      "1747/1747 [==============================] - 8s 4ms/step - loss: 2.7502 - accuracy: 0.2587\n",
      "Epoch 28/32\n",
      "1747/1747 [==============================] - 7s 4ms/step - loss: 2.7487 - accuracy: 0.2584\n",
      "Epoch 29/32\n",
      "1747/1747 [==============================] - 7s 4ms/step - loss: 2.7493 - accuracy: 0.2586\n",
      "Epoch 30/32\n",
      "1747/1747 [==============================] - 7s 4ms/step - loss: 2.7477 - accuracy: 0.2593\n",
      "Epoch 31/32\n",
      "1747/1747 [==============================] - 7s 4ms/step - loss: 2.7482 - accuracy: 0.2594\n",
      "Epoch 32/32\n",
      "1747/1747 [==============================] - 7s 4ms/step - loss: 2.7503 - accuracy: 0.2582\n"
     ]
    },
    {
     "data": {
      "text/plain": [
       "<tensorflow.python.keras.callbacks.History at 0x7f60d103f748>"
      ]
     },
     "metadata": {},
     "output_type": "display_data"
    },
    {
     "name": "stdout",
     "output_type": "stream",
     "text": [
      "2707/2707 [==============================] - 5s 2ms/step - loss: 2.7241 - accuracy: 0.2646\n",
      "test loss, test acc: [2.724114418029785, 0.26456424593925476]\n",
      "\n",
      "\n",
      "Now validating on dialect: DR8\n",
      "Model: \"sequential_11\"\n",
      "_________________________________________________________________\n",
      "Layer (type)                 Output Shape              Param #   \n",
      "=================================================================\n",
      "dense_31 (Dense)             (None, 512)               2048      \n",
      "_________________________________________________________________\n",
      "dense_32 (Dense)             (None, 256)               131328    \n",
      "_________________________________________________________________\n",
      "dense_33 (Dense)             (None, 43)                11051     \n",
      "=================================================================\n",
      "Total params: 144,427\n",
      "Trainable params: 144,427\n",
      "Non-trainable params: 0\n",
      "_________________________________________________________________\n",
      "Epoch 1/32\n",
      "1993/1993 [==============================] - 10s 5ms/step - loss: 2.9427 - accuracy: 0.2313\n",
      "Epoch 2/32\n",
      "1993/1993 [==============================] - 10s 5ms/step - loss: 2.7848 - accuracy: 0.2525\n",
      "Epoch 3/32\n",
      "1993/1993 [==============================] - 9s 5ms/step - loss: 2.7758 - accuracy: 0.2540\n",
      "Epoch 4/32\n",
      "1993/1993 [==============================] - 9s 5ms/step - loss: 2.7659 - accuracy: 0.2562\n",
      "Epoch 5/32\n",
      "1993/1993 [==============================] - 9s 4ms/step - loss: 2.7643 - accuracy: 0.2554\n",
      "Epoch 6/32\n",
      "1993/1993 [==============================] - 9s 4ms/step - loss: 2.7586 - accuracy: 0.2575\n",
      "Epoch 7/32\n",
      "1993/1993 [==============================] - 9s 4ms/step - loss: 2.7566 - accuracy: 0.2571\n",
      "Epoch 8/32\n",
      "1993/1993 [==============================] - 8s 4ms/step - loss: 2.7547 - accuracy: 0.2580\n",
      "Epoch 9/32\n",
      "1993/1993 [==============================] - 9s 5ms/step - loss: 2.7513 - accuracy: 0.2583\n",
      "Epoch 10/32\n",
      "1993/1993 [==============================] - 9s 4ms/step - loss: 2.7503 - accuracy: 0.2592\n",
      "Epoch 11/32\n",
      "1993/1993 [==============================] - 9s 4ms/step - loss: 2.7493 - accuracy: 0.2588\n",
      "Epoch 12/32\n",
      "1993/1993 [==============================] - 8s 4ms/step - loss: 2.7523 - accuracy: 0.2577\n",
      "Epoch 13/32\n",
      "1993/1993 [==============================] - 10s 5ms/step - loss: 2.7481 - accuracy: 0.2593\n",
      "Epoch 14/32\n",
      "1993/1993 [==============================] - 10s 5ms/step - loss: 2.7460 - accuracy: 0.2591\n",
      "Epoch 15/32\n",
      "1993/1993 [==============================] - 9s 4ms/step - loss: 2.7453 - accuracy: 0.2593\n",
      "Epoch 16/32\n",
      "1993/1993 [==============================] - 9s 5ms/step - loss: 2.7484 - accuracy: 0.2585\n",
      "Epoch 17/32\n",
      "1993/1993 [==============================] - 8s 4ms/step - loss: 2.7484 - accuracy: 0.2596\n",
      "Epoch 18/32\n",
      "1993/1993 [==============================] - 8s 4ms/step - loss: 2.7474 - accuracy: 0.2599\n",
      "Epoch 19/32\n",
      "1993/1993 [==============================] - 9s 4ms/step - loss: 2.7477 - accuracy: 0.2585\n",
      "Epoch 20/32\n",
      "1993/1993 [==============================] - 9s 4ms/step - loss: 2.7482 - accuracy: 0.2579\n",
      "Epoch 21/32\n",
      "1993/1993 [==============================] - 8s 4ms/step - loss: 2.7450 - accuracy: 0.2593\n",
      "Epoch 22/32\n",
      "1993/1993 [==============================] - 7s 4ms/step - loss: 2.7458 - accuracy: 0.2593\n",
      "Epoch 23/32\n",
      "1993/1993 [==============================] - 8s 4ms/step - loss: 2.7454 - accuracy: 0.2592\n",
      "Epoch 24/32\n",
      "1993/1993 [==============================] - 9s 5ms/step - loss: 2.7437 - accuracy: 0.2599\n",
      "Epoch 25/32\n",
      "1993/1993 [==============================] - 10s 5ms/step - loss: 2.7459 - accuracy: 0.2595\n",
      "Epoch 26/32\n",
      "1993/1993 [==============================] - 9s 5ms/step - loss: 2.7425 - accuracy: 0.2604\n",
      "Epoch 27/32\n",
      "1993/1993 [==============================] - 9s 5ms/step - loss: 2.7442 - accuracy: 0.2595\n",
      "Epoch 28/32\n",
      "1993/1993 [==============================] - 8s 4ms/step - loss: 2.7448 - accuracy: 0.2593\n",
      "Epoch 29/32\n",
      "1993/1993 [==============================] - 8s 4ms/step - loss: 2.7400 - accuracy: 0.2607\n",
      "Epoch 30/32\n",
      "1993/1993 [==============================] - 9s 4ms/step - loss: 2.7468 - accuracy: 0.2588\n",
      "Epoch 31/32\n",
      "1993/1993 [==============================] - 8s 4ms/step - loss: 2.7432 - accuracy: 0.2599\n",
      "Epoch 32/32\n",
      "1993/1993 [==============================] - 8s 4ms/step - loss: 2.7446 - accuracy: 0.2592\n"
     ]
    },
    {
     "data": {
      "text/plain": [
       "<tensorflow.python.keras.callbacks.History at 0x7f60d0fbf3c8>"
      ]
     },
     "metadata": {},
     "output_type": "display_data"
    },
    {
     "name": "stdout",
     "output_type": "stream",
     "text": [
      "740/740 [==============================] - 1s 2ms/step - loss: 2.7262 - accuracy: 0.2665\n",
      "test loss, test acc: [2.7261714935302734, 0.2665202021598816]\n",
      "\n",
      "Done!\n",
      "[[2.7368481159210205, 0.26732170581817627], [2.739569664001465, 0.25986436009407043], [2.7429392337799072, 0.25973647832870483], [2.787505626678467, 0.2458427995443344], [2.7651100158691406, 0.25588634610176086], [2.7461373805999756, 0.2648336887359619], [2.724114418029785, 0.26456424593925476], [2.7261714935302734, 0.2665202021598816]]\n"
     ]
    }
   ],
   "source": [
    "dialects = pd.unique(skype_data_train.dialect)\n",
    "\n",
    "results = []\n",
    "\n",
    "for dialect in dialects:\n",
    "    print(\"\\n\\nNow validating on dialect:\", dialect)\n",
    "    \n",
    "    set_train = train_set.loc[single_phonemes_train[\"dialect\"] != dialect]\n",
    "    label_train = train_labels[single_phonemes_train[\"dialect\"] != dialect]\n",
    "    \n",
    "    validation_set = train_set.loc[single_phonemes_train[\"dialect\"] == dialect]\n",
    "    validation_labels = train_labels[single_phonemes_train[\"dialect\"] == dialect]\n",
    "    \n",
    "    model = create_model(total_unique_phonemes)\n",
    "    \n",
    "    display(model.fit(set_train, label_train, epochs=32, batch_size=256))\n",
    "    \n",
    "    result = model.evaluate(validation_set, validation_labels)\n",
    "    results.extend([result]) # remake to a dictionary\n",
    "    \n",
    "    print(\"test loss, test acc:\", result)\n",
    "print(\"\\nDone!\")\n",
    "\n",
    "print(results)"
   ]
  },
  {
   "cell_type": "code",
   "execution_count": null,
   "metadata": {},
   "outputs": [],
   "source": []
  }
 ],
 "metadata": {
  "kernelspec": {
   "display_name": "Python 3",
   "language": "python",
   "name": "python3"
  },
  "language_info": {
   "codemirror_mode": {
    "name": "ipython",
    "version": 3
   },
   "file_extension": ".py",
   "mimetype": "text/x-python",
   "name": "python",
   "nbconvert_exporter": "python",
   "pygments_lexer": "ipython3",
   "version": "3.6.8"
  }
 },
 "nbformat": 4,
 "nbformat_minor": 4
}
